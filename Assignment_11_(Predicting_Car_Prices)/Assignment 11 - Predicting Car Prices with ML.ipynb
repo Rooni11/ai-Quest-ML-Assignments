{
 "cells": [
  {
   "cell_type": "markdown",
   "id": "116c7016",
   "metadata": {},
   "source": [
    "<h1 style=\"color:green\" align=\"center\">Assignment 11 - Predicting Car Prices with ML</h1>"
   ]
  },
  {
   "cell_type": "markdown",
   "id": "3afd27d7",
   "metadata": {},
   "source": [
    "### Import Libraries"
   ]
  },
  {
   "cell_type": "code",
   "execution_count": 1,
   "id": "9cce39c9",
   "metadata": {},
   "outputs": [],
   "source": [
    "import pandas as pd\n",
    "import numpy as np\n",
    "\n",
    "from sklearn.model_selection import train_test_split\n",
    "from sklearn.linear_model import LinearRegression\n",
    "from sklearn.preprocessing import LabelEncoder,StandardScaler\n",
    "from sklearn.metrics import mean_squared_error, mean_absolute_error, r2_score\n",
    "import math\n",
    "\n",
    "import matplotlib.pyplot as plt\n",
    "import seaborn as sns\n",
    "\n",
    "from word2number import w2n\n",
    "from termcolor import colored\n",
    "\n",
    "import warnings as wr\n",
    "wr.filterwarnings('ignore')"
   ]
  },
  {
   "cell_type": "markdown",
   "id": "0e7e38be",
   "metadata": {},
   "source": [
    "### Data Loading:"
   ]
  },
  {
   "cell_type": "code",
   "execution_count": 2,
   "id": "9eae1925",
   "metadata": {},
   "outputs": [
    {
     "data": {
      "text/html": [
       "<div>\n",
       "<style scoped>\n",
       "    .dataframe tbody tr th:only-of-type {\n",
       "        vertical-align: middle;\n",
       "    }\n",
       "\n",
       "    .dataframe tbody tr th {\n",
       "        vertical-align: top;\n",
       "    }\n",
       "\n",
       "    .dataframe thead th {\n",
       "        text-align: right;\n",
       "    }\n",
       "</style>\n",
       "<table border=\"1\" class=\"dataframe\">\n",
       "  <thead>\n",
       "    <tr style=\"text-align: right;\">\n",
       "      <th></th>\n",
       "      <th>symboling</th>\n",
       "      <th>normalized-losses</th>\n",
       "      <th>make</th>\n",
       "      <th>fuel-type</th>\n",
       "      <th>aspiration</th>\n",
       "      <th>num-of-doors</th>\n",
       "      <th>body-style</th>\n",
       "      <th>drive-wheels</th>\n",
       "      <th>engine-location</th>\n",
       "      <th>wheel-base</th>\n",
       "      <th>...</th>\n",
       "      <th>engine-size</th>\n",
       "      <th>fuel-system</th>\n",
       "      <th>bore</th>\n",
       "      <th>stroke</th>\n",
       "      <th>compression-ratio</th>\n",
       "      <th>horsepower</th>\n",
       "      <th>peak-rpm</th>\n",
       "      <th>city-mpg</th>\n",
       "      <th>highway-mpg</th>\n",
       "      <th>price</th>\n",
       "    </tr>\n",
       "  </thead>\n",
       "  <tbody>\n",
       "    <tr>\n",
       "      <th>0</th>\n",
       "      <td>3</td>\n",
       "      <td>NaN</td>\n",
       "      <td>alfa-romero</td>\n",
       "      <td>gas</td>\n",
       "      <td>std</td>\n",
       "      <td>two</td>\n",
       "      <td>convertible</td>\n",
       "      <td>rwd</td>\n",
       "      <td>front</td>\n",
       "      <td>88.6</td>\n",
       "      <td>...</td>\n",
       "      <td>130</td>\n",
       "      <td>mpfi</td>\n",
       "      <td>3.47</td>\n",
       "      <td>2.68</td>\n",
       "      <td>9.0</td>\n",
       "      <td>111</td>\n",
       "      <td>5000</td>\n",
       "      <td>21</td>\n",
       "      <td>27</td>\n",
       "      <td>13495</td>\n",
       "    </tr>\n",
       "    <tr>\n",
       "      <th>1</th>\n",
       "      <td>3</td>\n",
       "      <td>NaN</td>\n",
       "      <td>alfa-romero</td>\n",
       "      <td>gas</td>\n",
       "      <td>std</td>\n",
       "      <td>two</td>\n",
       "      <td>convertible</td>\n",
       "      <td>rwd</td>\n",
       "      <td>front</td>\n",
       "      <td>88.6</td>\n",
       "      <td>...</td>\n",
       "      <td>130</td>\n",
       "      <td>mpfi</td>\n",
       "      <td>3.47</td>\n",
       "      <td>2.68</td>\n",
       "      <td>9.0</td>\n",
       "      <td>111</td>\n",
       "      <td>5000</td>\n",
       "      <td>21</td>\n",
       "      <td>27</td>\n",
       "      <td>16500</td>\n",
       "    </tr>\n",
       "    <tr>\n",
       "      <th>2</th>\n",
       "      <td>1</td>\n",
       "      <td>NaN</td>\n",
       "      <td>alfa-romero</td>\n",
       "      <td>gas</td>\n",
       "      <td>std</td>\n",
       "      <td>two</td>\n",
       "      <td>hatchback</td>\n",
       "      <td>rwd</td>\n",
       "      <td>front</td>\n",
       "      <td>94.5</td>\n",
       "      <td>...</td>\n",
       "      <td>152</td>\n",
       "      <td>mpfi</td>\n",
       "      <td>2.68</td>\n",
       "      <td>3.47</td>\n",
       "      <td>9.0</td>\n",
       "      <td>154</td>\n",
       "      <td>5000</td>\n",
       "      <td>19</td>\n",
       "      <td>26</td>\n",
       "      <td>16500</td>\n",
       "    </tr>\n",
       "    <tr>\n",
       "      <th>3</th>\n",
       "      <td>2</td>\n",
       "      <td>164.0</td>\n",
       "      <td>audi</td>\n",
       "      <td>gas</td>\n",
       "      <td>std</td>\n",
       "      <td>four</td>\n",
       "      <td>sedan</td>\n",
       "      <td>fwd</td>\n",
       "      <td>front</td>\n",
       "      <td>99.8</td>\n",
       "      <td>...</td>\n",
       "      <td>109</td>\n",
       "      <td>mpfi</td>\n",
       "      <td>3.19</td>\n",
       "      <td>3.4</td>\n",
       "      <td>10.0</td>\n",
       "      <td>102</td>\n",
       "      <td>5500</td>\n",
       "      <td>24</td>\n",
       "      <td>30</td>\n",
       "      <td>13950</td>\n",
       "    </tr>\n",
       "    <tr>\n",
       "      <th>4</th>\n",
       "      <td>2</td>\n",
       "      <td>164.0</td>\n",
       "      <td>audi</td>\n",
       "      <td>gas</td>\n",
       "      <td>std</td>\n",
       "      <td>four</td>\n",
       "      <td>sedan</td>\n",
       "      <td>4wd</td>\n",
       "      <td>front</td>\n",
       "      <td>99.4</td>\n",
       "      <td>...</td>\n",
       "      <td>136</td>\n",
       "      <td>mpfi</td>\n",
       "      <td>3.19</td>\n",
       "      <td>3.4</td>\n",
       "      <td>8.0</td>\n",
       "      <td>115</td>\n",
       "      <td>5500</td>\n",
       "      <td>18</td>\n",
       "      <td>22</td>\n",
       "      <td>17450</td>\n",
       "    </tr>\n",
       "    <tr>\n",
       "      <th>5</th>\n",
       "      <td>2</td>\n",
       "      <td>NaN</td>\n",
       "      <td>audi</td>\n",
       "      <td>gas</td>\n",
       "      <td>std</td>\n",
       "      <td>two</td>\n",
       "      <td>sedan</td>\n",
       "      <td>fwd</td>\n",
       "      <td>front</td>\n",
       "      <td>99.8</td>\n",
       "      <td>...</td>\n",
       "      <td>136</td>\n",
       "      <td>mpfi</td>\n",
       "      <td>3.19</td>\n",
       "      <td>3.4</td>\n",
       "      <td>8.5</td>\n",
       "      <td>110</td>\n",
       "      <td>5500</td>\n",
       "      <td>19</td>\n",
       "      <td>25</td>\n",
       "      <td>15250</td>\n",
       "    </tr>\n",
       "  </tbody>\n",
       "</table>\n",
       "<p>6 rows × 26 columns</p>\n",
       "</div>"
      ],
      "text/plain": [
       "   symboling  normalized-losses         make fuel-type aspiration  \\\n",
       "0          3                NaN  alfa-romero       gas        std   \n",
       "1          3                NaN  alfa-romero       gas        std   \n",
       "2          1                NaN  alfa-romero       gas        std   \n",
       "3          2              164.0         audi       gas        std   \n",
       "4          2              164.0         audi       gas        std   \n",
       "5          2                NaN         audi       gas        std   \n",
       "\n",
       "  num-of-doors   body-style drive-wheels engine-location  wheel-base  ...  \\\n",
       "0          two  convertible          rwd           front        88.6  ...   \n",
       "1          two  convertible          rwd           front        88.6  ...   \n",
       "2          two    hatchback          rwd           front        94.5  ...   \n",
       "3         four        sedan          fwd           front        99.8  ...   \n",
       "4         four        sedan          4wd           front        99.4  ...   \n",
       "5          two        sedan          fwd           front        99.8  ...   \n",
       "\n",
       "   engine-size  fuel-system  bore  stroke compression-ratio horsepower  \\\n",
       "0          130         mpfi  3.47    2.68               9.0        111   \n",
       "1          130         mpfi  3.47    2.68               9.0        111   \n",
       "2          152         mpfi  2.68    3.47               9.0        154   \n",
       "3          109         mpfi  3.19     3.4              10.0        102   \n",
       "4          136         mpfi  3.19     3.4               8.0        115   \n",
       "5          136         mpfi  3.19     3.4               8.5        110   \n",
       "\n",
       "   peak-rpm city-mpg highway-mpg  price  \n",
       "0      5000       21          27  13495  \n",
       "1      5000       21          27  16500  \n",
       "2      5000       19          26  16500  \n",
       "3      5500       24          30  13950  \n",
       "4      5500       18          22  17450  \n",
       "5      5500       19          25  15250  \n",
       "\n",
       "[6 rows x 26 columns]"
      ]
     },
     "execution_count": 2,
     "metadata": {},
     "output_type": "execute_result"
    }
   ],
   "source": [
    "url = 'https://raw.githubusercontent.com/rashakil-ds/Public-Datasets/main/automobile.csv'\n",
    "data = pd.read_csv(url)\n",
    "data.head(6)"
   ]
  },
  {
   "cell_type": "code",
   "execution_count": 3,
   "id": "4d50c06a",
   "metadata": {},
   "outputs": [
    {
     "data": {
      "text/plain": [
       "Index(['symboling', 'normalized-losses', 'make', 'fuel-type', 'aspiration',\n",
       "       'num-of-doors', 'body-style', 'drive-wheels', 'engine-location',\n",
       "       'wheel-base', 'length', 'width', 'height', 'curb-weight', 'engine-type',\n",
       "       'num-of-cylinders', 'engine-size', 'fuel-system', 'bore', 'stroke',\n",
       "       'compression-ratio', 'horsepower', 'peak-rpm', 'city-mpg',\n",
       "       'highway-mpg', 'price'],\n",
       "      dtype='object')"
      ]
     },
     "execution_count": 3,
     "metadata": {},
     "output_type": "execute_result"
    }
   ],
   "source": [
    "data.columns"
   ]
  },
  {
   "cell_type": "code",
   "execution_count": 4,
   "id": "0f39eab7",
   "metadata": {},
   "outputs": [
    {
     "data": {
      "text/plain": [
       "(202, 26)"
      ]
     },
     "execution_count": 4,
     "metadata": {},
     "output_type": "execute_result"
    }
   ],
   "source": [
    "data.shape"
   ]
  },
  {
   "cell_type": "code",
   "execution_count": 5,
   "id": "26e78d62",
   "metadata": {},
   "outputs": [
    {
     "name": "stdout",
     "output_type": "stream",
     "text": [
      "<class 'pandas.core.frame.DataFrame'>\n",
      "RangeIndex: 202 entries, 0 to 201\n",
      "Data columns (total 26 columns):\n",
      " #   Column             Non-Null Count  Dtype  \n",
      "---  ------             --------------  -----  \n",
      " 0   symboling          202 non-null    int64  \n",
      " 1   normalized-losses  165 non-null    float64\n",
      " 2   make               202 non-null    object \n",
      " 3   fuel-type          202 non-null    object \n",
      " 4   aspiration         202 non-null    object \n",
      " 5   num-of-doors       200 non-null    object \n",
      " 6   body-style         202 non-null    object \n",
      " 7   drive-wheels       202 non-null    object \n",
      " 8   engine-location    202 non-null    object \n",
      " 9   wheel-base         202 non-null    float64\n",
      " 10  length             202 non-null    float64\n",
      " 11  width              202 non-null    float64\n",
      " 12  height             202 non-null    float64\n",
      " 13  curb-weight        202 non-null    int64  \n",
      " 14  engine-type        202 non-null    object \n",
      " 15  num-of-cylinders   202 non-null    object \n",
      " 16  engine-size        202 non-null    int64  \n",
      " 17  fuel-system        202 non-null    object \n",
      " 18  bore               202 non-null    object \n",
      " 19  stroke             202 non-null    object \n",
      " 20  compression-ratio  202 non-null    float64\n",
      " 21  horsepower         202 non-null    object \n",
      " 22  peak-rpm           202 non-null    object \n",
      " 23  city-mpg           202 non-null    int64  \n",
      " 24  highway-mpg        202 non-null    int64  \n",
      " 25  price              202 non-null    int64  \n",
      "dtypes: float64(6), int64(6), object(14)\n",
      "memory usage: 41.2+ KB\n"
     ]
    }
   ],
   "source": [
    "data.info()"
   ]
  },
  {
   "cell_type": "code",
   "execution_count": 6,
   "id": "5591f72d",
   "metadata": {},
   "outputs": [
    {
     "data": {
      "text/plain": [
       "symboling             0\n",
       "normalized-losses    37\n",
       "make                  0\n",
       "fuel-type             0\n",
       "aspiration            0\n",
       "num-of-doors          2\n",
       "body-style            0\n",
       "drive-wheels          0\n",
       "engine-location       0\n",
       "wheel-base            0\n",
       "length                0\n",
       "width                 0\n",
       "height                0\n",
       "curb-weight           0\n",
       "engine-type           0\n",
       "num-of-cylinders      0\n",
       "engine-size           0\n",
       "fuel-system           0\n",
       "bore                  0\n",
       "stroke                0\n",
       "compression-ratio     0\n",
       "horsepower            0\n",
       "peak-rpm              0\n",
       "city-mpg              0\n",
       "highway-mpg           0\n",
       "price                 0\n",
       "dtype: int64"
      ]
     },
     "execution_count": 6,
     "metadata": {},
     "output_type": "execute_result"
    }
   ],
   "source": [
    "data.isnull().sum()"
   ]
  },
  {
   "cell_type": "markdown",
   "id": "5a371aff",
   "metadata": {},
   "source": [
    "##  Pre-processing: Handling Wrong Enteries"
   ]
  },
  {
   "cell_type": "code",
   "execution_count": 7,
   "id": "875c1527",
   "metadata": {},
   "outputs": [
    {
     "name": "stdout",
     "output_type": "stream",
     "text": [
      "symboling :[ 3  1  2  0 -1 -2]\n",
      "normalized-losses :[ nan 164. 158. 192. 188. 121.  98.  81. 118. 148. 110. 145. 137. 101.\n",
      "  78. 106.  85. 107. 104. 113. 150. 129. 115.  93. 142. 161. 153. 125.\n",
      " 128. 122. 103. 168. 108. 194. 231. 119. 154.  74. 186.  83. 102.  89.\n",
      "  87.  77.  91. 134.  65. 197.  90.  94. 256.  95.]\n",
      "make :['alfa-romero' 'audi' 'bmw' 'chevrolet' 'dodge' 'honda' 'isuzu' 'jaguar'\n",
      " 'mazda' 'mercedes-benz' 'mercury' 'mitsubishi' 'nissan' 'peugot'\n",
      " 'plymouth' 'porsche' 'renault' 'saab' 'subaru' 'toyota' 'volkswagen'\n",
      " 'volvo']\n",
      "fuel-type :['gas' 'diesel']\n",
      "aspiration :['std' 'turbo']\n",
      "num-of-doors :['two' 'four' nan]\n",
      "body-style :['convertible' 'hatchback' 'sedan' 'wagon' 'hardtop']\n",
      "drive-wheels :['rwd' 'fwd' '4wd']\n",
      "engine-location :['front' 'rear']\n",
      "wheel-base :[ 88.6  94.5  99.8  99.4 105.8 101.2 103.5 110.   88.4  93.7 103.3  95.9\n",
      "  86.6  96.5  94.3  96.  113.  102.   93.1  95.3  98.8 104.9 106.7 115.6\n",
      "  96.6 120.9 112.  102.7  93.   96.3  95.1  97.2 100.4  91.3  99.2 107.9\n",
      " 114.2 108.   89.5  96.1  99.1  93.3  97.   96.9  95.7  98.4 102.4 102.9\n",
      " 104.5  97.3 104.3 109.1]\n",
      "length :[168.8 171.2 176.6 177.3 192.7 176.8 189.  193.8 197.  141.1 155.9 158.8\n",
      " 157.3 174.6 173.2 144.6 150.  163.4 157.1 167.5 175.4 169.1 170.7 172.6\n",
      " 199.6 191.7 159.1 166.8 169.  177.8 175.  190.9 187.5 202.6 180.3 208.1\n",
      " 199.2 178.4 173.  172.4 165.3 170.2 165.6 162.4 173.4 181.7 184.6 178.5\n",
      " 186.7 198.9 167.3 168.9 181.5 186.6 156.9 157.9 172.  173.5 173.6 158.7\n",
      " 169.7 166.3 168.7 176.2 175.6 183.5 187.8 171.7 159.3 165.7 180.2 183.1\n",
      " 188.8]\n",
      "width :[64.1 65.5 66.2 66.4 66.3 71.4 64.8 66.9 67.9 70.9 60.3 63.6 63.8 64.6\n",
      " 63.9 64.  65.2 62.5 66.  61.8 69.6 70.6 64.2 65.7 66.5 66.1 70.3 71.7\n",
      " 70.5 72.  68.  64.4 65.4 68.4 68.3 65.  66.6 63.4 65.6 67.7 67.2 68.9\n",
      " 68.8]\n",
      "height :[48.8 52.4 54.3 53.1 55.7 55.9 53.7 56.3 53.2 52.  50.8 50.6 59.8 50.2\n",
      " 52.6 54.5 58.3 53.3 54.1 51.  53.5 51.4 52.8 47.8 49.6 55.5 54.4 56.5\n",
      " 58.7 54.9 56.7 55.4 54.8 49.4 51.6 54.7 55.1 56.1 49.7 56.  55.2 50.5\n",
      " 52.5 53.  59.1 53.9 55.6 56.2 57.5]\n",
      "curb-weight :[2548 2823 2337 2824 2507 2844 2954 3086 2395 2710 2765 3055 3230 3380\n",
      " 3505 1488 1874 1909 1876 2128 1967 1989 2191 2535 2811 1713 1819 1837\n",
      " 1940 1956 2010 2024 2236 2289 2304 2372 2465 2293 2734 4066 3950 1890\n",
      " 1900 1905 1945 1950 2380 2385 2500 2410 2443 2425 2670 2700 3515 3750\n",
      " 3495 3770 3740 3685 3900 3715 2910 1918 1944 2004 2145 2370 2328 2833\n",
      " 2921 2926 2365 2405 2403 1889 2017 1938 1951 2028 1971 2037 2008 2324\n",
      " 2302 3095 3296 3060 3071 3139 3020 3197 3430 3075 3252 3285 3485 3130\n",
      " 2818 2778 2756 2800 2579 2460 2658 2695 2707 2758 2808 2847 2050 2120\n",
      " 2240 2190 2340 2510 2290 2455 2420 2650 1985 2040 2015 2280 3110 2081\n",
      " 2109 2275 2094 2122 2140 2169 2204 2265 2300 2540 2536 2551 2679 2714\n",
      " 2975 2326 2480 2414 2458 2976 3016 3131 3151 2261 2209 2264 2212 2319\n",
      " 2254 2221 2661 2563 2912 3034 2935 3042 3045 3157 2952 3049 3012 3217\n",
      " 3062]\n",
      "engine-type :['dohc' 'ohcv' 'ohc' 'l' 'rotor' 'ohcf']\n",
      "num-of-cylinders :['four' 'six' 'five' 'three' 'twelve' 'two' 'eight']\n",
      "engine-size :[130 152 109 136 131 108 164 209  61  90  98 122 156  92  79 110 111 119\n",
      " 258 326  91  70  80 140 134 183 234 308 304  97 103 120 181 151 194 132\n",
      " 121 146 171 161 141 173 145]\n",
      "fuel-system :['mpfi' '2bbl' 'mfi' '1bbl' 'spfi' '4bbl' 'idi' 'spdi']\n",
      "bore :['3.47' '2.68' '3.19' '3.13' '3.5' '3.31' '3.62' '2.91' '3.03' '2.97'\n",
      " '3.34' '3.6' '2.92' '3.15' '3.43' '3.63' '3.54' '3.08' '?' '3.39' '3.76'\n",
      " '3.58' '3.46' '3.8' '3.78' '3.17' '3.35' '3.59' '2.99' '3.33' '3.7'\n",
      " '3.61' '3.94' '3.74' '2.54' '3.05' '3.27' '3.24' '3.01']\n",
      "stroke :['2.68' '3.47' '3.4' '2.8' '3.19' '3.39' '3.03' '3.11' '3.23' '3.46' '3.9'\n",
      " '3.41' '3.07' '3.58' '4.17' '2.76' '3.15' '?' '3.16' '3.64' '3.1' '3.35'\n",
      " '3.12' '3.86' '3.29' '3.27' '3.52' '2.19' '3.21' '2.9' '2.07' '2.36'\n",
      " '2.64' '3.08' '3.5' '3.54' '2.87']\n",
      "compression-ratio :[ 9.   10.    8.    8.5   8.3   8.8   9.5   9.6   9.41  9.4   7.6   7.\n",
      "  9.2  10.1   9.1   8.1  11.5   8.6  22.7  22.   21.5   7.5  21.9   7.8\n",
      "  8.4  21.    8.7   9.31  9.3   7.7  22.5  23.  ]\n",
      "horsepower :['111' '154' '102' '115' '110' '140' '101' '121' '182' '48' '70' '68' '88'\n",
      " '145' '58' '76' '60' '86' '100' '78' '90' '176' '262' '135' '84' '64'\n",
      " '120' '72' '123' '155' '184' '175' '116' '69' '55' '97' '152' '160' '200'\n",
      " '95' '142' '143' '207' '?' '73' '82' '94' '62' '56' '112' '92' '161'\n",
      " '156' '52' '85' '114' '162' '134' '106']\n",
      "peak-rpm :['5000' '5500' '5800' '4250' '5400' '5100' '4800' '6000' '4750' '4650'\n",
      " '4200' '4350' '4500' '5200' '4150' '5600' '5900' '?' '5250' '4900' '4400'\n",
      " '6600' '5300']\n",
      "city-mpg :[21 19 24 18 17 23 20 16 15 47 38 37 31 49 30 27 25 13 26 36 22 14 45 28\n",
      " 32 35 34 29 33]\n",
      "highway-mpg :[27 26 30 22 25 20 29 28 53 43 41 38 24 54 42 34 33 31 19 17 23 32 39 18\n",
      " 16 37 50 36 47 46]\n",
      "price :[13495 16500 13950 17450 15250 17710 18920 23875 16430 16925 20970 21105\n",
      " 24565 30760 41315 36880  5151  6295  6575  5572  6377  7957  6229  6692\n",
      "  7609  8558  8921 12964  6479  6855  5399  6529  7129  7295  7895  9095\n",
      "  8845 10295 12945 10345  6785 11048 32250 35550 36000  5195  6095  6795\n",
      "  6695  7395 10945 11845 13645 15645  8495 10595 10245 10795 11245 18280\n",
      " 18344 25552 28248 28176 31600 34184 35056 40960 45400 16503  5389  6189\n",
      "  6669  7689  9959  8499 12629 14869 14489  6989  8189  9279  5499  7099\n",
      "  6649  6849  7349  7299  7799  7499  7999  8249  8949  9549 13499 14399\n",
      " 17199 19699 18399 11900 13200 12440 13860 15580 16900 16695 17075 16630\n",
      " 17950 18150 12764 22018 32528 34028 37028  9295  9895 11850 12170 15040\n",
      " 15510 18620  5118  7053  7603  7126  7775  9960  9233 11259  7463 10198\n",
      "  8013 11694  5348  6338  6488  6918  7898  8778  6938  7198  7788  7738\n",
      "  8358  9258  8058  8238  9298  9538  8449  9639  9989 11199 11549 17669\n",
      "  8948 10698  9988 10898 11248 16558 15998 15690 15750  7975  7995  8195\n",
      "  9495  9995 11595  9980 13295 13845 12290 12940 13415 15985 16515 18420\n",
      " 18950 16845 19045 21485 22470 22625]\n"
     ]
    }
   ],
   "source": [
    "# Checking for wrong enteries like symbols -, ?, # * etc,\n",
    "for col in data.columns:\n",
    "    print('{} :{}'.format(col, data[col].unique()))"
   ]
  },
  {
   "cell_type": "markdown",
   "id": "ab94c906",
   "metadata": {},
   "source": [
    "**Finding:** Data contains symbol \"?\" that have to be replaced with NAN."
   ]
  },
  {
   "cell_type": "code",
   "execution_count": 8,
   "id": "f4c36740",
   "metadata": {},
   "outputs": [],
   "source": [
    "data = data.replace('?',np.NAN)"
   ]
  },
  {
   "cell_type": "markdown",
   "id": "717b0c95",
   "metadata": {},
   "source": [
    "## Pre-processing: Handling Dtype Problems"
   ]
  },
  {
   "cell_type": "code",
   "execution_count": 9,
   "id": "8194fd64",
   "metadata": {},
   "outputs": [
    {
     "data": {
      "text/html": [
       "<div>\n",
       "<style scoped>\n",
       "    .dataframe tbody tr th:only-of-type {\n",
       "        vertical-align: middle;\n",
       "    }\n",
       "\n",
       "    .dataframe tbody tr th {\n",
       "        vertical-align: top;\n",
       "    }\n",
       "\n",
       "    .dataframe thead th {\n",
       "        text-align: right;\n",
       "    }\n",
       "</style>\n",
       "<table border=\"1\" class=\"dataframe\">\n",
       "  <thead>\n",
       "    <tr style=\"text-align: right;\">\n",
       "      <th></th>\n",
       "      <th>values</th>\n",
       "      <th>dtypes</th>\n",
       "      <th>len</th>\n",
       "    </tr>\n",
       "    <tr>\n",
       "      <th>feature</th>\n",
       "      <th></th>\n",
       "      <th></th>\n",
       "      <th></th>\n",
       "    </tr>\n",
       "  </thead>\n",
       "  <tbody>\n",
       "    <tr>\n",
       "      <th>symboling</th>\n",
       "      <td>[3, 1, 2, 0, -1, -2]</td>\n",
       "      <td>int64</td>\n",
       "      <td>6</td>\n",
       "    </tr>\n",
       "    <tr>\n",
       "      <th>normalized-losses</th>\n",
       "      <td>[nan, 164.0, 158.0, 192.0, 188.0, 121.0, 98.0,...</td>\n",
       "      <td>float64</td>\n",
       "      <td>52</td>\n",
       "    </tr>\n",
       "    <tr>\n",
       "      <th>make</th>\n",
       "      <td>[alfa-romero, audi, bmw, chevrolet, dodge, hon...</td>\n",
       "      <td>object</td>\n",
       "      <td>22</td>\n",
       "    </tr>\n",
       "    <tr>\n",
       "      <th>fuel-type</th>\n",
       "      <td>[gas, diesel]</td>\n",
       "      <td>object</td>\n",
       "      <td>2</td>\n",
       "    </tr>\n",
       "    <tr>\n",
       "      <th>aspiration</th>\n",
       "      <td>[std, turbo]</td>\n",
       "      <td>object</td>\n",
       "      <td>2</td>\n",
       "    </tr>\n",
       "    <tr>\n",
       "      <th>num-of-doors</th>\n",
       "      <td>[two, four, nan]</td>\n",
       "      <td>object</td>\n",
       "      <td>3</td>\n",
       "    </tr>\n",
       "    <tr>\n",
       "      <th>body-style</th>\n",
       "      <td>[convertible, hatchback, sedan, wagon, hardtop]</td>\n",
       "      <td>object</td>\n",
       "      <td>5</td>\n",
       "    </tr>\n",
       "    <tr>\n",
       "      <th>drive-wheels</th>\n",
       "      <td>[rwd, fwd, 4wd]</td>\n",
       "      <td>object</td>\n",
       "      <td>3</td>\n",
       "    </tr>\n",
       "    <tr>\n",
       "      <th>engine-location</th>\n",
       "      <td>[front, rear]</td>\n",
       "      <td>object</td>\n",
       "      <td>2</td>\n",
       "    </tr>\n",
       "    <tr>\n",
       "      <th>wheel-base</th>\n",
       "      <td>[88.6, 94.5, 99.8, 99.4, 105.8, 101.2, 103.5, ...</td>\n",
       "      <td>float64</td>\n",
       "      <td>52</td>\n",
       "    </tr>\n",
       "    <tr>\n",
       "      <th>length</th>\n",
       "      <td>[168.8, 171.2, 176.6, 177.3, 192.7, 176.8, 189...</td>\n",
       "      <td>float64</td>\n",
       "      <td>73</td>\n",
       "    </tr>\n",
       "    <tr>\n",
       "      <th>width</th>\n",
       "      <td>[64.1, 65.5, 66.2, 66.4, 66.3, 71.4, 64.8, 66....</td>\n",
       "      <td>float64</td>\n",
       "      <td>43</td>\n",
       "    </tr>\n",
       "    <tr>\n",
       "      <th>height</th>\n",
       "      <td>[48.8, 52.4, 54.3, 53.1, 55.7, 55.9, 53.7, 56....</td>\n",
       "      <td>float64</td>\n",
       "      <td>49</td>\n",
       "    </tr>\n",
       "    <tr>\n",
       "      <th>curb-weight</th>\n",
       "      <td>[2548, 2823, 2337, 2824, 2507, 2844, 2954, 308...</td>\n",
       "      <td>int64</td>\n",
       "      <td>169</td>\n",
       "    </tr>\n",
       "    <tr>\n",
       "      <th>engine-type</th>\n",
       "      <td>[dohc, ohcv, ohc, l, rotor, ohcf]</td>\n",
       "      <td>object</td>\n",
       "      <td>6</td>\n",
       "    </tr>\n",
       "    <tr>\n",
       "      <th>num-of-cylinders</th>\n",
       "      <td>[four, six, five, three, twelve, two, eight]</td>\n",
       "      <td>object</td>\n",
       "      <td>7</td>\n",
       "    </tr>\n",
       "    <tr>\n",
       "      <th>engine-size</th>\n",
       "      <td>[130, 152, 109, 136, 131, 108, 164, 209, 61, 9...</td>\n",
       "      <td>int64</td>\n",
       "      <td>43</td>\n",
       "    </tr>\n",
       "    <tr>\n",
       "      <th>fuel-system</th>\n",
       "      <td>[mpfi, 2bbl, mfi, 1bbl, spfi, 4bbl, idi, spdi]</td>\n",
       "      <td>object</td>\n",
       "      <td>8</td>\n",
       "    </tr>\n",
       "    <tr>\n",
       "      <th>bore</th>\n",
       "      <td>[3.47, 2.68, 3.19, 3.13, 3.5, 3.31, 3.62, 2.91...</td>\n",
       "      <td>object</td>\n",
       "      <td>39</td>\n",
       "    </tr>\n",
       "    <tr>\n",
       "      <th>stroke</th>\n",
       "      <td>[2.68, 3.47, 3.4, 2.8, 3.19, 3.39, 3.03, 3.11,...</td>\n",
       "      <td>object</td>\n",
       "      <td>37</td>\n",
       "    </tr>\n",
       "    <tr>\n",
       "      <th>compression-ratio</th>\n",
       "      <td>[9.0, 10.0, 8.0, 8.5, 8.3, 8.8, 9.5, 9.6, 9.41...</td>\n",
       "      <td>float64</td>\n",
       "      <td>32</td>\n",
       "    </tr>\n",
       "    <tr>\n",
       "      <th>horsepower</th>\n",
       "      <td>[111, 154, 102, 115, 110, 140, 101, 121, 182, ...</td>\n",
       "      <td>object</td>\n",
       "      <td>59</td>\n",
       "    </tr>\n",
       "    <tr>\n",
       "      <th>peak-rpm</th>\n",
       "      <td>[5000, 5500, 5800, 4250, 5400, 5100, 4800, 600...</td>\n",
       "      <td>object</td>\n",
       "      <td>23</td>\n",
       "    </tr>\n",
       "    <tr>\n",
       "      <th>city-mpg</th>\n",
       "      <td>[21, 19, 24, 18, 17, 23, 20, 16, 15, 47, 38, 3...</td>\n",
       "      <td>int64</td>\n",
       "      <td>29</td>\n",
       "    </tr>\n",
       "    <tr>\n",
       "      <th>highway-mpg</th>\n",
       "      <td>[27, 26, 30, 22, 25, 20, 29, 28, 53, 43, 41, 3...</td>\n",
       "      <td>int64</td>\n",
       "      <td>30</td>\n",
       "    </tr>\n",
       "    <tr>\n",
       "      <th>price</th>\n",
       "      <td>[13495, 16500, 13950, 17450, 15250, 17710, 189...</td>\n",
       "      <td>int64</td>\n",
       "      <td>186</td>\n",
       "    </tr>\n",
       "  </tbody>\n",
       "</table>\n",
       "</div>"
      ],
      "text/plain": [
       "                                                              values   dtypes  \\\n",
       "feature                                                                         \n",
       "symboling                                       [3, 1, 2, 0, -1, -2]    int64   \n",
       "normalized-losses  [nan, 164.0, 158.0, 192.0, 188.0, 121.0, 98.0,...  float64   \n",
       "make               [alfa-romero, audi, bmw, chevrolet, dodge, hon...   object   \n",
       "fuel-type                                              [gas, diesel]   object   \n",
       "aspiration                                              [std, turbo]   object   \n",
       "num-of-doors                                        [two, four, nan]   object   \n",
       "body-style           [convertible, hatchback, sedan, wagon, hardtop]   object   \n",
       "drive-wheels                                         [rwd, fwd, 4wd]   object   \n",
       "engine-location                                        [front, rear]   object   \n",
       "wheel-base         [88.6, 94.5, 99.8, 99.4, 105.8, 101.2, 103.5, ...  float64   \n",
       "length             [168.8, 171.2, 176.6, 177.3, 192.7, 176.8, 189...  float64   \n",
       "width              [64.1, 65.5, 66.2, 66.4, 66.3, 71.4, 64.8, 66....  float64   \n",
       "height             [48.8, 52.4, 54.3, 53.1, 55.7, 55.9, 53.7, 56....  float64   \n",
       "curb-weight        [2548, 2823, 2337, 2824, 2507, 2844, 2954, 308...    int64   \n",
       "engine-type                        [dohc, ohcv, ohc, l, rotor, ohcf]   object   \n",
       "num-of-cylinders        [four, six, five, three, twelve, two, eight]   object   \n",
       "engine-size        [130, 152, 109, 136, 131, 108, 164, 209, 61, 9...    int64   \n",
       "fuel-system           [mpfi, 2bbl, mfi, 1bbl, spfi, 4bbl, idi, spdi]   object   \n",
       "bore               [3.47, 2.68, 3.19, 3.13, 3.5, 3.31, 3.62, 2.91...   object   \n",
       "stroke             [2.68, 3.47, 3.4, 2.8, 3.19, 3.39, 3.03, 3.11,...   object   \n",
       "compression-ratio  [9.0, 10.0, 8.0, 8.5, 8.3, 8.8, 9.5, 9.6, 9.41...  float64   \n",
       "horsepower         [111, 154, 102, 115, 110, 140, 101, 121, 182, ...   object   \n",
       "peak-rpm           [5000, 5500, 5800, 4250, 5400, 5100, 4800, 600...   object   \n",
       "city-mpg           [21, 19, 24, 18, 17, 23, 20, 16, 15, 47, 38, 3...    int64   \n",
       "highway-mpg        [27, 26, 30, 22, 25, 20, 29, 28, 53, 43, 41, 3...    int64   \n",
       "price              [13495, 16500, 13950, 17450, 15250, 17710, 189...    int64   \n",
       "\n",
       "                   len  \n",
       "feature                 \n",
       "symboling            6  \n",
       "normalized-losses   52  \n",
       "make                22  \n",
       "fuel-type            2  \n",
       "aspiration           2  \n",
       "num-of-doors         3  \n",
       "body-style           5  \n",
       "drive-wheels         3  \n",
       "engine-location      2  \n",
       "wheel-base          52  \n",
       "length              73  \n",
       "width               43  \n",
       "height              49  \n",
       "curb-weight        169  \n",
       "engine-type          6  \n",
       "num-of-cylinders     7  \n",
       "engine-size         43  \n",
       "fuel-system          8  \n",
       "bore                39  \n",
       "stroke              37  \n",
       "compression-ratio   32  \n",
       "horsepower          59  \n",
       "peak-rpm            23  \n",
       "city-mpg            29  \n",
       "highway-mpg         30  \n",
       "price              186  "
      ]
     },
     "execution_count": 9,
     "metadata": {},
     "output_type": "execute_result"
    }
   ],
   "source": [
    "def uniq (df1):\n",
    "    cols = ['feature','values','dtypes','len']\n",
    "    df1 = pd.DataFrame([[i,df1[i].unique(),df1[i].dtype,len(df1[i].unique())] for i in df1.columns], \n",
    "                       columns = cols).set_index('feature')\n",
    "    return df1\n",
    "\n",
    "unique_feature = uniq(data)\n",
    "unique_feature"
   ]
  },
  {
   "cell_type": "markdown",
   "id": "788b3997",
   "metadata": {},
   "source": [
    "**Note:** \n",
    ". Some numerical features are in 'object' format, we have to convert it into 'float' or 'int' format to perform operations."
   ]
  },
  {
   "cell_type": "markdown",
   "id": "e5a3e47b",
   "metadata": {},
   "source": [
    "#### Convert numerical data into 'float':"
   ]
  },
  {
   "cell_type": "code",
   "execution_count": 10,
   "id": "05e53de7",
   "metadata": {},
   "outputs": [],
   "source": [
    "convert_col = ['bore',  'stroke', 'horsepower', 'peak-rpm']\n",
    "for col in convert_col:\n",
    "    data[col]=pd.to_numeric(data[col]) #convert float\n",
    "    \n",
    "#pd.to_numeric(data[col]).astype(int/float)"
   ]
  },
  {
   "cell_type": "code",
   "execution_count": 11,
   "id": "2176203b",
   "metadata": {},
   "outputs": [
    {
     "data": {
      "text/html": [
       "<div>\n",
       "<style scoped>\n",
       "    .dataframe tbody tr th:only-of-type {\n",
       "        vertical-align: middle;\n",
       "    }\n",
       "\n",
       "    .dataframe tbody tr th {\n",
       "        vertical-align: top;\n",
       "    }\n",
       "\n",
       "    .dataframe thead th {\n",
       "        text-align: right;\n",
       "    }\n",
       "</style>\n",
       "<table border=\"1\" class=\"dataframe\">\n",
       "  <thead>\n",
       "    <tr style=\"text-align: right;\">\n",
       "      <th></th>\n",
       "      <th>feature</th>\n",
       "      <th>value</th>\n",
       "      <th>dtype</th>\n",
       "    </tr>\n",
       "  </thead>\n",
       "  <tbody>\n",
       "    <tr>\n",
       "      <th>0</th>\n",
       "      <td>symboling</td>\n",
       "      <td>[3, 1, 2, 0, -1, -2]</td>\n",
       "      <td>int64</td>\n",
       "    </tr>\n",
       "    <tr>\n",
       "      <th>1</th>\n",
       "      <td>normalized-losses</td>\n",
       "      <td>[nan, 164.0, 158.0, 192.0, 188.0, 121.0, 98.0,...</td>\n",
       "      <td>float64</td>\n",
       "    </tr>\n",
       "    <tr>\n",
       "      <th>2</th>\n",
       "      <td>wheel-base</td>\n",
       "      <td>[88.6, 94.5, 99.8, 99.4, 105.8, 101.2, 103.5, ...</td>\n",
       "      <td>float64</td>\n",
       "    </tr>\n",
       "    <tr>\n",
       "      <th>3</th>\n",
       "      <td>length</td>\n",
       "      <td>[168.8, 171.2, 176.6, 177.3, 192.7, 176.8, 189...</td>\n",
       "      <td>float64</td>\n",
       "    </tr>\n",
       "    <tr>\n",
       "      <th>4</th>\n",
       "      <td>width</td>\n",
       "      <td>[64.1, 65.5, 66.2, 66.4, 66.3, 71.4, 64.8, 66....</td>\n",
       "      <td>float64</td>\n",
       "    </tr>\n",
       "    <tr>\n",
       "      <th>5</th>\n",
       "      <td>height</td>\n",
       "      <td>[48.8, 52.4, 54.3, 53.1, 55.7, 55.9, 53.7, 56....</td>\n",
       "      <td>float64</td>\n",
       "    </tr>\n",
       "    <tr>\n",
       "      <th>6</th>\n",
       "      <td>engine-size</td>\n",
       "      <td>[130, 152, 109, 136, 131, 108, 164, 209, 61, 9...</td>\n",
       "      <td>int64</td>\n",
       "    </tr>\n",
       "    <tr>\n",
       "      <th>7</th>\n",
       "      <td>bore</td>\n",
       "      <td>[3.47, 2.68, 3.19, 3.13, 3.5, 3.31, 3.62, 2.91...</td>\n",
       "      <td>float64</td>\n",
       "    </tr>\n",
       "    <tr>\n",
       "      <th>8</th>\n",
       "      <td>stroke</td>\n",
       "      <td>[2.68, 3.47, 3.4, 2.8, 3.19, 3.39, 3.03, 3.11,...</td>\n",
       "      <td>float64</td>\n",
       "    </tr>\n",
       "    <tr>\n",
       "      <th>9</th>\n",
       "      <td>compression-ratio</td>\n",
       "      <td>[9.0, 10.0, 8.0, 8.5, 8.3, 8.8, 9.5, 9.6, 9.41...</td>\n",
       "      <td>float64</td>\n",
       "    </tr>\n",
       "    <tr>\n",
       "      <th>10</th>\n",
       "      <td>horsepower</td>\n",
       "      <td>[111.0, 154.0, 102.0, 115.0, 110.0, 140.0, 101...</td>\n",
       "      <td>float64</td>\n",
       "    </tr>\n",
       "    <tr>\n",
       "      <th>11</th>\n",
       "      <td>peak-rpm</td>\n",
       "      <td>[5000.0, 5500.0, 5800.0, 4250.0, 5400.0, 5100....</td>\n",
       "      <td>float64</td>\n",
       "    </tr>\n",
       "    <tr>\n",
       "      <th>12</th>\n",
       "      <td>city-mpg</td>\n",
       "      <td>[21, 19, 24, 18, 17, 23, 20, 16, 15, 47, 38, 3...</td>\n",
       "      <td>int64</td>\n",
       "    </tr>\n",
       "    <tr>\n",
       "      <th>13</th>\n",
       "      <td>highway-mpg</td>\n",
       "      <td>[27, 26, 30, 22, 25, 20, 29, 28, 53, 43, 41, 3...</td>\n",
       "      <td>int64</td>\n",
       "    </tr>\n",
       "    <tr>\n",
       "      <th>14</th>\n",
       "      <td>price</td>\n",
       "      <td>[13495, 16500, 13950, 17450, 15250, 17710, 189...</td>\n",
       "      <td>int64</td>\n",
       "    </tr>\n",
       "  </tbody>\n",
       "</table>\n",
       "</div>"
      ],
      "text/plain": [
       "              feature                                              value  \\\n",
       "0           symboling                               [3, 1, 2, 0, -1, -2]   \n",
       "1   normalized-losses  [nan, 164.0, 158.0, 192.0, 188.0, 121.0, 98.0,...   \n",
       "2          wheel-base  [88.6, 94.5, 99.8, 99.4, 105.8, 101.2, 103.5, ...   \n",
       "3              length  [168.8, 171.2, 176.6, 177.3, 192.7, 176.8, 189...   \n",
       "4               width  [64.1, 65.5, 66.2, 66.4, 66.3, 71.4, 64.8, 66....   \n",
       "5              height  [48.8, 52.4, 54.3, 53.1, 55.7, 55.9, 53.7, 56....   \n",
       "6         engine-size  [130, 152, 109, 136, 131, 108, 164, 209, 61, 9...   \n",
       "7                bore  [3.47, 2.68, 3.19, 3.13, 3.5, 3.31, 3.62, 2.91...   \n",
       "8              stroke  [2.68, 3.47, 3.4, 2.8, 3.19, 3.39, 3.03, 3.11,...   \n",
       "9   compression-ratio  [9.0, 10.0, 8.0, 8.5, 8.3, 8.8, 9.5, 9.6, 9.41...   \n",
       "10         horsepower  [111.0, 154.0, 102.0, 115.0, 110.0, 140.0, 101...   \n",
       "11           peak-rpm  [5000.0, 5500.0, 5800.0, 4250.0, 5400.0, 5100....   \n",
       "12           city-mpg  [21, 19, 24, 18, 17, 23, 20, 16, 15, 47, 38, 3...   \n",
       "13        highway-mpg  [27, 26, 30, 22, 25, 20, 29, 28, 53, 43, 41, 3...   \n",
       "14              price  [13495, 16500, 13950, 17450, 15250, 17710, 189...   \n",
       "\n",
       "      dtype  \n",
       "0     int64  \n",
       "1   float64  \n",
       "2   float64  \n",
       "3   float64  \n",
       "4   float64  \n",
       "5   float64  \n",
       "6     int64  \n",
       "7   float64  \n",
       "8   float64  \n",
       "9   float64  \n",
       "10  float64  \n",
       "11  float64  \n",
       "12    int64  \n",
       "13    int64  \n",
       "14    int64  "
      ]
     },
     "execution_count": 11,
     "metadata": {},
     "output_type": "execute_result"
    }
   ],
   "source": [
    "# Checking numerical features dtype\n",
    "def data_type (df2):\n",
    "    num_cols = ['symboling','normalized-losses','wheel-base', 'length', 'width', 'height','engine-size','bore', 'stroke', \n",
    "                'compression-ratio','horsepower', 'peak-rpm', 'city-mpg','highway-mpg','price']\n",
    "    \n",
    "    df2 = pd.DataFrame([[i, df2[i].unique(), df2[i].dtype] for i in num_cols],columns= ['feature','value','dtype'])\n",
    "    return df2\n",
    "\n",
    "data_type(data)"
   ]
  },
  {
   "cell_type": "markdown",
   "id": "8437b907",
   "metadata": {},
   "source": [
    "**Conclusion:** \n",
    "1. The 'Object' formatted Numerical features are converted successfully to 'float' format.\n",
    "2. All Numerical features are now in 'float' or 'int' format."
   ]
  },
  {
   "cell_type": "markdown",
   "id": "b85d0ea0",
   "metadata": {},
   "source": [
    "## Pre-processing: Handling Missing values"
   ]
  },
  {
   "cell_type": "code",
   "execution_count": 12,
   "id": "18e070cb",
   "metadata": {},
   "outputs": [
    {
     "data": {
      "text/plain": [
       "symboling             0\n",
       "normalized-losses    37\n",
       "make                  0\n",
       "fuel-type             0\n",
       "aspiration            0\n",
       "num-of-doors          2\n",
       "body-style            0\n",
       "drive-wheels          0\n",
       "engine-location       0\n",
       "wheel-base            0\n",
       "length                0\n",
       "width                 0\n",
       "height                0\n",
       "curb-weight           0\n",
       "engine-type           0\n",
       "num-of-cylinders      0\n",
       "engine-size           0\n",
       "fuel-system           0\n",
       "bore                  4\n",
       "stroke                4\n",
       "compression-ratio     0\n",
       "horsepower            2\n",
       "peak-rpm              2\n",
       "city-mpg              0\n",
       "highway-mpg           0\n",
       "price                 0\n",
       "dtype: int64"
      ]
     },
     "execution_count": 12,
     "metadata": {},
     "output_type": "execute_result"
    }
   ],
   "source": [
    "#finding missing values\n",
    "data.isnull().sum()"
   ]
  },
  {
   "cell_type": "raw",
   "id": "fc7c6f5e",
   "metadata": {},
   "source": [
    "#Also we can find missing values by the coding:\n",
    "\n",
    "missing_data = data.isnull\n",
    "for column in missing_data.columns.values.tolist():\n",
    "    print(column)\n",
    "    print (missing_data[column].value_counts())\n",
    "    print(\"\") "
   ]
  },
  {
   "cell_type": "code",
   "execution_count": 13,
   "id": "fe5f1c7b",
   "metadata": {},
   "outputs": [
    {
     "data": {
      "text/plain": [
       "<Axes: >"
      ]
     },
     "execution_count": 13,
     "metadata": {},
     "output_type": "execute_result"
    },
    {
     "data": {
      "image/png": "[encoded data removed]",
      "text/plain": [
       "<Figure size 640x480 with 1 Axes>"
      ]
     },
     "metadata": {},
     "output_type": "display_data"
    }
   ],
   "source": [
    "#visualizing null values\n",
    "sns.heatmap(data.isnull(), cbar = False, linecolor = 'yellow', cmap = 'viridis') #[cmap = plasma, inferno, magma]"
   ]
  },
  {
   "cell_type": "markdown",
   "id": "c345f439",
   "metadata": {},
   "source": [
    "**Findings:**\n",
    "1. There are 6 features that contains missing value, 5 numerical feature and 1 categorical feature.<br> \n",
    "2. Numerical features with missing values are 'normalized-losses','bore','stroke','horsepower','peak-rpm'. <br>\n",
    "3. Only Categorical feature with missing value is 'num-of-doors'."
   ]
  },
  {
   "cell_type": "markdown",
   "id": "591500ef",
   "metadata": {},
   "source": [
    "#### Basic statistics for missing value features"
   ]
  },
  {
   "cell_type": "code",
   "execution_count": 14,
   "id": "08d22d97",
   "metadata": {},
   "outputs": [
    {
     "data": {
      "text/html": [
       "<div>\n",
       "<style scoped>\n",
       "    .dataframe tbody tr th:only-of-type {\n",
       "        vertical-align: middle;\n",
       "    }\n",
       "\n",
       "    .dataframe tbody tr th {\n",
       "        vertical-align: top;\n",
       "    }\n",
       "\n",
       "    .dataframe thead th {\n",
       "        text-align: right;\n",
       "    }\n",
       "</style>\n",
       "<table border=\"1\" class=\"dataframe\">\n",
       "  <thead>\n",
       "    <tr style=\"text-align: right;\">\n",
       "      <th></th>\n",
       "      <th>Feature</th>\n",
       "      <th>Min</th>\n",
       "      <th>5th percentile</th>\n",
       "      <th>Q1</th>\n",
       "      <th>Median</th>\n",
       "      <th>Mean</th>\n",
       "      <th>Mode</th>\n",
       "      <th>Q3</th>\n",
       "      <th>95th percentile</th>\n",
       "      <th>Maximum</th>\n",
       "    </tr>\n",
       "  </thead>\n",
       "  <tbody>\n",
       "    <tr>\n",
       "      <th>0</th>\n",
       "      <td>normalized-losses</td>\n",
       "      <td>65.00</td>\n",
       "      <td>74.0000</td>\n",
       "      <td>94.00</td>\n",
       "      <td>115.00</td>\n",
       "      <td>121.836364</td>\n",
       "      <td>161.00</td>\n",
       "      <td>150.00</td>\n",
       "      <td>188.00</td>\n",
       "      <td>256.00</td>\n",
       "    </tr>\n",
       "    <tr>\n",
       "      <th>1</th>\n",
       "      <td>bore</td>\n",
       "      <td>2.54</td>\n",
       "      <td>2.9625</td>\n",
       "      <td>3.15</td>\n",
       "      <td>3.31</td>\n",
       "      <td>3.332980</td>\n",
       "      <td>3.62</td>\n",
       "      <td>3.59</td>\n",
       "      <td>3.78</td>\n",
       "      <td>3.94</td>\n",
       "    </tr>\n",
       "    <tr>\n",
       "      <th>2</th>\n",
       "      <td>stroke</td>\n",
       "      <td>2.07</td>\n",
       "      <td>2.6400</td>\n",
       "      <td>3.11</td>\n",
       "      <td>3.29</td>\n",
       "      <td>3.256364</td>\n",
       "      <td>3.40</td>\n",
       "      <td>3.41</td>\n",
       "      <td>3.64</td>\n",
       "      <td>4.17</td>\n",
       "    </tr>\n",
       "    <tr>\n",
       "      <th>3</th>\n",
       "      <td>horsepower</td>\n",
       "      <td>48.00</td>\n",
       "      <td>62.0000</td>\n",
       "      <td>70.00</td>\n",
       "      <td>95.00</td>\n",
       "      <td>103.450000</td>\n",
       "      <td>68.00</td>\n",
       "      <td>116.00</td>\n",
       "      <td>176.30</td>\n",
       "      <td>262.00</td>\n",
       "    </tr>\n",
       "    <tr>\n",
       "      <th>4</th>\n",
       "      <td>peak-rpm</td>\n",
       "      <td>4150.00</td>\n",
       "      <td>4247.5000</td>\n",
       "      <td>4800.00</td>\n",
       "      <td>5200.00</td>\n",
       "      <td>5119.000000</td>\n",
       "      <td>4800.00</td>\n",
       "      <td>5500.00</td>\n",
       "      <td>6000.00</td>\n",
       "      <td>6600.00</td>\n",
       "    </tr>\n",
       "  </tbody>\n",
       "</table>\n",
       "</div>"
      ],
      "text/plain": [
       "             Feature      Min  5th percentile       Q1   Median         Mean  \\\n",
       "0  normalized-losses    65.00         74.0000    94.00   115.00   121.836364   \n",
       "1               bore     2.54          2.9625     3.15     3.31     3.332980   \n",
       "2             stroke     2.07          2.6400     3.11     3.29     3.256364   \n",
       "3         horsepower    48.00         62.0000    70.00    95.00   103.450000   \n",
       "4           peak-rpm  4150.00       4247.5000  4800.00  5200.00  5119.000000   \n",
       "\n",
       "      Mode       Q3  95th percentile  Maximum  \n",
       "0   161.00   150.00           188.00   256.00  \n",
       "1     3.62     3.59             3.78     3.94  \n",
       "2     3.40     3.41             3.64     4.17  \n",
       "3    68.00   116.00           176.30   262.00  \n",
       "4  4800.00  5500.00          6000.00  6600.00  "
      ]
     },
     "execution_count": 14,
     "metadata": {},
     "output_type": "execute_result"
    }
   ],
   "source": [
    "missing_num_col = ['normalized-losses','bore','stroke','horsepower','peak-rpm']\n",
    "\n",
    "df_col_name = ['Feature','Min','5th percentile','Q1','Median','Mean','Mode','Q3','95th percentile','Maximum']\n",
    "\n",
    "def quick_stat (df2):\n",
    "    df2 = pd.DataFrame([[i, df2[i].min(), df2[i].quantile(.05), df2[i].quantile(.25), df2[i].median(), df2[i].mean(),\n",
    "                         df2[i].mode()[0], df2[i].quantile(.75), df2[i].quantile(.95), df2[i].max()] for i in missing_num_col],\n",
    "                       columns= df_col_name)\n",
    "    return df2\n",
    "\n",
    "quick_stat(data)"
   ]
  },
  {
   "cell_type": "code",
   "execution_count": 15,
   "id": "82d354c7",
   "metadata": {},
   "outputs": [
    {
     "data": {
      "text/plain": [
       "0    four\n",
       "Name: num-of-doors, dtype: object"
      ]
     },
     "execution_count": 15,
     "metadata": {},
     "output_type": "execute_result"
    }
   ],
   "source": [
    "missing_cat_col = ['num-of-doors']\n",
    "data['num-of-doors'].mode()"
   ]
  },
  {
   "cell_type": "code",
   "execution_count": 16,
   "id": "376b3b41",
   "metadata": {},
   "outputs": [],
   "source": [
    "#data.describe().T"
   ]
  },
  {
   "cell_type": "markdown",
   "id": "dbef74e5",
   "metadata": {},
   "source": [
    "#### Histogram for missing value features"
   ]
  },
  {
   "cell_type": "code",
   "execution_count": 17,
   "id": "4ccba8ba",
   "metadata": {},
   "outputs": [
    {
     "data": {
      "image/png": "[encoded data removed]",
      "text/plain": [
       "<Figure size 1500x1000 with 6 Axes>"
      ]
     },
     "metadata": {},
     "output_type": "display_data"
    }
   ],
   "source": [
    "missing_num_col = ['normalized-losses', 'bore',  'stroke', 'horsepower', 'peak-rpm']\n",
    "\n",
    "fig, axs = plt.subplots(2, 3, figsize=(15, 10))\n",
    "axs = axs.flatten()\n",
    "\n",
    "for i, col in enumerate(missing_num_col):\n",
    "    axs[i].hist(data[col], bins=20, color='skyblue', edgecolor='black')\n",
    "    axs[i].set_title(f'Histogram of {col}')\n",
    "    axs[i].set_xlabel('Value')\n",
    "    axs[i].set_ylabel('Frequency')\n",
    "    \n",
    "plt.tight_layout()\n",
    "plt.show()"
   ]
  },
  {
   "cell_type": "markdown",
   "id": "91a818cd",
   "metadata": {},
   "source": [
    "**Findings:**\n",
    "1. Observing basic statistics and histogram it seems data of missing value features have some outliers."
   ]
  },
  {
   "cell_type": "markdown",
   "id": "8bbc9564",
   "metadata": {},
   "source": [
    "### Filling missing values:\n",
    "1. fill missing data of numerical feature with the respective column median since data have outliers.\n",
    "2. fill missing data of categorcal feature with the mode of the respective column."
   ]
  },
  {
   "cell_type": "code",
   "execution_count": 18,
   "id": "17704035",
   "metadata": {},
   "outputs": [],
   "source": [
    "df = data.copy()"
   ]
  },
  {
   "cell_type": "code",
   "execution_count": 19,
   "id": "e0cf11d4",
   "metadata": {},
   "outputs": [
    {
     "data": {
      "text/html": [
       "<div>\n",
       "<style scoped>\n",
       "    .dataframe tbody tr th:only-of-type {\n",
       "        vertical-align: middle;\n",
       "    }\n",
       "\n",
       "    .dataframe tbody tr th {\n",
       "        vertical-align: top;\n",
       "    }\n",
       "\n",
       "    .dataframe thead th {\n",
       "        text-align: right;\n",
       "    }\n",
       "</style>\n",
       "<table border=\"1\" class=\"dataframe\">\n",
       "  <thead>\n",
       "    <tr style=\"text-align: right;\">\n",
       "      <th></th>\n",
       "      <th>symboling</th>\n",
       "      <th>normalized-losses</th>\n",
       "      <th>make</th>\n",
       "      <th>fuel-type</th>\n",
       "      <th>aspiration</th>\n",
       "      <th>num-of-doors</th>\n",
       "      <th>body-style</th>\n",
       "      <th>drive-wheels</th>\n",
       "      <th>engine-location</th>\n",
       "      <th>wheel-base</th>\n",
       "      <th>...</th>\n",
       "      <th>engine-size</th>\n",
       "      <th>fuel-system</th>\n",
       "      <th>bore</th>\n",
       "      <th>stroke</th>\n",
       "      <th>compression-ratio</th>\n",
       "      <th>horsepower</th>\n",
       "      <th>peak-rpm</th>\n",
       "      <th>city-mpg</th>\n",
       "      <th>highway-mpg</th>\n",
       "      <th>price</th>\n",
       "    </tr>\n",
       "  </thead>\n",
       "  <tbody>\n",
       "    <tr>\n",
       "      <th>0</th>\n",
       "      <td>3</td>\n",
       "      <td>115.0</td>\n",
       "      <td>alfa-romero</td>\n",
       "      <td>gas</td>\n",
       "      <td>std</td>\n",
       "      <td>two</td>\n",
       "      <td>convertible</td>\n",
       "      <td>rwd</td>\n",
       "      <td>front</td>\n",
       "      <td>88.6</td>\n",
       "      <td>...</td>\n",
       "      <td>130</td>\n",
       "      <td>mpfi</td>\n",
       "      <td>3.47</td>\n",
       "      <td>2.68</td>\n",
       "      <td>9.0</td>\n",
       "      <td>111.0</td>\n",
       "      <td>5000.0</td>\n",
       "      <td>21</td>\n",
       "      <td>27</td>\n",
       "      <td>13495</td>\n",
       "    </tr>\n",
       "    <tr>\n",
       "      <th>1</th>\n",
       "      <td>3</td>\n",
       "      <td>115.0</td>\n",
       "      <td>alfa-romero</td>\n",
       "      <td>gas</td>\n",
       "      <td>std</td>\n",
       "      <td>two</td>\n",
       "      <td>convertible</td>\n",
       "      <td>rwd</td>\n",
       "      <td>front</td>\n",
       "      <td>88.6</td>\n",
       "      <td>...</td>\n",
       "      <td>130</td>\n",
       "      <td>mpfi</td>\n",
       "      <td>3.47</td>\n",
       "      <td>2.68</td>\n",
       "      <td>9.0</td>\n",
       "      <td>111.0</td>\n",
       "      <td>5000.0</td>\n",
       "      <td>21</td>\n",
       "      <td>27</td>\n",
       "      <td>16500</td>\n",
       "    </tr>\n",
       "    <tr>\n",
       "      <th>2</th>\n",
       "      <td>1</td>\n",
       "      <td>115.0</td>\n",
       "      <td>alfa-romero</td>\n",
       "      <td>gas</td>\n",
       "      <td>std</td>\n",
       "      <td>two</td>\n",
       "      <td>hatchback</td>\n",
       "      <td>rwd</td>\n",
       "      <td>front</td>\n",
       "      <td>94.5</td>\n",
       "      <td>...</td>\n",
       "      <td>152</td>\n",
       "      <td>mpfi</td>\n",
       "      <td>2.68</td>\n",
       "      <td>3.47</td>\n",
       "      <td>9.0</td>\n",
       "      <td>154.0</td>\n",
       "      <td>5000.0</td>\n",
       "      <td>19</td>\n",
       "      <td>26</td>\n",
       "      <td>16500</td>\n",
       "    </tr>\n",
       "    <tr>\n",
       "      <th>3</th>\n",
       "      <td>2</td>\n",
       "      <td>164.0</td>\n",
       "      <td>audi</td>\n",
       "      <td>gas</td>\n",
       "      <td>std</td>\n",
       "      <td>four</td>\n",
       "      <td>sedan</td>\n",
       "      <td>fwd</td>\n",
       "      <td>front</td>\n",
       "      <td>99.8</td>\n",
       "      <td>...</td>\n",
       "      <td>109</td>\n",
       "      <td>mpfi</td>\n",
       "      <td>3.19</td>\n",
       "      <td>3.40</td>\n",
       "      <td>10.0</td>\n",
       "      <td>102.0</td>\n",
       "      <td>5500.0</td>\n",
       "      <td>24</td>\n",
       "      <td>30</td>\n",
       "      <td>13950</td>\n",
       "    </tr>\n",
       "    <tr>\n",
       "      <th>4</th>\n",
       "      <td>2</td>\n",
       "      <td>164.0</td>\n",
       "      <td>audi</td>\n",
       "      <td>gas</td>\n",
       "      <td>std</td>\n",
       "      <td>four</td>\n",
       "      <td>sedan</td>\n",
       "      <td>4wd</td>\n",
       "      <td>front</td>\n",
       "      <td>99.4</td>\n",
       "      <td>...</td>\n",
       "      <td>136</td>\n",
       "      <td>mpfi</td>\n",
       "      <td>3.19</td>\n",
       "      <td>3.40</td>\n",
       "      <td>8.0</td>\n",
       "      <td>115.0</td>\n",
       "      <td>5500.0</td>\n",
       "      <td>18</td>\n",
       "      <td>22</td>\n",
       "      <td>17450</td>\n",
       "    </tr>\n",
       "  </tbody>\n",
       "</table>\n",
       "<p>5 rows × 26 columns</p>\n",
       "</div>"
      ],
      "text/plain": [
       "   symboling  normalized-losses         make fuel-type aspiration  \\\n",
       "0          3              115.0  alfa-romero       gas        std   \n",
       "1          3              115.0  alfa-romero       gas        std   \n",
       "2          1              115.0  alfa-romero       gas        std   \n",
       "3          2              164.0         audi       gas        std   \n",
       "4          2              164.0         audi       gas        std   \n",
       "\n",
       "  num-of-doors   body-style drive-wheels engine-location  wheel-base  ...  \\\n",
       "0          two  convertible          rwd           front        88.6  ...   \n",
       "1          two  convertible          rwd           front        88.6  ...   \n",
       "2          two    hatchback          rwd           front        94.5  ...   \n",
       "3         four        sedan          fwd           front        99.8  ...   \n",
       "4         four        sedan          4wd           front        99.4  ...   \n",
       "\n",
       "   engine-size  fuel-system  bore  stroke compression-ratio horsepower  \\\n",
       "0          130         mpfi  3.47    2.68               9.0      111.0   \n",
       "1          130         mpfi  3.47    2.68               9.0      111.0   \n",
       "2          152         mpfi  2.68    3.47               9.0      154.0   \n",
       "3          109         mpfi  3.19    3.40              10.0      102.0   \n",
       "4          136         mpfi  3.19    3.40               8.0      115.0   \n",
       "\n",
       "   peak-rpm city-mpg  highway-mpg  price  \n",
       "0    5000.0       21           27  13495  \n",
       "1    5000.0       21           27  16500  \n",
       "2    5000.0       19           26  16500  \n",
       "3    5500.0       24           30  13950  \n",
       "4    5500.0       18           22  17450  \n",
       "\n",
       "[5 rows x 26 columns]"
      ]
     },
     "execution_count": 19,
     "metadata": {},
     "output_type": "execute_result"
    }
   ],
   "source": [
    "#filling numerical features\n",
    "missing_num_col = ['normalized-losses', 'bore',  'stroke', 'horsepower', 'peak-rpm']\n",
    "for col in missing_num_col:\n",
    "    df[col].fillna(df[col].median(), inplace=True)\n",
    "\n",
    "#missing value of Categorical feature 'num-of-doors' is replaced with mode.\n",
    "missing_cat_col = ['num-of-doors']\n",
    "df['num-of-doors'] = df['num-of-doors'].replace(np.nan,'four')\n",
    "df.head()"
   ]
  },
  {
   "cell_type": "code",
   "execution_count": 20,
   "id": "000400bc",
   "metadata": {},
   "outputs": [
    {
     "data": {
      "text/plain": [
       "symboling            0\n",
       "normalized-losses    0\n",
       "make                 0\n",
       "fuel-type            0\n",
       "aspiration           0\n",
       "num-of-doors         0\n",
       "body-style           0\n",
       "drive-wheels         0\n",
       "engine-location      0\n",
       "wheel-base           0\n",
       "length               0\n",
       "width                0\n",
       "height               0\n",
       "curb-weight          0\n",
       "engine-type          0\n",
       "num-of-cylinders     0\n",
       "engine-size          0\n",
       "fuel-system          0\n",
       "bore                 0\n",
       "stroke               0\n",
       "compression-ratio    0\n",
       "horsepower           0\n",
       "peak-rpm             0\n",
       "city-mpg             0\n",
       "highway-mpg          0\n",
       "price                0\n",
       "dtype: int64"
      ]
     },
     "execution_count": 20,
     "metadata": {},
     "output_type": "execute_result"
    }
   ],
   "source": [
    "df.isnull().sum()"
   ]
  },
  {
   "cell_type": "markdown",
   "id": "f0c78caa",
   "metadata": {},
   "source": [
    "**Conclusion:** Now there is no missing value in the dataset."
   ]
  },
  {
   "cell_type": "markdown",
   "id": "d02c2f56",
   "metadata": {},
   "source": [
    "## Pre-processing: Convert word to number"
   ]
  },
  {
   "cell_type": "code",
   "execution_count": 21,
   "id": "f9778a82",
   "metadata": {},
   "outputs": [
    {
     "data": {
      "text/plain": [
       "array(['two', 'four'], dtype=object)"
      ]
     },
     "execution_count": 21,
     "metadata": {},
     "output_type": "execute_result"
    }
   ],
   "source": [
    "df['num-of-doors'].unique()"
   ]
  },
  {
   "cell_type": "code",
   "execution_count": 22,
   "id": "f3c56917",
   "metadata": {},
   "outputs": [
    {
     "data": {
      "text/plain": [
       "array(['four', 'six', 'five', 'three', 'twelve', 'two', 'eight'],\n",
       "      dtype=object)"
      ]
     },
     "execution_count": 22,
     "metadata": {},
     "output_type": "execute_result"
    }
   ],
   "source": [
    "df['num-of-cylinders'].unique()"
   ]
  },
  {
   "cell_type": "code",
   "execution_count": 23,
   "id": "78981e03",
   "metadata": {},
   "outputs": [],
   "source": [
    "#from word2number import w2n\n",
    "df['num-of-doors'] = df['num-of-doors'].apply(w2n.word_to_num)\n",
    "df['num-of-cylinders'] = df['num-of-cylinders'].apply(w2n.word_to_num)"
   ]
  },
  {
   "cell_type": "code",
   "execution_count": 24,
   "id": "c9366ad9",
   "metadata": {},
   "outputs": [
    {
     "data": {
      "text/plain": [
       "array([2, 4], dtype=int64)"
      ]
     },
     "execution_count": 24,
     "metadata": {},
     "output_type": "execute_result"
    }
   ],
   "source": [
    "df['num-of-doors'].unique()"
   ]
  },
  {
   "cell_type": "code",
   "execution_count": 25,
   "id": "730c58d7",
   "metadata": {},
   "outputs": [
    {
     "data": {
      "text/plain": [
       "array([ 4,  6,  5,  3, 12,  2,  8], dtype=int64)"
      ]
     },
     "execution_count": 25,
     "metadata": {},
     "output_type": "execute_result"
    }
   ],
   "source": [
    "df['num-of-cylinders'].unique()"
   ]
  },
  {
   "cell_type": "markdown",
   "id": "6d3df9db",
   "metadata": {},
   "source": [
    "# Pre-processing: Encoding (OneHot Encoder)"
   ]
  },
  {
   "cell_type": "code",
   "execution_count": 26,
   "id": "917e483f",
   "metadata": {},
   "outputs": [
    {
     "data": {
      "text/html": [
       "<div>\n",
       "<style scoped>\n",
       "    .dataframe tbody tr th:only-of-type {\n",
       "        vertical-align: middle;\n",
       "    }\n",
       "\n",
       "    .dataframe tbody tr th {\n",
       "        vertical-align: top;\n",
       "    }\n",
       "\n",
       "    .dataframe thead th {\n",
       "        text-align: right;\n",
       "    }\n",
       "</style>\n",
       "<table border=\"1\" class=\"dataframe\">\n",
       "  <thead>\n",
       "    <tr style=\"text-align: right;\">\n",
       "      <th></th>\n",
       "      <th>symboling</th>\n",
       "      <th>normalized-losses</th>\n",
       "      <th>num-of-doors</th>\n",
       "      <th>wheel-base</th>\n",
       "      <th>length</th>\n",
       "      <th>width</th>\n",
       "      <th>height</th>\n",
       "      <th>curb-weight</th>\n",
       "      <th>num-of-cylinders</th>\n",
       "      <th>engine-size</th>\n",
       "      <th>...</th>\n",
       "      <th>engine-type_ohcf</th>\n",
       "      <th>engine-type_ohcv</th>\n",
       "      <th>engine-type_rotor</th>\n",
       "      <th>fuel-system_2bbl</th>\n",
       "      <th>fuel-system_4bbl</th>\n",
       "      <th>fuel-system_idi</th>\n",
       "      <th>fuel-system_mfi</th>\n",
       "      <th>fuel-system_mpfi</th>\n",
       "      <th>fuel-system_spdi</th>\n",
       "      <th>fuel-system_spfi</th>\n",
       "    </tr>\n",
       "  </thead>\n",
       "  <tbody>\n",
       "    <tr>\n",
       "      <th>0</th>\n",
       "      <td>3</td>\n",
       "      <td>115.0</td>\n",
       "      <td>2</td>\n",
       "      <td>88.6</td>\n",
       "      <td>168.8</td>\n",
       "      <td>64.1</td>\n",
       "      <td>48.8</td>\n",
       "      <td>2548</td>\n",
       "      <td>4</td>\n",
       "      <td>130</td>\n",
       "      <td>...</td>\n",
       "      <td>0</td>\n",
       "      <td>0</td>\n",
       "      <td>0</td>\n",
       "      <td>0</td>\n",
       "      <td>0</td>\n",
       "      <td>0</td>\n",
       "      <td>0</td>\n",
       "      <td>1</td>\n",
       "      <td>0</td>\n",
       "      <td>0</td>\n",
       "    </tr>\n",
       "    <tr>\n",
       "      <th>1</th>\n",
       "      <td>3</td>\n",
       "      <td>115.0</td>\n",
       "      <td>2</td>\n",
       "      <td>88.6</td>\n",
       "      <td>168.8</td>\n",
       "      <td>64.1</td>\n",
       "      <td>48.8</td>\n",
       "      <td>2548</td>\n",
       "      <td>4</td>\n",
       "      <td>130</td>\n",
       "      <td>...</td>\n",
       "      <td>0</td>\n",
       "      <td>0</td>\n",
       "      <td>0</td>\n",
       "      <td>0</td>\n",
       "      <td>0</td>\n",
       "      <td>0</td>\n",
       "      <td>0</td>\n",
       "      <td>1</td>\n",
       "      <td>0</td>\n",
       "      <td>0</td>\n",
       "    </tr>\n",
       "    <tr>\n",
       "      <th>2</th>\n",
       "      <td>1</td>\n",
       "      <td>115.0</td>\n",
       "      <td>2</td>\n",
       "      <td>94.5</td>\n",
       "      <td>171.2</td>\n",
       "      <td>65.5</td>\n",
       "      <td>52.4</td>\n",
       "      <td>2823</td>\n",
       "      <td>6</td>\n",
       "      <td>152</td>\n",
       "      <td>...</td>\n",
       "      <td>0</td>\n",
       "      <td>1</td>\n",
       "      <td>0</td>\n",
       "      <td>0</td>\n",
       "      <td>0</td>\n",
       "      <td>0</td>\n",
       "      <td>0</td>\n",
       "      <td>1</td>\n",
       "      <td>0</td>\n",
       "      <td>0</td>\n",
       "    </tr>\n",
       "    <tr>\n",
       "      <th>3</th>\n",
       "      <td>2</td>\n",
       "      <td>164.0</td>\n",
       "      <td>4</td>\n",
       "      <td>99.8</td>\n",
       "      <td>176.6</td>\n",
       "      <td>66.2</td>\n",
       "      <td>54.3</td>\n",
       "      <td>2337</td>\n",
       "      <td>4</td>\n",
       "      <td>109</td>\n",
       "      <td>...</td>\n",
       "      <td>0</td>\n",
       "      <td>0</td>\n",
       "      <td>0</td>\n",
       "      <td>0</td>\n",
       "      <td>0</td>\n",
       "      <td>0</td>\n",
       "      <td>0</td>\n",
       "      <td>1</td>\n",
       "      <td>0</td>\n",
       "      <td>0</td>\n",
       "    </tr>\n",
       "    <tr>\n",
       "      <th>4</th>\n",
       "      <td>2</td>\n",
       "      <td>164.0</td>\n",
       "      <td>4</td>\n",
       "      <td>99.4</td>\n",
       "      <td>176.6</td>\n",
       "      <td>66.4</td>\n",
       "      <td>54.3</td>\n",
       "      <td>2824</td>\n",
       "      <td>5</td>\n",
       "      <td>136</td>\n",
       "      <td>...</td>\n",
       "      <td>0</td>\n",
       "      <td>0</td>\n",
       "      <td>0</td>\n",
       "      <td>0</td>\n",
       "      <td>0</td>\n",
       "      <td>0</td>\n",
       "      <td>0</td>\n",
       "      <td>1</td>\n",
       "      <td>0</td>\n",
       "      <td>0</td>\n",
       "    </tr>\n",
       "  </tbody>\n",
       "</table>\n",
       "<p>5 rows × 60 columns</p>\n",
       "</div>"
      ],
      "text/plain": [
       "   symboling  normalized-losses  num-of-doors  wheel-base  length  width  \\\n",
       "0          3              115.0             2        88.6   168.8   64.1   \n",
       "1          3              115.0             2        88.6   168.8   64.1   \n",
       "2          1              115.0             2        94.5   171.2   65.5   \n",
       "3          2              164.0             4        99.8   176.6   66.2   \n",
       "4          2              164.0             4        99.4   176.6   66.4   \n",
       "\n",
       "   height  curb-weight  num-of-cylinders  engine-size  ...  engine-type_ohcf  \\\n",
       "0    48.8         2548                 4          130  ...                 0   \n",
       "1    48.8         2548                 4          130  ...                 0   \n",
       "2    52.4         2823                 6          152  ...                 0   \n",
       "3    54.3         2337                 4          109  ...                 0   \n",
       "4    54.3         2824                 5          136  ...                 0   \n",
       "\n",
       "   engine-type_ohcv  engine-type_rotor  fuel-system_2bbl  fuel-system_4bbl  \\\n",
       "0                 0                  0                 0                 0   \n",
       "1                 0                  0                 0                 0   \n",
       "2                 1                  0                 0                 0   \n",
       "3                 0                  0                 0                 0   \n",
       "4                 0                  0                 0                 0   \n",
       "\n",
       "   fuel-system_idi  fuel-system_mfi  fuel-system_mpfi  fuel-system_spdi  \\\n",
       "0                0                0                 1                 0   \n",
       "1                0                0                 1                 0   \n",
       "2                0                0                 1                 0   \n",
       "3                0                0                 1                 0   \n",
       "4                0                0                 1                 0   \n",
       "\n",
       "   fuel-system_spfi  \n",
       "0                 0  \n",
       "1                 0  \n",
       "2                 0  \n",
       "3                 0  \n",
       "4                 0  \n",
       "\n",
       "[5 rows x 60 columns]"
      ]
     },
     "execution_count": 26,
     "metadata": {},
     "output_type": "execute_result"
    }
   ],
   "source": [
    "cat_features = ['make','fuel-type','aspiration','body-style','drive-wheels',\n",
    "                'engine-location','engine-type','fuel-system']\n",
    "\n",
    "df_hot = pd.get_dummies(df, columns = cat_features, drop_first=True)\n",
    "df_hot.head()\n",
    "#encoded_data.to_csv('encoded_data.csv')"
   ]
  },
  {
   "cell_type": "markdown",
   "id": "65e2879e",
   "metadata": {},
   "source": [
    "# Pre-processing: Encoding (Label Encoder)"
   ]
  },
  {
   "cell_type": "code",
   "execution_count": 27,
   "id": "503ecb1e",
   "metadata": {},
   "outputs": [
    {
     "data": {
      "text/html": [
       "<div>\n",
       "<style scoped>\n",
       "    .dataframe tbody tr th:only-of-type {\n",
       "        vertical-align: middle;\n",
       "    }\n",
       "\n",
       "    .dataframe tbody tr th {\n",
       "        vertical-align: top;\n",
       "    }\n",
       "\n",
       "    .dataframe thead th {\n",
       "        text-align: right;\n",
       "    }\n",
       "</style>\n",
       "<table border=\"1\" class=\"dataframe\">\n",
       "  <thead>\n",
       "    <tr style=\"text-align: right;\">\n",
       "      <th></th>\n",
       "      <th>symboling</th>\n",
       "      <th>normalized-losses</th>\n",
       "      <th>make</th>\n",
       "      <th>fuel-type</th>\n",
       "      <th>aspiration</th>\n",
       "      <th>num-of-doors</th>\n",
       "      <th>body-style</th>\n",
       "      <th>drive-wheels</th>\n",
       "      <th>engine-location</th>\n",
       "      <th>wheel-base</th>\n",
       "      <th>...</th>\n",
       "      <th>engine-size</th>\n",
       "      <th>fuel-system</th>\n",
       "      <th>bore</th>\n",
       "      <th>stroke</th>\n",
       "      <th>compression-ratio</th>\n",
       "      <th>horsepower</th>\n",
       "      <th>peak-rpm</th>\n",
       "      <th>city-mpg</th>\n",
       "      <th>highway-mpg</th>\n",
       "      <th>price</th>\n",
       "    </tr>\n",
       "  </thead>\n",
       "  <tbody>\n",
       "    <tr>\n",
       "      <th>0</th>\n",
       "      <td>3</td>\n",
       "      <td>115.0</td>\n",
       "      <td>0</td>\n",
       "      <td>1</td>\n",
       "      <td>0</td>\n",
       "      <td>2</td>\n",
       "      <td>0</td>\n",
       "      <td>2</td>\n",
       "      <td>0</td>\n",
       "      <td>88.6</td>\n",
       "      <td>...</td>\n",
       "      <td>130</td>\n",
       "      <td>5</td>\n",
       "      <td>3.47</td>\n",
       "      <td>2.68</td>\n",
       "      <td>9.0</td>\n",
       "      <td>111.0</td>\n",
       "      <td>5000.0</td>\n",
       "      <td>21</td>\n",
       "      <td>27</td>\n",
       "      <td>13495</td>\n",
       "    </tr>\n",
       "    <tr>\n",
       "      <th>1</th>\n",
       "      <td>3</td>\n",
       "      <td>115.0</td>\n",
       "      <td>0</td>\n",
       "      <td>1</td>\n",
       "      <td>0</td>\n",
       "      <td>2</td>\n",
       "      <td>0</td>\n",
       "      <td>2</td>\n",
       "      <td>0</td>\n",
       "      <td>88.6</td>\n",
       "      <td>...</td>\n",
       "      <td>130</td>\n",
       "      <td>5</td>\n",
       "      <td>3.47</td>\n",
       "      <td>2.68</td>\n",
       "      <td>9.0</td>\n",
       "      <td>111.0</td>\n",
       "      <td>5000.0</td>\n",
       "      <td>21</td>\n",
       "      <td>27</td>\n",
       "      <td>16500</td>\n",
       "    </tr>\n",
       "    <tr>\n",
       "      <th>2</th>\n",
       "      <td>1</td>\n",
       "      <td>115.0</td>\n",
       "      <td>0</td>\n",
       "      <td>1</td>\n",
       "      <td>0</td>\n",
       "      <td>2</td>\n",
       "      <td>2</td>\n",
       "      <td>2</td>\n",
       "      <td>0</td>\n",
       "      <td>94.5</td>\n",
       "      <td>...</td>\n",
       "      <td>152</td>\n",
       "      <td>5</td>\n",
       "      <td>2.68</td>\n",
       "      <td>3.47</td>\n",
       "      <td>9.0</td>\n",
       "      <td>154.0</td>\n",
       "      <td>5000.0</td>\n",
       "      <td>19</td>\n",
       "      <td>26</td>\n",
       "      <td>16500</td>\n",
       "    </tr>\n",
       "    <tr>\n",
       "      <th>3</th>\n",
       "      <td>2</td>\n",
       "      <td>164.0</td>\n",
       "      <td>1</td>\n",
       "      <td>1</td>\n",
       "      <td>0</td>\n",
       "      <td>4</td>\n",
       "      <td>3</td>\n",
       "      <td>1</td>\n",
       "      <td>0</td>\n",
       "      <td>99.8</td>\n",
       "      <td>...</td>\n",
       "      <td>109</td>\n",
       "      <td>5</td>\n",
       "      <td>3.19</td>\n",
       "      <td>3.40</td>\n",
       "      <td>10.0</td>\n",
       "      <td>102.0</td>\n",
       "      <td>5500.0</td>\n",
       "      <td>24</td>\n",
       "      <td>30</td>\n",
       "      <td>13950</td>\n",
       "    </tr>\n",
       "    <tr>\n",
       "      <th>4</th>\n",
       "      <td>2</td>\n",
       "      <td>164.0</td>\n",
       "      <td>1</td>\n",
       "      <td>1</td>\n",
       "      <td>0</td>\n",
       "      <td>4</td>\n",
       "      <td>3</td>\n",
       "      <td>0</td>\n",
       "      <td>0</td>\n",
       "      <td>99.4</td>\n",
       "      <td>...</td>\n",
       "      <td>136</td>\n",
       "      <td>5</td>\n",
       "      <td>3.19</td>\n",
       "      <td>3.40</td>\n",
       "      <td>8.0</td>\n",
       "      <td>115.0</td>\n",
       "      <td>5500.0</td>\n",
       "      <td>18</td>\n",
       "      <td>22</td>\n",
       "      <td>17450</td>\n",
       "    </tr>\n",
       "  </tbody>\n",
       "</table>\n",
       "<p>5 rows × 26 columns</p>\n",
       "</div>"
      ],
      "text/plain": [
       "   symboling  normalized-losses  make  fuel-type  aspiration  num-of-doors  \\\n",
       "0          3              115.0     0          1           0             2   \n",
       "1          3              115.0     0          1           0             2   \n",
       "2          1              115.0     0          1           0             2   \n",
       "3          2              164.0     1          1           0             4   \n",
       "4          2              164.0     1          1           0             4   \n",
       "\n",
       "   body-style  drive-wheels  engine-location  wheel-base  ...  engine-size  \\\n",
       "0           0             2                0        88.6  ...          130   \n",
       "1           0             2                0        88.6  ...          130   \n",
       "2           2             2                0        94.5  ...          152   \n",
       "3           3             1                0        99.8  ...          109   \n",
       "4           3             0                0        99.4  ...          136   \n",
       "\n",
       "   fuel-system  bore  stroke  compression-ratio  horsepower  peak-rpm  \\\n",
       "0            5  3.47    2.68                9.0       111.0    5000.0   \n",
       "1            5  3.47    2.68                9.0       111.0    5000.0   \n",
       "2            5  2.68    3.47                9.0       154.0    5000.0   \n",
       "3            5  3.19    3.40               10.0       102.0    5500.0   \n",
       "4            5  3.19    3.40                8.0       115.0    5500.0   \n",
       "\n",
       "   city-mpg  highway-mpg  price  \n",
       "0        21           27  13495  \n",
       "1        21           27  16500  \n",
       "2        19           26  16500  \n",
       "3        24           30  13950  \n",
       "4        18           22  17450  \n",
       "\n",
       "[5 rows x 26 columns]"
      ]
     },
     "execution_count": 27,
     "metadata": {},
     "output_type": "execute_result"
    }
   ],
   "source": [
    "#from sklearn.preprocessing import LabelEncoder\n",
    "le = LabelEncoder()\n",
    "\n",
    "df_label = df.copy()\n",
    "cat_features = ['make','fuel-type','aspiration','body-style',\n",
    "                'drive-wheels','engine-location','engine-type','fuel-system']\n",
    "\n",
    "for i in cat_features:\n",
    "    df_label[i] = le.fit_transform(df_label[[i]])\n",
    "    \n",
    "df_label.head()"
   ]
  },
  {
   "cell_type": "markdown",
   "id": "1d3669fa",
   "metadata": {},
   "source": [
    "# Implementing Linear Resression Model"
   ]
  },
  {
   "cell_type": "markdown",
   "id": "9281fb3a",
   "metadata": {},
   "source": [
    "**We will perform four LR Model as:** <br>\n",
    "    1. OneHot Encoding, no scaling <br>\n",
    "    2. OneHot Encoding, standard scaling <br>\n",
    "    3. Label Encoding, no scaling <br>\n",
    "    4. Label Encoding, Standard scaling"
   ]
  },
  {
   "cell_type": "markdown",
   "id": "d9466ddc",
   "metadata": {},
   "source": [
    "## Model: 1 (OneHot Encoding, no scaling)"
   ]
  },
  {
   "cell_type": "code",
   "execution_count": 28,
   "id": "b88594c2",
   "metadata": {},
   "outputs": [],
   "source": [
    "X = df_hot.drop('price', axis = 1) #X = df_hot.loc[:,'symboling':'highway-mpg']\n",
    "y = df_hot['price']\n",
    "\n",
    "#splitting dataset\n",
    "X_train, X_test, y_train, y_test = train_test_split(X, y, test_size=0.3,random_state = 42)\n"
   ]
  },
  {
   "cell_type": "code",
   "execution_count": 29,
   "id": "56881410",
   "metadata": {},
   "outputs": [
    {
     "data": {
      "text/html": [
       "<style>#sk-container-id-1 {color: black;background-color: white;}#sk-container-id-1 pre{padding: 0;}#sk-container-id-1 div.sk-toggleable {background-color: white;}#sk-container-id-1 label.sk-toggleable__label {cursor: pointer;display: block;width: 100%;margin-bottom: 0;padding: 0.3em;box-sizing: border-box;text-align: center;}#sk-container-id-1 label.sk-toggleable__label-arrow:before {content: \"▸\";float: left;margin-right: 0.25em;color: #696969;}#sk-container-id-1 label.sk-toggleable__label-arrow:hover:before {color: black;}#sk-container-id-1 div.sk-estimator:hover label.sk-toggleable__label-arrow:before {color: black;}#sk-container-id-1 div.sk-toggleable__content {max-height: 0;max-width: 0;overflow: hidden;text-align: left;background-color: #f0f8ff;}#sk-container-id-1 div.sk-toggleable__content pre {margin: 0.2em;color: black;border-radius: 0.25em;background-color: #f0f8ff;}#sk-container-id-1 input.sk-toggleable__control:checked~div.sk-toggleable__content {max-height: 200px;max-width: 100%;overflow: auto;}#sk-container-id-1 input.sk-toggleable__control:checked~label.sk-toggleable__label-arrow:before {content: \"▾\";}#sk-container-id-1 div.sk-estimator input.sk-toggleable__control:checked~label.sk-toggleable__label {background-color: #d4ebff;}#sk-container-id-1 div.sk-label input.sk-toggleable__control:checked~label.sk-toggleable__label {background-color: #d4ebff;}#sk-container-id-1 input.sk-hidden--visually {border: 0;clip: rect(1px 1px 1px 1px);clip: rect(1px, 1px, 1px, 1px);height: 1px;margin: -1px;overflow: hidden;padding: 0;position: absolute;width: 1px;}#sk-container-id-1 div.sk-estimator {font-family: monospace;background-color: #f0f8ff;border: 1px dotted black;border-radius: 0.25em;box-sizing: border-box;margin-bottom: 0.5em;}#sk-container-id-1 div.sk-estimator:hover {background-color: #d4ebff;}#sk-container-id-1 div.sk-parallel-item::after {content: \"\";width: 100%;border-bottom: 1px solid gray;flex-grow: 1;}#sk-container-id-1 div.sk-label:hover label.sk-toggleable__label {background-color: #d4ebff;}#sk-container-id-1 div.sk-serial::before {content: \"\";position: absolute;border-left: 1px solid gray;box-sizing: border-box;top: 0;bottom: 0;left: 50%;z-index: 0;}#sk-container-id-1 div.sk-serial {display: flex;flex-direction: column;align-items: center;background-color: white;padding-right: 0.2em;padding-left: 0.2em;position: relative;}#sk-container-id-1 div.sk-item {position: relative;z-index: 1;}#sk-container-id-1 div.sk-parallel {display: flex;align-items: stretch;justify-content: center;background-color: white;position: relative;}#sk-container-id-1 div.sk-item::before, #sk-container-id-1 div.sk-parallel-item::before {content: \"\";position: absolute;border-left: 1px solid gray;box-sizing: border-box;top: 0;bottom: 0;left: 50%;z-index: -1;}#sk-container-id-1 div.sk-parallel-item {display: flex;flex-direction: column;z-index: 1;position: relative;background-color: white;}#sk-container-id-1 div.sk-parallel-item:first-child::after {align-self: flex-end;width: 50%;}#sk-container-id-1 div.sk-parallel-item:last-child::after {align-self: flex-start;width: 50%;}#sk-container-id-1 div.sk-parallel-item:only-child::after {width: 0;}#sk-container-id-1 div.sk-dashed-wrapped {border: 1px dashed gray;margin: 0 0.4em 0.5em 0.4em;box-sizing: border-box;padding-bottom: 0.4em;background-color: white;}#sk-container-id-1 div.sk-label label {font-family: monospace;font-weight: bold;display: inline-block;line-height: 1.2em;}#sk-container-id-1 div.sk-label-container {text-align: center;}#sk-container-id-1 div.sk-container {/* jupyter's `normalize.less` sets `[hidden] { display: none; }` but bootstrap.min.css set `[hidden] { display: none !important; }` so we also need the `!important` here to be able to override the default hidden behavior on the sphinx rendered scikit-learn.org. See: https://github.com/scikit-learn/scikit-learn/issues/21755 */display: inline-block !important;position: relative;}#sk-container-id-1 div.sk-text-repr-fallback {display: none;}</style><div id=\"sk-container-id-1\" class=\"sk-top-container\"><div class=\"sk-text-repr-fallback\"><pre>LinearRegression()</pre><b>In a Jupyter environment, please rerun this cell to show the HTML representation or trust the notebook. <br />On GitHub, the HTML representation is unable to render, please try loading this page with nbviewer.org.</b></div><div class=\"sk-container\" hidden><div class=\"sk-item\"><div class=\"sk-estimator sk-toggleable\"><input class=\"sk-toggleable__control sk-hidden--visually\" id=\"sk-estimator-id-1\" type=\"checkbox\" checked><label for=\"sk-estimator-id-1\" class=\"sk-toggleable__label sk-toggleable__label-arrow\">LinearRegression</label><div class=\"sk-toggleable__content\"><pre>LinearRegression()</pre></div></div></div></div></div>"
      ],
      "text/plain": [
       "LinearRegression()"
      ]
     },
     "execution_count": 29,
     "metadata": {},
     "output_type": "execute_result"
    }
   ],
   "source": [
    "reg = LinearRegression()\n",
    "reg.fit(X_train, y_train)"
   ]
  },
  {
   "cell_type": "code",
   "execution_count": 30,
   "id": "ad806ee7",
   "metadata": {},
   "outputs": [],
   "source": [
    "#predicted_price = reg.predict(X_test)"
   ]
  },
  {
   "cell_type": "markdown",
   "id": "b5e63032",
   "metadata": {},
   "source": [
    "### Model_1 Evaluation"
   ]
  },
  {
   "cell_type": "code",
   "execution_count": 31,
   "id": "453af202",
   "metadata": {},
   "outputs": [
    {
     "name": "stdout",
     "output_type": "stream",
     "text": [
      "Train accuracy:  0.9614886044761587\n",
      "Test accuracy:  0.9275544908092279\n",
      "r2_score:  0.9275544908092279\n",
      "MSE:  6497892.981665799\n",
      "RMSE:  2549.0965030115667\n",
      "MAE:  1667.576406640075\n"
     ]
    }
   ],
   "source": [
    "train1 = reg.score(X_train, y_train)\n",
    "test1 = reg.score(X_test, y_test)\n",
    "r2_score1 = r2_score(y_test, reg.predict(X_test))\n",
    "mse1 = mean_squared_error(y_test, reg.predict(X_test))\n",
    "rmse1 = math.sqrt(mse1)\n",
    "mae1 = mean_absolute_error(y_test, reg.predict(X_test))\n",
    "\n",
    "print('Train accuracy: ',train1)\n",
    "print('Test accuracy: ',test1)\n",
    "print('r2_score: ',r2_score1)\n",
    "print('MSE: ',mse1)\n",
    "print('RMSE: ',rmse1)\n",
    "print('MAE: ',mae1)"
   ]
  },
  {
   "cell_type": "markdown",
   "id": "6fefb470",
   "metadata": {},
   "source": [
    "#### Visualization: Actual Vs Predicted Price"
   ]
  },
  {
   "cell_type": "code",
   "execution_count": 32,
   "id": "610ef9bd",
   "metadata": {},
   "outputs": [
    {
     "data": {
      "image/png": "[encoded data removed]",
      "text/plain": [
       "<Figure size 640x480 with 1 Axes>"
      ]
     },
     "metadata": {},
     "output_type": "display_data"
    }
   ],
   "source": [
    "plt.scatter(x=y_test,y=reg.predict(X_test),label = 'Predicted Price')\n",
    "plt.plot(y_test,y_test,color = 'red',label = 'Actual Price')\n",
    "plt.xlabel('Actual Price')\n",
    "plt.ylabel('Predicted Price')\n",
    "plt.title('Actual Vs Predicted Price')\n",
    "plt.legend()\n",
    "plt.show()"
   ]
  },
  {
   "cell_type": "markdown",
   "id": "6ce2ddda",
   "metadata": {},
   "source": [
    "### Model: 2 (OneHot Encoding, standard scaling)"
   ]
  },
  {
   "cell_type": "code",
   "execution_count": 33,
   "id": "73c33626",
   "metadata": {},
   "outputs": [],
   "source": [
    "scaler = StandardScaler()\n",
    "std_X_train = scaler.fit_transform(X_train)\n",
    "std_X_test = scaler.transform(X_test)"
   ]
  },
  {
   "cell_type": "code",
   "execution_count": 34,
   "id": "1168a021",
   "metadata": {},
   "outputs": [
    {
     "data": {
      "text/plain": [
       "array([[-0.64321094, -0.4196814 ,  0.81167945, ..., -0.91168461,\n",
       "        -0.21081851, -0.08451543],\n",
       "       [ 0.16654569, -0.5889465 , -1.23201345, ..., -0.91168461,\n",
       "        -0.21081851, -0.08451543],\n",
       "       [-0.64321094,  2.35626619,  0.81167945, ...,  1.09687055,\n",
       "        -0.21081851, -0.08451543],\n",
       "       ...,\n",
       "       [ 0.16654569,  0.32508502, -1.23201345, ..., -0.91168461,\n",
       "        -0.21081851, -0.08451543],\n",
       "       [ 0.97630232,  0.12196691, -1.23201345, ...,  1.09687055,\n",
       "        -0.21081851, -0.08451543],\n",
       "       [ 1.78605896,  2.5593843 , -1.23201345, ...,  1.09687055,\n",
       "        -0.21081851, -0.08451543]])"
      ]
     },
     "execution_count": 34,
     "metadata": {},
     "output_type": "execute_result"
    }
   ],
   "source": [
    "std_X_train"
   ]
  },
  {
   "cell_type": "code",
   "execution_count": 35,
   "id": "c23435b8",
   "metadata": {},
   "outputs": [
    {
     "data": {
      "text/html": [
       "<style>#sk-container-id-2 {color: black;background-color: white;}#sk-container-id-2 pre{padding: 0;}#sk-container-id-2 div.sk-toggleable {background-color: white;}#sk-container-id-2 label.sk-toggleable__label {cursor: pointer;display: block;width: 100%;margin-bottom: 0;padding: 0.3em;box-sizing: border-box;text-align: center;}#sk-container-id-2 label.sk-toggleable__label-arrow:before {content: \"▸\";float: left;margin-right: 0.25em;color: #696969;}#sk-container-id-2 label.sk-toggleable__label-arrow:hover:before {color: black;}#sk-container-id-2 div.sk-estimator:hover label.sk-toggleable__label-arrow:before {color: black;}#sk-container-id-2 div.sk-toggleable__content {max-height: 0;max-width: 0;overflow: hidden;text-align: left;background-color: #f0f8ff;}#sk-container-id-2 div.sk-toggleable__content pre {margin: 0.2em;color: black;border-radius: 0.25em;background-color: #f0f8ff;}#sk-container-id-2 input.sk-toggleable__control:checked~div.sk-toggleable__content {max-height: 200px;max-width: 100%;overflow: auto;}#sk-container-id-2 input.sk-toggleable__control:checked~label.sk-toggleable__label-arrow:before {content: \"▾\";}#sk-container-id-2 div.sk-estimator input.sk-toggleable__control:checked~label.sk-toggleable__label {background-color: #d4ebff;}#sk-container-id-2 div.sk-label input.sk-toggleable__control:checked~label.sk-toggleable__label {background-color: #d4ebff;}#sk-container-id-2 input.sk-hidden--visually {border: 0;clip: rect(1px 1px 1px 1px);clip: rect(1px, 1px, 1px, 1px);height: 1px;margin: -1px;overflow: hidden;padding: 0;position: absolute;width: 1px;}#sk-container-id-2 div.sk-estimator {font-family: monospace;background-color: #f0f8ff;border: 1px dotted black;border-radius: 0.25em;box-sizing: border-box;margin-bottom: 0.5em;}#sk-container-id-2 div.sk-estimator:hover {background-color: #d4ebff;}#sk-container-id-2 div.sk-parallel-item::after {content: \"\";width: 100%;border-bottom: 1px solid gray;flex-grow: 1;}#sk-container-id-2 div.sk-label:hover label.sk-toggleable__label {background-color: #d4ebff;}#sk-container-id-2 div.sk-serial::before {content: \"\";position: absolute;border-left: 1px solid gray;box-sizing: border-box;top: 0;bottom: 0;left: 50%;z-index: 0;}#sk-container-id-2 div.sk-serial {display: flex;flex-direction: column;align-items: center;background-color: white;padding-right: 0.2em;padding-left: 0.2em;position: relative;}#sk-container-id-2 div.sk-item {position: relative;z-index: 1;}#sk-container-id-2 div.sk-parallel {display: flex;align-items: stretch;justify-content: center;background-color: white;position: relative;}#sk-container-id-2 div.sk-item::before, #sk-container-id-2 div.sk-parallel-item::before {content: \"\";position: absolute;border-left: 1px solid gray;box-sizing: border-box;top: 0;bottom: 0;left: 50%;z-index: -1;}#sk-container-id-2 div.sk-parallel-item {display: flex;flex-direction: column;z-index: 1;position: relative;background-color: white;}#sk-container-id-2 div.sk-parallel-item:first-child::after {align-self: flex-end;width: 50%;}#sk-container-id-2 div.sk-parallel-item:last-child::after {align-self: flex-start;width: 50%;}#sk-container-id-2 div.sk-parallel-item:only-child::after {width: 0;}#sk-container-id-2 div.sk-dashed-wrapped {border: 1px dashed gray;margin: 0 0.4em 0.5em 0.4em;box-sizing: border-box;padding-bottom: 0.4em;background-color: white;}#sk-container-id-2 div.sk-label label {font-family: monospace;font-weight: bold;display: inline-block;line-height: 1.2em;}#sk-container-id-2 div.sk-label-container {text-align: center;}#sk-container-id-2 div.sk-container {/* jupyter's `normalize.less` sets `[hidden] { display: none; }` but bootstrap.min.css set `[hidden] { display: none !important; }` so we also need the `!important` here to be able to override the default hidden behavior on the sphinx rendered scikit-learn.org. See: https://github.com/scikit-learn/scikit-learn/issues/21755 */display: inline-block !important;position: relative;}#sk-container-id-2 div.sk-text-repr-fallback {display: none;}</style><div id=\"sk-container-id-2\" class=\"sk-top-container\"><div class=\"sk-text-repr-fallback\"><pre>LinearRegression()</pre><b>In a Jupyter environment, please rerun this cell to show the HTML representation or trust the notebook. <br />On GitHub, the HTML representation is unable to render, please try loading this page with nbviewer.org.</b></div><div class=\"sk-container\" hidden><div class=\"sk-item\"><div class=\"sk-estimator sk-toggleable\"><input class=\"sk-toggleable__control sk-hidden--visually\" id=\"sk-estimator-id-2\" type=\"checkbox\" checked><label for=\"sk-estimator-id-2\" class=\"sk-toggleable__label sk-toggleable__label-arrow\">LinearRegression</label><div class=\"sk-toggleable__content\"><pre>LinearRegression()</pre></div></div></div></div></div>"
      ],
      "text/plain": [
       "LinearRegression()"
      ]
     },
     "execution_count": 35,
     "metadata": {},
     "output_type": "execute_result"
    }
   ],
   "source": [
    "reg2 = LinearRegression().fit(std_X_train, y_train)\n",
    "reg2"
   ]
  },
  {
   "cell_type": "code",
   "execution_count": 36,
   "id": "b0561367",
   "metadata": {},
   "outputs": [],
   "source": [
    "#reg2.predict(std_X_test)"
   ]
  },
  {
   "cell_type": "markdown",
   "id": "12153e91",
   "metadata": {},
   "source": [
    "### Model_2 Evaluation"
   ]
  },
  {
   "cell_type": "code",
   "execution_count": 37,
   "id": "6fec310b",
   "metadata": {},
   "outputs": [
    {
     "name": "stdout",
     "output_type": "stream",
     "text": [
      "Train accuracy :  0.9614886044761588\n",
      "Test accuracy :  0.9256087447630086\n",
      "MSE:  6672413.800403352\n",
      "RMSE:  2583.1015853820677\n",
      "MAE:  1672.798947616539\n",
      "r2_score:  0.9256087447630086\n"
     ]
    }
   ],
   "source": [
    "train2 = reg2.score(std_X_train, y_train)\n",
    "test2 = reg2.score(std_X_test, y_test)\n",
    "r2_score2 = r2_score(y_test, reg2.predict(std_X_test))\n",
    "mse2 = mean_squared_error(y_test, reg2.predict(std_X_test))\n",
    "rmse2 = math.sqrt(mse2)\n",
    "mae2 = mean_absolute_error(y_test, reg2.predict(std_X_test))\n",
    "\n",
    "\n",
    "print('Train accuracy : ',reg2.score(std_X_train, y_train))\n",
    "print('Test accuracy : ',reg2.score(std_X_test, y_test))\n",
    "print('MSE: ',mean_squared_error(y_test, reg2.predict(std_X_test)))\n",
    "print('RMSE: ',math.sqrt(mean_squared_error(y_test, reg2.predict(std_X_test))))\n",
    "print('MAE: ',mean_absolute_error(y_test, reg2.predict(std_X_test)))\n",
    "print('r2_score: ',r2_score(y_test, reg2.predict(std_X_test)))"
   ]
  },
  {
   "cell_type": "markdown",
   "id": "cb2d5c46",
   "metadata": {},
   "source": [
    "#### Visualization: Actual Vs Predicted Price"
   ]
  },
  {
   "cell_type": "code",
   "execution_count": 38,
   "id": "6443bb23",
   "metadata": {},
   "outputs": [
    {
     "data": {
      "image/png": "[encoded data removed]",
      "text/plain": [
       "<Figure size 640x480 with 1 Axes>"
      ]
     },
     "metadata": {},
     "output_type": "display_data"
    }
   ],
   "source": [
    "plt.scatter(x=y_test, y=reg2.predict(std_X_test), label = 'Predicted Price')\n",
    "plt.plot(y_test,y_test,color = 'red',label = 'Actual Price')\n",
    "plt.xlabel('Actual Price')\n",
    "plt.ylabel('Predicted Price')\n",
    "plt.title('Actual Vs Predicted Price')\n",
    "plt.legend()\n",
    "plt.show()"
   ]
  },
  {
   "cell_type": "markdown",
   "id": "8edac70a",
   "metadata": {},
   "source": [
    "### Model: 3 (Label Encoding, no scaling)"
   ]
  },
  {
   "cell_type": "code",
   "execution_count": 39,
   "id": "7cd98d58",
   "metadata": {},
   "outputs": [],
   "source": [
    "#selection of feature and target variables\n",
    "X1 = df_label.loc[:,'symboling':'highway-mpg']\n",
    "y1 = df_label['price']\n",
    "\n",
    "#splitting dataset\n",
    "X1_train, X1_test, y1_train, y1_test = train_test_split(X1, y1, test_size=0.3,random_state = 42)"
   ]
  },
  {
   "cell_type": "code",
   "execution_count": 40,
   "id": "1bc24fe9",
   "metadata": {},
   "outputs": [
    {
     "data": {
      "text/html": [
       "<div>\n",
       "<style scoped>\n",
       "    .dataframe tbody tr th:only-of-type {\n",
       "        vertical-align: middle;\n",
       "    }\n",
       "\n",
       "    .dataframe tbody tr th {\n",
       "        vertical-align: top;\n",
       "    }\n",
       "\n",
       "    .dataframe thead th {\n",
       "        text-align: right;\n",
       "    }\n",
       "</style>\n",
       "<table border=\"1\" class=\"dataframe\">\n",
       "  <thead>\n",
       "    <tr style=\"text-align: right;\">\n",
       "      <th></th>\n",
       "      <th>symboling</th>\n",
       "      <th>normalized-losses</th>\n",
       "      <th>make</th>\n",
       "      <th>fuel-type</th>\n",
       "      <th>aspiration</th>\n",
       "      <th>num-of-doors</th>\n",
       "      <th>body-style</th>\n",
       "      <th>drive-wheels</th>\n",
       "      <th>engine-location</th>\n",
       "      <th>wheel-base</th>\n",
       "      <th>...</th>\n",
       "      <th>num-of-cylinders</th>\n",
       "      <th>engine-size</th>\n",
       "      <th>fuel-system</th>\n",
       "      <th>bore</th>\n",
       "      <th>stroke</th>\n",
       "      <th>compression-ratio</th>\n",
       "      <th>horsepower</th>\n",
       "      <th>peak-rpm</th>\n",
       "      <th>city-mpg</th>\n",
       "      <th>highway-mpg</th>\n",
       "    </tr>\n",
       "  </thead>\n",
       "  <tbody>\n",
       "    <tr>\n",
       "      <th>97</th>\n",
       "      <td>0</td>\n",
       "      <td>106.0</td>\n",
       "      <td>12</td>\n",
       "      <td>1</td>\n",
       "      <td>0</td>\n",
       "      <td>4</td>\n",
       "      <td>3</td>\n",
       "      <td>1</td>\n",
       "      <td>0</td>\n",
       "      <td>97.2</td>\n",
       "      <td>...</td>\n",
       "      <td>4</td>\n",
       "      <td>120</td>\n",
       "      <td>1</td>\n",
       "      <td>3.33</td>\n",
       "      <td>3.47</td>\n",
       "      <td>8.5</td>\n",
       "      <td>97.0</td>\n",
       "      <td>5200.0</td>\n",
       "      <td>27</td>\n",
       "      <td>34</td>\n",
       "    </tr>\n",
       "    <tr>\n",
       "      <th>31</th>\n",
       "      <td>1</td>\n",
       "      <td>101.0</td>\n",
       "      <td>5</td>\n",
       "      <td>1</td>\n",
       "      <td>0</td>\n",
       "      <td>2</td>\n",
       "      <td>2</td>\n",
       "      <td>1</td>\n",
       "      <td>0</td>\n",
       "      <td>93.7</td>\n",
       "      <td>...</td>\n",
       "      <td>4</td>\n",
       "      <td>79</td>\n",
       "      <td>0</td>\n",
       "      <td>2.91</td>\n",
       "      <td>3.07</td>\n",
       "      <td>10.1</td>\n",
       "      <td>60.0</td>\n",
       "      <td>5500.0</td>\n",
       "      <td>38</td>\n",
       "      <td>42</td>\n",
       "    </tr>\n",
       "    <tr>\n",
       "      <th>12</th>\n",
       "      <td>0</td>\n",
       "      <td>188.0</td>\n",
       "      <td>2</td>\n",
       "      <td>1</td>\n",
       "      <td>0</td>\n",
       "      <td>4</td>\n",
       "      <td>3</td>\n",
       "      <td>2</td>\n",
       "      <td>0</td>\n",
       "      <td>101.2</td>\n",
       "      <td>...</td>\n",
       "      <td>6</td>\n",
       "      <td>164</td>\n",
       "      <td>5</td>\n",
       "      <td>3.31</td>\n",
       "      <td>3.19</td>\n",
       "      <td>9.0</td>\n",
       "      <td>121.0</td>\n",
       "      <td>4250.0</td>\n",
       "      <td>21</td>\n",
       "      <td>28</td>\n",
       "    </tr>\n",
       "    <tr>\n",
       "      <th>35</th>\n",
       "      <td>0</td>\n",
       "      <td>78.0</td>\n",
       "      <td>5</td>\n",
       "      <td>1</td>\n",
       "      <td>0</td>\n",
       "      <td>4</td>\n",
       "      <td>4</td>\n",
       "      <td>1</td>\n",
       "      <td>0</td>\n",
       "      <td>96.5</td>\n",
       "      <td>...</td>\n",
       "      <td>4</td>\n",
       "      <td>92</td>\n",
       "      <td>0</td>\n",
       "      <td>2.92</td>\n",
       "      <td>3.41</td>\n",
       "      <td>9.2</td>\n",
       "      <td>76.0</td>\n",
       "      <td>6000.0</td>\n",
       "      <td>30</td>\n",
       "      <td>34</td>\n",
       "    </tr>\n",
       "    <tr>\n",
       "      <th>119</th>\n",
       "      <td>1</td>\n",
       "      <td>154.0</td>\n",
       "      <td>14</td>\n",
       "      <td>1</td>\n",
       "      <td>0</td>\n",
       "      <td>4</td>\n",
       "      <td>3</td>\n",
       "      <td>1</td>\n",
       "      <td>0</td>\n",
       "      <td>93.7</td>\n",
       "      <td>...</td>\n",
       "      <td>4</td>\n",
       "      <td>98</td>\n",
       "      <td>1</td>\n",
       "      <td>2.97</td>\n",
       "      <td>3.23</td>\n",
       "      <td>9.4</td>\n",
       "      <td>68.0</td>\n",
       "      <td>5500.0</td>\n",
       "      <td>31</td>\n",
       "      <td>38</td>\n",
       "    </tr>\n",
       "  </tbody>\n",
       "</table>\n",
       "<p>5 rows × 25 columns</p>\n",
       "</div>"
      ],
      "text/plain": [
       "     symboling  normalized-losses  make  fuel-type  aspiration  num-of-doors  \\\n",
       "97           0              106.0    12          1           0             4   \n",
       "31           1              101.0     5          1           0             2   \n",
       "12           0              188.0     2          1           0             4   \n",
       "35           0               78.0     5          1           0             4   \n",
       "119          1              154.0    14          1           0             4   \n",
       "\n",
       "     body-style  drive-wheels  engine-location  wheel-base  ...  \\\n",
       "97            3             1                0        97.2  ...   \n",
       "31            2             1                0        93.7  ...   \n",
       "12            3             2                0       101.2  ...   \n",
       "35            4             1                0        96.5  ...   \n",
       "119           3             1                0        93.7  ...   \n",
       "\n",
       "     num-of-cylinders  engine-size  fuel-system  bore  stroke  \\\n",
       "97                  4          120            1  3.33    3.47   \n",
       "31                  4           79            0  2.91    3.07   \n",
       "12                  6          164            5  3.31    3.19   \n",
       "35                  4           92            0  2.92    3.41   \n",
       "119                 4           98            1  2.97    3.23   \n",
       "\n",
       "     compression-ratio  horsepower  peak-rpm  city-mpg  highway-mpg  \n",
       "97                 8.5        97.0    5200.0        27           34  \n",
       "31                10.1        60.0    5500.0        38           42  \n",
       "12                 9.0       121.0    4250.0        21           28  \n",
       "35                 9.2        76.0    6000.0        30           34  \n",
       "119                9.4        68.0    5500.0        31           38  \n",
       "\n",
       "[5 rows x 25 columns]"
      ]
     },
     "execution_count": 40,
     "metadata": {},
     "output_type": "execute_result"
    }
   ],
   "source": [
    "X1_train.head()"
   ]
  },
  {
   "cell_type": "code",
   "execution_count": 41,
   "id": "d56a648d",
   "metadata": {},
   "outputs": [
    {
     "data": {
      "text/html": [
       "<style>#sk-container-id-3 {color: black;background-color: white;}#sk-container-id-3 pre{padding: 0;}#sk-container-id-3 div.sk-toggleable {background-color: white;}#sk-container-id-3 label.sk-toggleable__label {cursor: pointer;display: block;width: 100%;margin-bottom: 0;padding: 0.3em;box-sizing: border-box;text-align: center;}#sk-container-id-3 label.sk-toggleable__label-arrow:before {content: \"▸\";float: left;margin-right: 0.25em;color: #696969;}#sk-container-id-3 label.sk-toggleable__label-arrow:hover:before {color: black;}#sk-container-id-3 div.sk-estimator:hover label.sk-toggleable__label-arrow:before {color: black;}#sk-container-id-3 div.sk-toggleable__content {max-height: 0;max-width: 0;overflow: hidden;text-align: left;background-color: #f0f8ff;}#sk-container-id-3 div.sk-toggleable__content pre {margin: 0.2em;color: black;border-radius: 0.25em;background-color: #f0f8ff;}#sk-container-id-3 input.sk-toggleable__control:checked~div.sk-toggleable__content {max-height: 200px;max-width: 100%;overflow: auto;}#sk-container-id-3 input.sk-toggleable__control:checked~label.sk-toggleable__label-arrow:before {content: \"▾\";}#sk-container-id-3 div.sk-estimator input.sk-toggleable__control:checked~label.sk-toggleable__label {background-color: #d4ebff;}#sk-container-id-3 div.sk-label input.sk-toggleable__control:checked~label.sk-toggleable__label {background-color: #d4ebff;}#sk-container-id-3 input.sk-hidden--visually {border: 0;clip: rect(1px 1px 1px 1px);clip: rect(1px, 1px, 1px, 1px);height: 1px;margin: -1px;overflow: hidden;padding: 0;position: absolute;width: 1px;}#sk-container-id-3 div.sk-estimator {font-family: monospace;background-color: #f0f8ff;border: 1px dotted black;border-radius: 0.25em;box-sizing: border-box;margin-bottom: 0.5em;}#sk-container-id-3 div.sk-estimator:hover {background-color: #d4ebff;}#sk-container-id-3 div.sk-parallel-item::after {content: \"\";width: 100%;border-bottom: 1px solid gray;flex-grow: 1;}#sk-container-id-3 div.sk-label:hover label.sk-toggleable__label {background-color: #d4ebff;}#sk-container-id-3 div.sk-serial::before {content: \"\";position: absolute;border-left: 1px solid gray;box-sizing: border-box;top: 0;bottom: 0;left: 50%;z-index: 0;}#sk-container-id-3 div.sk-serial {display: flex;flex-direction: column;align-items: center;background-color: white;padding-right: 0.2em;padding-left: 0.2em;position: relative;}#sk-container-id-3 div.sk-item {position: relative;z-index: 1;}#sk-container-id-3 div.sk-parallel {display: flex;align-items: stretch;justify-content: center;background-color: white;position: relative;}#sk-container-id-3 div.sk-item::before, #sk-container-id-3 div.sk-parallel-item::before {content: \"\";position: absolute;border-left: 1px solid gray;box-sizing: border-box;top: 0;bottom: 0;left: 50%;z-index: -1;}#sk-container-id-3 div.sk-parallel-item {display: flex;flex-direction: column;z-index: 1;position: relative;background-color: white;}#sk-container-id-3 div.sk-parallel-item:first-child::after {align-self: flex-end;width: 50%;}#sk-container-id-3 div.sk-parallel-item:last-child::after {align-self: flex-start;width: 50%;}#sk-container-id-3 div.sk-parallel-item:only-child::after {width: 0;}#sk-container-id-3 div.sk-dashed-wrapped {border: 1px dashed gray;margin: 0 0.4em 0.5em 0.4em;box-sizing: border-box;padding-bottom: 0.4em;background-color: white;}#sk-container-id-3 div.sk-label label {font-family: monospace;font-weight: bold;display: inline-block;line-height: 1.2em;}#sk-container-id-3 div.sk-label-container {text-align: center;}#sk-container-id-3 div.sk-container {/* jupyter's `normalize.less` sets `[hidden] { display: none; }` but bootstrap.min.css set `[hidden] { display: none !important; }` so we also need the `!important` here to be able to override the default hidden behavior on the sphinx rendered scikit-learn.org. See: https://github.com/scikit-learn/scikit-learn/issues/21755 */display: inline-block !important;position: relative;}#sk-container-id-3 div.sk-text-repr-fallback {display: none;}</style><div id=\"sk-container-id-3\" class=\"sk-top-container\"><div class=\"sk-text-repr-fallback\"><pre>LinearRegression()</pre><b>In a Jupyter environment, please rerun this cell to show the HTML representation or trust the notebook. <br />On GitHub, the HTML representation is unable to render, please try loading this page with nbviewer.org.</b></div><div class=\"sk-container\" hidden><div class=\"sk-item\"><div class=\"sk-estimator sk-toggleable\"><input class=\"sk-toggleable__control sk-hidden--visually\" id=\"sk-estimator-id-3\" type=\"checkbox\" checked><label for=\"sk-estimator-id-3\" class=\"sk-toggleable__label sk-toggleable__label-arrow\">LinearRegression</label><div class=\"sk-toggleable__content\"><pre>LinearRegression()</pre></div></div></div></div></div>"
      ],
      "text/plain": [
       "LinearRegression()"
      ]
     },
     "execution_count": 41,
     "metadata": {},
     "output_type": "execute_result"
    }
   ],
   "source": [
    "reg3 = LinearRegression().fit(X1_train, y1_train)\n",
    "reg3"
   ]
  },
  {
   "cell_type": "code",
   "execution_count": 42,
   "id": "89278060",
   "metadata": {},
   "outputs": [],
   "source": [
    "#reg3.predict(X1_test)"
   ]
  },
  {
   "cell_type": "markdown",
   "id": "e8ee9039",
   "metadata": {},
   "source": [
    "### Model_3  Evaluation"
   ]
  },
  {
   "cell_type": "code",
   "execution_count": 43,
   "id": "b7d89692",
   "metadata": {},
   "outputs": [
    {
     "name": "stdout",
     "output_type": "stream",
     "text": [
      "Train accuracy :  0.9090713638617851\n",
      "Test accuracy :  0.8378049461028871\n",
      "r2_score:  0.8378049461028871\n",
      "MSE :  14547845.879633933\n",
      "RMSE :  3814.163850653762\n",
      "MAE :  2582.0266705874183\n"
     ]
    }
   ],
   "source": [
    "train3 = reg3.score(X1_train, y1_train)\n",
    "test3 = reg3.score(X1_test, y1_test)\n",
    "r2_score3 = r2_score(y1_test, reg3.predict(X1_test))\n",
    "mse3 = mean_squared_error(y1_test, reg3.predict(X1_test))\n",
    "rmse3 = math.sqrt(mse3)\n",
    "mae3 = mean_absolute_error(y1_test, reg3.predict(X1_test))\n",
    "\n",
    "\n",
    "print('Train accuracy : ',reg3.score(X1_train, y1_train))\n",
    "print('Test accuracy : ',reg3.score(X1_test, y1_test))\n",
    "print('r2_score: ',r2_score(y1_test, reg3.predict(X1_test)))\n",
    "print('MSE : ',mean_squared_error(y1_test, reg3.predict(X1_test)))\n",
    "print('RMSE : ',math.sqrt(mean_squared_error(y1_test, reg3.predict(X1_test))))\n",
    "print('MAE : ',mean_absolute_error(y1_test, reg3.predict(X1_test)))"
   ]
  },
  {
   "cell_type": "markdown",
   "id": "53489c52",
   "metadata": {},
   "source": [
    "#### Visualization: Actual Vs Predicted Price"
   ]
  },
  {
   "cell_type": "code",
   "execution_count": 44,
   "id": "107d3272",
   "metadata": {},
   "outputs": [
    {
     "data": {
      "image/png": "[encoded data removed]",
      "text/plain": [
       "<Figure size 640x480 with 1 Axes>"
      ]
     },
     "metadata": {},
     "output_type": "display_data"
    }
   ],
   "source": [
    "plt.scatter(x=y1_test, y=reg3.predict(X1_test), label = 'Predicted Price')\n",
    "plt.plot(y1_test,y1_test,color = 'red',label = 'Actual Price')\n",
    "plt.xlabel('Actual Price')\n",
    "plt.ylabel('Predicted Price')\n",
    "plt.title('Actual Vs Predicted Price')\n",
    "plt.legend()\n",
    "plt.show()"
   ]
  },
  {
   "cell_type": "markdown",
   "id": "111d419d",
   "metadata": {},
   "source": [
    "### Model: 4 (Label Encoding, Standard scaling)"
   ]
  },
  {
   "cell_type": "code",
   "execution_count": 45,
   "id": "ee858783",
   "metadata": {},
   "outputs": [],
   "source": [
    "scaler = StandardScaler()\n",
    "std_X1_train = scaler.fit_transform(X1_train)\n",
    "std_X1_test = scaler.transform(X1_test)"
   ]
  },
  {
   "cell_type": "code",
   "execution_count": 46,
   "id": "faf14e3d",
   "metadata": {},
   "outputs": [
    {
     "data": {
      "text/plain": [
       "array([[-0.64321094, -0.4196814 , -0.01885238, ...,  0.18143263,\n",
       "         0.27836676,  0.47529383],\n",
       "       [ 0.16654569, -0.5889465 , -1.11339957, ...,  0.81308696,\n",
       "         2.03343524,  1.6693505 ],\n",
       "       [-0.64321094,  2.35626619, -1.58249122, ..., -1.81880609,\n",
       "        -0.67894332, -0.42024867],\n",
       "       ...,\n",
       "       [ 0.16654569,  0.32508502, -0.01885238, ...,  0.18143263,\n",
       "         0.91657348,  0.92306509],\n",
       "       [ 0.97630232,  0.12196691,  1.23205869, ...,  0.28670835,\n",
       "         0.27836676,  0.47529383],\n",
       "       [ 1.78605896,  2.5593843 , -0.01885238, ...,  0.18143263,\n",
       "        -1.31715004, -1.16653409]])"
      ]
     },
     "execution_count": 46,
     "metadata": {},
     "output_type": "execute_result"
    }
   ],
   "source": [
    "std_X1_train"
   ]
  },
  {
   "cell_type": "code",
   "execution_count": 47,
   "id": "c36211cf",
   "metadata": {},
   "outputs": [
    {
     "data": {
      "text/html": [
       "<style>#sk-container-id-4 {color: black;background-color: white;}#sk-container-id-4 pre{padding: 0;}#sk-container-id-4 div.sk-toggleable {background-color: white;}#sk-container-id-4 label.sk-toggleable__label {cursor: pointer;display: block;width: 100%;margin-bottom: 0;padding: 0.3em;box-sizing: border-box;text-align: center;}#sk-container-id-4 label.sk-toggleable__label-arrow:before {content: \"▸\";float: left;margin-right: 0.25em;color: #696969;}#sk-container-id-4 label.sk-toggleable__label-arrow:hover:before {color: black;}#sk-container-id-4 div.sk-estimator:hover label.sk-toggleable__label-arrow:before {color: black;}#sk-container-id-4 div.sk-toggleable__content {max-height: 0;max-width: 0;overflow: hidden;text-align: left;background-color: #f0f8ff;}#sk-container-id-4 div.sk-toggleable__content pre {margin: 0.2em;color: black;border-radius: 0.25em;background-color: #f0f8ff;}#sk-container-id-4 input.sk-toggleable__control:checked~div.sk-toggleable__content {max-height: 200px;max-width: 100%;overflow: auto;}#sk-container-id-4 input.sk-toggleable__control:checked~label.sk-toggleable__label-arrow:before {content: \"▾\";}#sk-container-id-4 div.sk-estimator input.sk-toggleable__control:checked~label.sk-toggleable__label {background-color: #d4ebff;}#sk-container-id-4 div.sk-label input.sk-toggleable__control:checked~label.sk-toggleable__label {background-color: #d4ebff;}#sk-container-id-4 input.sk-hidden--visually {border: 0;clip: rect(1px 1px 1px 1px);clip: rect(1px, 1px, 1px, 1px);height: 1px;margin: -1px;overflow: hidden;padding: 0;position: absolute;width: 1px;}#sk-container-id-4 div.sk-estimator {font-family: monospace;background-color: #f0f8ff;border: 1px dotted black;border-radius: 0.25em;box-sizing: border-box;margin-bottom: 0.5em;}#sk-container-id-4 div.sk-estimator:hover {background-color: #d4ebff;}#sk-container-id-4 div.sk-parallel-item::after {content: \"\";width: 100%;border-bottom: 1px solid gray;flex-grow: 1;}#sk-container-id-4 div.sk-label:hover label.sk-toggleable__label {background-color: #d4ebff;}#sk-container-id-4 div.sk-serial::before {content: \"\";position: absolute;border-left: 1px solid gray;box-sizing: border-box;top: 0;bottom: 0;left: 50%;z-index: 0;}#sk-container-id-4 div.sk-serial {display: flex;flex-direction: column;align-items: center;background-color: white;padding-right: 0.2em;padding-left: 0.2em;position: relative;}#sk-container-id-4 div.sk-item {position: relative;z-index: 1;}#sk-container-id-4 div.sk-parallel {display: flex;align-items: stretch;justify-content: center;background-color: white;position: relative;}#sk-container-id-4 div.sk-item::before, #sk-container-id-4 div.sk-parallel-item::before {content: \"\";position: absolute;border-left: 1px solid gray;box-sizing: border-box;top: 0;bottom: 0;left: 50%;z-index: -1;}#sk-container-id-4 div.sk-parallel-item {display: flex;flex-direction: column;z-index: 1;position: relative;background-color: white;}#sk-container-id-4 div.sk-parallel-item:first-child::after {align-self: flex-end;width: 50%;}#sk-container-id-4 div.sk-parallel-item:last-child::after {align-self: flex-start;width: 50%;}#sk-container-id-4 div.sk-parallel-item:only-child::after {width: 0;}#sk-container-id-4 div.sk-dashed-wrapped {border: 1px dashed gray;margin: 0 0.4em 0.5em 0.4em;box-sizing: border-box;padding-bottom: 0.4em;background-color: white;}#sk-container-id-4 div.sk-label label {font-family: monospace;font-weight: bold;display: inline-block;line-height: 1.2em;}#sk-container-id-4 div.sk-label-container {text-align: center;}#sk-container-id-4 div.sk-container {/* jupyter's `normalize.less` sets `[hidden] { display: none; }` but bootstrap.min.css set `[hidden] { display: none !important; }` so we also need the `!important` here to be able to override the default hidden behavior on the sphinx rendered scikit-learn.org. See: https://github.com/scikit-learn/scikit-learn/issues/21755 */display: inline-block !important;position: relative;}#sk-container-id-4 div.sk-text-repr-fallback {display: none;}</style><div id=\"sk-container-id-4\" class=\"sk-top-container\"><div class=\"sk-text-repr-fallback\"><pre>LinearRegression()</pre><b>In a Jupyter environment, please rerun this cell to show the HTML representation or trust the notebook. <br />On GitHub, the HTML representation is unable to render, please try loading this page with nbviewer.org.</b></div><div class=\"sk-container\" hidden><div class=\"sk-item\"><div class=\"sk-estimator sk-toggleable\"><input class=\"sk-toggleable__control sk-hidden--visually\" id=\"sk-estimator-id-4\" type=\"checkbox\" checked><label for=\"sk-estimator-id-4\" class=\"sk-toggleable__label sk-toggleable__label-arrow\">LinearRegression</label><div class=\"sk-toggleable__content\"><pre>LinearRegression()</pre></div></div></div></div></div>"
      ],
      "text/plain": [
       "LinearRegression()"
      ]
     },
     "execution_count": 47,
     "metadata": {},
     "output_type": "execute_result"
    }
   ],
   "source": [
    "reg4 = LinearRegression().fit(std_X1_train, y1_train)\n",
    "reg4"
   ]
  },
  {
   "cell_type": "code",
   "execution_count": 48,
   "id": "7c803f4f",
   "metadata": {},
   "outputs": [],
   "source": [
    "#reg4.predict(std_X1_test)"
   ]
  },
  {
   "cell_type": "markdown",
   "id": "44e05491",
   "metadata": {},
   "source": [
    "###  Model_4 Evaluation"
   ]
  },
  {
   "cell_type": "code",
   "execution_count": 49,
   "id": "a21b2b88",
   "metadata": {},
   "outputs": [
    {
     "name": "stdout",
     "output_type": "stream",
     "text": [
      "Train accuracy :  0.9090713638617851\n",
      "Test accuracy :  0.8378049461028931\n",
      "r2_score :  0.8378049461028931\n",
      "MSE :  14547845.879633393\n",
      "RMSE :  3814.163850653691\n",
      "MAE :  2582.0266705873464\n"
     ]
    }
   ],
   "source": [
    "train4 = reg4.score(std_X1_train, y1_train)\n",
    "test4 = reg4.score(std_X1_test, y1_test)\n",
    "r2_score4 = r2_score(y1_test,reg4.predict(std_X1_test)) \n",
    "mse4 = mean_squared_error(y1_test,reg4.predict(std_X1_test))\n",
    "rmse4 = math.sqrt(mean_squared_error(y1_test,reg4.predict(std_X1_test)))\n",
    "mae4 =  mean_absolute_error(y1_test,reg4.predict(std_X1_test))\n",
    "\n",
    "print('Train accuracy : ', reg4.score(std_X1_train, y1_train))\n",
    "print('Test accuracy : ', reg4.score(std_X1_test, y1_test))\n",
    "print('r2_score : ', r2_score(y1_test,reg4.predict(std_X1_test)))  \n",
    "print('MSE : ', mean_squared_error(y1_test,reg4.predict(std_X1_test)))\n",
    "print('RMSE : ', math.sqrt(mean_squared_error(y1_test,reg4.predict(std_X1_test))))\n",
    "print('MAE : ', mean_absolute_error(y1_test,reg4.predict(std_X1_test)))"
   ]
  },
  {
   "cell_type": "markdown",
   "id": "b93b0387",
   "metadata": {},
   "source": [
    "#### Visualization: Actual Vs Predicted Price"
   ]
  },
  {
   "cell_type": "code",
   "execution_count": 50,
   "id": "5cbf3863",
   "metadata": {},
   "outputs": [
    {
     "data": {
      "image/png": "[encoded data removed]",
      "text/plain": [
       "<Figure size 640x480 with 1 Axes>"
      ]
     },
     "metadata": {},
     "output_type": "display_data"
    }
   ],
   "source": [
    "plt.scatter(x=y1_test, y=reg4.predict(std_X1_test), label = 'Predicted Price')\n",
    "plt.plot(y1_test,y1_test,color = 'red',label = 'Actual Price')\n",
    "plt.xlabel('Actual Price')\n",
    "plt.ylabel('Predicted Price')\n",
    "plt.title('Actual Vs Predicted Price')\n",
    "plt.legend()\n",
    "plt.show()"
   ]
  },
  {
   "cell_type": "markdown",
   "id": "4aa72b48",
   "metadata": {},
   "source": [
    "<h1 style=\"color:green\">Comparison of four Linear Model<h1>"
   ]
  },
  {
   "cell_type": "code",
   "execution_count": 51,
   "id": "268f9903",
   "metadata": {},
   "outputs": [
    {
     "data": {
      "text/html": [
       "<div>\n",
       "<style scoped>\n",
       "    .dataframe tbody tr th:only-of-type {\n",
       "        vertical-align: middle;\n",
       "    }\n",
       "\n",
       "    .dataframe tbody tr th {\n",
       "        vertical-align: top;\n",
       "    }\n",
       "\n",
       "    .dataframe thead th {\n",
       "        text-align: right;\n",
       "    }\n",
       "</style>\n",
       "<table border=\"1\" class=\"dataframe\">\n",
       "  <thead>\n",
       "    <tr style=\"text-align: right;\">\n",
       "      <th></th>\n",
       "      <th>model</th>\n",
       "      <th>encoding</th>\n",
       "      <th>scaling</th>\n",
       "      <th>train accuracy</th>\n",
       "      <th>test accuracy</th>\n",
       "      <th>r2_score</th>\n",
       "      <th>mse</th>\n",
       "      <th>rmse</th>\n",
       "      <th>mae</th>\n",
       "    </tr>\n",
       "  </thead>\n",
       "  <tbody>\n",
       "    <tr>\n",
       "      <th>0</th>\n",
       "      <td>Model_1</td>\n",
       "      <td>OneHot</td>\n",
       "      <td>None</td>\n",
       "      <td>0.9615</td>\n",
       "      <td>0.9276</td>\n",
       "      <td>0.9276</td>\n",
       "      <td>6497892.0</td>\n",
       "      <td>2549.0</td>\n",
       "      <td>1667.0</td>\n",
       "    </tr>\n",
       "    <tr>\n",
       "      <th>1</th>\n",
       "      <td>Model_2</td>\n",
       "      <td>OneHot</td>\n",
       "      <td>Standard</td>\n",
       "      <td>0.9615</td>\n",
       "      <td>0.9256</td>\n",
       "      <td>0.9256</td>\n",
       "      <td>6672413.0</td>\n",
       "      <td>2583.0</td>\n",
       "      <td>1672.0</td>\n",
       "    </tr>\n",
       "    <tr>\n",
       "      <th>2</th>\n",
       "      <td>Model_3</td>\n",
       "      <td>Label</td>\n",
       "      <td>None</td>\n",
       "      <td>0.9091</td>\n",
       "      <td>0.8378</td>\n",
       "      <td>0.8378</td>\n",
       "      <td>14547845.0</td>\n",
       "      <td>3814.0</td>\n",
       "      <td>2582.0</td>\n",
       "    </tr>\n",
       "    <tr>\n",
       "      <th>3</th>\n",
       "      <td>Model_4</td>\n",
       "      <td>Label</td>\n",
       "      <td>Standard</td>\n",
       "      <td>0.9091</td>\n",
       "      <td>0.8378</td>\n",
       "      <td>0.8378</td>\n",
       "      <td>14547845.0</td>\n",
       "      <td>3814.0</td>\n",
       "      <td>2582.0</td>\n",
       "    </tr>\n",
       "  </tbody>\n",
       "</table>\n",
       "</div>"
      ],
      "text/plain": [
       "     model encoding   scaling  train accuracy  test accuracy  r2_score  \\\n",
       "0  Model_1   OneHot      None          0.9615         0.9276    0.9276   \n",
       "1  Model_2   OneHot  Standard          0.9615         0.9256    0.9256   \n",
       "2  Model_3    Label      None          0.9091         0.8378    0.8378   \n",
       "3  Model_4    Label  Standard          0.9091         0.8378    0.8378   \n",
       "\n",
       "          mse    rmse     mae  \n",
       "0   6497892.0  2549.0  1667.0  \n",
       "1   6672413.0  2583.0  1672.0  \n",
       "2  14547845.0  3814.0  2582.0  \n",
       "3  14547845.0  3814.0  2582.0  "
      ]
     },
     "execution_count": 51,
     "metadata": {},
     "output_type": "execute_result"
    }
   ],
   "source": [
    "d = {\n",
    "    'model' : ['Model_1','Model_2', 'Model_3','Model_4'],\n",
    "    'encoding': ['OneHot','OneHot','Label','Label'], \n",
    "    'scaling': ['None', 'Standard', 'None', 'Standard'], \n",
    "    'train accuracy': [train1,train2,train3,train4],\n",
    "    'test accuracy': [test1,test2,test3,test4],\n",
    "    'r2_score': [r2_score1,r2_score2,r2_score3,r2_score4],\n",
    "    'mse': [mse1,mse2,mse3,mse4],\n",
    "    'rmse': [rmse1,rmse2,rmse3,rmse4],\n",
    "    'mae': [mae1,mae2,mae3,mae4],   \n",
    "}\n",
    "\n",
    "\n",
    "d = pd.DataFrame(d)\n",
    "d['mse'] = np.floor(d['mse'])\n",
    "d['rmse'] = np.floor(d['rmse'])\n",
    "d['mae'] = np.floor(d['mae'])\n",
    "d['train accuracy'] = d['train accuracy'].round(4)\n",
    "d['test accuracy'] = d['test accuracy'].round(4)\n",
    "d['r2_score'] = d['r2_score'].round(4)\n",
    "\n",
    "d"
   ]
  },
  {
   "cell_type": "markdown",
   "id": "feec26eb",
   "metadata": {},
   "source": [
    "## Conclusion:\n",
    "**Compairing four linear regression model, we see linear regression with OneHot Encoding and without feature scaling gives the best result with lowest MSE, RMSE, MAE and highest 92.76% r2_score.**"
   ]
  }
 ],
 "metadata": {
  "kernelspec": {
   "display_name": "Python 3 (ipykernel)",
   "language": "python",
   "name": "python3"
  },
  "language_info": {
   "codemirror_mode": {
    "name": "ipython",
    "version": 3
   },
   "file_extension": ".py",
   "mimetype": "text/x-python",
   "name": "python",
   "nbconvert_exporter": "python",
   "pygments_lexer": "ipython3",
   "version": "3.10.9"
  }
 },
 "nbformat": 4,
 "nbformat_minor": 5
}
