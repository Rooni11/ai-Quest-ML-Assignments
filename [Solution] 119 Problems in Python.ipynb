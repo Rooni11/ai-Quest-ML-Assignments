{
 "cells": [
  {
   "cell_type": "markdown",
   "id": "7a3a6e66",
   "metadata": {},
   "source": [
    "# Basic Problems: (1 - 10)"
   ]
  },
  {
   "cell_type": "markdown",
   "id": "fe63ea43",
   "metadata": {},
   "source": [
    "# Problem 1: (Variable Swap)\n",
    "Write a Python program to swap the values of two variables without using a temporary variable."
   ]
  },
  {
   "cell_type": "code",
   "execution_count": null,
   "id": "7320814c",
   "metadata": {},
   "outputs": [],
   "source": [
    "def swap_vars(a, b):\n",
    "    print(f\"Before swapping: a = {a}, b = {b}\")\n",
    "    a,b = b,a\n",
    "    print(f\"After swapping: a = {a}, b = {b}\")\n",
    "\n",
    "var1 = 5\n",
    "var2 = 10\n",
    "swap_vars(var1, var2)\n"
   ]
  },
  {
   "cell_type": "markdown",
   "id": "15d0b65e",
   "metadata": {},
   "source": [
    "# Problem 2:(Even or Odd)\n",
    "Write a program that determines if a number is even or odd."
   ]
  },
  {
   "cell_type": "code",
   "execution_count": 2,
   "id": "61ed22f3",
   "metadata": {},
   "outputs": [
    {
     "name": "stdout",
     "output_type": "stream",
     "text": [
      "Enter a number: 5\n",
      "The Number 5 is odd.\n"
     ]
    }
   ],
   "source": [
    "num = int(input('Enter a number: '))\n",
    "if num % 2==0:\n",
    "    print(f'The Number {num} is Even.')\n",
    "else:\n",
    "    print( f'The Number {num} is odd.')\n"
   ]
  },
  {
   "cell_type": "code",
   "execution_count": 3,
   "id": "a7414acc",
   "metadata": {},
   "outputs": [
    {
     "name": "stdout",
     "output_type": "stream",
     "text": [
      "Enter a number: 6\n",
      "The number 6 is Even.\n"
     ]
    }
   ],
   "source": [
    "def Even_Odd(a):\n",
    "    if a % 2 ==0:\n",
    "        return \"Even\"\n",
    "    else:\n",
    "        return \"Odd\"\n",
    "\n",
    "num = int(input('Enter a number: '))\n",
    "Check_num = Even_Odd(num)\n",
    "print(f\"The number {num} is {Check_num}.\")"
   ]
  },
  {
   "cell_type": "markdown",
   "id": "7cb99d90",
   "metadata": {},
   "source": [
    "# Problem 3: (String Reverse) \n",
    "Write a Python function to reverse a given string and return the reversed string."
   ]
  },
  {
   "cell_type": "code",
   "execution_count": 14,
   "id": "bacb287d",
   "metadata": {},
   "outputs": [
    {
     "name": "stdout",
     "output_type": "stream",
     "text": [
      "Original string: STUDYMART!\n",
      "Reversed string: !TRAMYDUTS\n"
     ]
    }
   ],
   "source": [
    "def reverse_string(input_string):\n",
    "    return input_string[::-1]   #using slicing\n",
    "\n",
    "input_str = \"STUDYMART!\"\n",
    "reversed_str = reverse_string(input_str)\n",
    "print(\"Original string:\", input_str)\n",
    "print(\"Reversed string:\", reversed_str)"
   ]
  },
  {
   "cell_type": "markdown",
   "id": "5f203294",
   "metadata": {},
   "source": [
    "# Problem 4: (Type Conversion)\n",
    "Given a list of integers, write a Python program to convert each element of the list to a string."
   ]
  },
  {
   "cell_type": "code",
   "execution_count": 17,
   "id": "7f08d835",
   "metadata": {},
   "outputs": [
    {
     "name": "stdout",
     "output_type": "stream",
     "text": [
      "List of integers: [1, 2, 3, 4, 5]\n",
      "List of strings: ['1', '2', '3', '4', '5']\n"
     ]
    }
   ],
   "source": [
    "integer_list = [1, 2, 3, 4, 5]\n",
    "\n",
    "string_list = [str(i) for i in int_list] ## Using list comprehension\n",
    "\n",
    "print(\"List of integers:\", integer_list)\n",
    "print(\"List of strings:\", string_list)"
   ]
  },
  {
   "cell_type": "code",
   "execution_count": 19,
   "id": "095a682b",
   "metadata": {},
   "outputs": [
    {
     "name": "stdout",
     "output_type": "stream",
     "text": [
      "List of integers: [1, 2, 3, 4, 5]\n",
      "List of strings: ['1', '2', '3', '4', '5']\n"
     ]
    }
   ],
   "source": [
    "integer_list = [1, 2, 3, 4, 5]\n",
    "string_list = []\n",
    "\n",
    "for num in int_list:\n",
    "    string_list.append(str(num))\n",
    "\n",
    "print(\"List of integers:\", integer_list)\n",
    "print(\"List of strings:\", string_list)"
   ]
  },
  {
   "cell_type": "markdown",
   "id": "5a05be09",
   "metadata": {},
   "source": [
    "# Problem 5: Temperature Converter\n",
    "Write a Python program that converts a temperature in Celsius to Fahrenheit.\n",
    "Take the Celsius temperature as input from the user."
   ]
  },
  {
   "cell_type": "code",
   "execution_count": 4,
   "id": "9dba0e87",
   "metadata": {},
   "outputs": [
    {
     "name": "stdout",
     "output_type": "stream",
     "text": [
      "Celsius_Temperature: 50\n",
      "Fahr_Temperature:  122.0\n"
     ]
    }
   ],
   "source": [
    "#Celsius to Fahrenheit\n",
    "\n",
    "C = float(input('Celsius_Temperature: '))\n",
    "\n",
    "F = (9*C+160)/5\n",
    "\n",
    "print('Fahr_Temperature: ',F)"
   ]
  },
  {
   "cell_type": "code",
   "execution_count": 5,
   "id": "589f013f",
   "metadata": {},
   "outputs": [
    {
     "name": "stdout",
     "output_type": "stream",
     "text": [
      "Farhenheit_Tem: 25\n",
      "25F is equal to -3.8888888888888893C.\n"
     ]
    }
   ],
   "source": [
    "#Fahrenheit to Celsius\n",
    "\n",
    "def Fahr_to_Cel(F):\n",
    "    C = (F-32)*(5/9)\n",
    "    return C\n",
    "\n",
    "Farhenheit_Tem = int(input('Farhenheit_Tem: '))\n",
    "Celsius_Tem = Fahr_to_Cel(Farhenheit_Tem)\n",
    "print(f\"{Farhenheit_Tem}F is equal to {Celsius_Tem}C.\")"
   ]
  },
  {
   "cell_type": "markdown",
   "id": "7cb75b3c",
   "metadata": {},
   "source": [
    "# Problem 6: (Data Type Checker)\n",
    "Write a Python function that takes a variable as input and returns the data type of the variable as a string (e.g., “int”, “float”, “str”, “list”, etc.)."
   ]
  },
  {
   "cell_type": "code",
   "execution_count": 21,
   "id": "7a5ab202",
   "metadata": {},
   "outputs": [
    {
     "name": "stdout",
     "output_type": "stream",
     "text": [
      "Data type of var1: int\n",
      "Data type of var2: float\n",
      "Data type of var3: str\n",
      "Data type of var4: list\n",
      "Data type of var5: dict\n"
     ]
    }
   ],
   "source": [
    "def data_type(variable):\n",
    "    dt = type(variable)                 #for example a variable type is <class 'int'> \n",
    "    dt_final = str(dt).split(\"'\")[1]  #convert string and after split it turn into a list [\"<class \", \"int\", \">\"] \n",
    "    return dt_final                    #and [1] is index of \"int\".\n",
    "\n",
    "var1 = 10\n",
    "var2 = 3.14\n",
    "var3 = \"Boltu\"\n",
    "var4 = [1, 2, 3]\n",
    "var5 = {'a': 1, 'b': 2}\n",
    "\n",
    "\n",
    "type_var1 = data_type(var1)\n",
    "type_var2 = data_type(var2)\n",
    "type_var3 = data_type(var3)\n",
    "type_var4 = data_type(var4)\n",
    "type_var5 = data_type(var5)\n",
    "\n",
    "\n",
    "print(f\"Data type of var1: {type_var1}\")\n",
    "print(f\"Data type of var2: {type_var2}\")\n",
    "print(f\"Data type of var3: {type_var3}\")\n",
    "print(f\"Data type of var4: {type_var4}\")\n",
    "print(f\"Data type of var5: {type_var5}\")\n"
   ]
  },
  {
   "cell_type": "markdown",
   "id": "0f0b4ac3",
   "metadata": {},
   "source": [
    "# Problem 7: (String Palindrome)\n",
    "Write a program that checks if a given string is a palindrome."
   ]
  },
  {
   "cell_type": "code",
   "execution_count": 4,
   "id": "5b7d867d",
   "metadata": {},
   "outputs": [
    {
     "name": "stdout",
     "output_type": "stream",
     "text": [
      "Enter a string to check: madam\n",
      "The string 'MADAM' is a palindrome.\n"
     ]
    }
   ],
   "source": [
    "def is_palindrome(s):\n",
    "    s = s.replace(\" \", \"\").lower()\n",
    "    left, right = 0, len(s) - 1\n",
    "    \n",
    "    while left < right:\n",
    "        if s[left] != s[right]:\n",
    "            return False\n",
    "        left += 1\n",
    "        right -= 1\n",
    "    \n",
    "    return True\n",
    "\n",
    "\n",
    "string = input(\"Enter a string to check: \")\n",
    "\n",
    "if is_palindrome(string):\n",
    "    print(f\"The string '{string.upper()}' is a palindrome.\")\n",
    "else:\n",
    "    print(f\"The string '{string.upper()}' is not a palindrome.\")\n"
   ]
  },
  {
   "cell_type": "code",
   "execution_count": 6,
   "id": "191227ee",
   "metadata": {},
   "outputs": [
    {
     "name": "stdout",
     "output_type": "stream",
     "text": [
      "Enter a string to check: wow\n",
      "Given string WOW is a palindrome.\n"
     ]
    }
   ],
   "source": [
    "s = input('Enter a string to check: ')\n",
    "s = s.replace(\" \", \"\").lower()\n",
    "\n",
    "start = 0\n",
    "end = len(s)-1\n",
    "flag = True\n",
    "while start < end:\n",
    "    if s[start] != s[end]:\n",
    "        flag = False\n",
    "    start+=1\n",
    "    end-=1\n",
    "\n",
    "if flag:\n",
    "    print(f'Given string {s.upper()} is a palindrome.')\n",
    "else:\n",
    "    print(f'Given string {s.upper()} is not a palindrome.')"
   ]
  },
  {
   "cell_type": "markdown",
   "id": "7252a047",
   "metadata": {},
   "source": [
    "# Problem 8: (String Reversal with Slicing)\n",
    "Write a Python function to reverse a given string using slicing."
   ]
  },
  {
   "cell_type": "code",
   "execution_count": 8,
   "id": "867b1b0a",
   "metadata": {},
   "outputs": [
    {
     "name": "stdout",
     "output_type": "stream",
     "text": [
      "Enter a string: PICCKEY\n",
      "Reversed of PICCKEY is YEKCCIP\n"
     ]
    }
   ],
   "source": [
    "def rev_str(input_str):\n",
    "    reversed_str = input_str[-1::-1]\n",
    "    return reversed_str\n",
    "\n",
    "input_str = input('Enter a string: ')\n",
    "output = rev_str(input_str)\n",
    "print(f'Reversed of {input_str} is {output}')"
   ]
  },
  {
   "cell_type": "markdown",
   "id": "56981978",
   "metadata": {},
   "source": [
    "# Problem 9: (String Concatenation)\n",
    "Write a Python program that takes two strings as input and concatenates them into a single string without using the `+` operator."
   ]
  },
  {
   "cell_type": "code",
   "execution_count": 9,
   "id": "fac6306f",
   "metadata": {},
   "outputs": [
    {
     "name": "stdout",
     "output_type": "stream",
     "text": [
      "Enter the first string: ma\n",
      "Enter the second string: ma\n",
      "Concatenated String: mama\n"
     ]
    }
   ],
   "source": [
    "def concatenate_strings(s1, s2):\n",
    "    concatenated_string = ''.join([s1, s2]) # Also use: \"{}{}\".format(s1,s2) or \"{0}{1}\".format(s1,s2) or \"%s%s\" % (str1, str2)\n",
    "    return concatenated_string\n",
    "\n",
    "str1 = input(\"Enter the first string: \")\n",
    "str2 = input(\"Enter the second string: \")\n",
    "\n",
    "result = concatenate_strings(str1, str2)\n",
    "print(\"Concatenated String:\", result)"
   ]
  },
  {
   "cell_type": "markdown",
   "id": "a1b82259",
   "metadata": {},
   "source": [
    "# Problem 10: (Typecasting Challenge)\n",
    "Given three variables: `a = ‘100’`, `b = 25`, and `c = ‘10.5’`, write a Python program to perform the following operations and print the results: – Convert `a` to an integer and add it to `b`. – Convert `c` to a float and subtract it from the result of the first operation. – Convert the final result to a string and concatenate it with the string ” is the answer.”"
   ]
  },
  {
   "cell_type": "code",
   "execution_count": 2,
   "id": "c1b3b0a8",
   "metadata": {},
   "outputs": [
    {
     "data": {
      "text/plain": [
       "'114.5 is the answer'"
      ]
     },
     "execution_count": 2,
     "metadata": {},
     "output_type": "execute_result"
    }
   ],
   "source": [
    "a = '100'\n",
    "b = 25\n",
    "c = '10.5'\n",
    "\n",
    "r1 = int(a) + b\n",
    "\n",
    "r2 = r1 - float(c)\n",
    "\n",
    "n = ' is the answer'\n",
    "final = str(r2) + n \n",
    "final"
   ]
  },
  {
   "cell_type": "markdown",
   "id": "cb38f8d6",
   "metadata": {},
   "source": [
    "# Python Conditional Statements Problems: (11 - 19)"
   ]
  },
  {
   "cell_type": "markdown",
   "id": "17928c2f",
   "metadata": {},
   "source": [
    "# Problem 11: (Positive, Negative, or Zero)\n",
    "Write a program that determines if a number is positive, negative, or zero."
   ]
  },
  {
   "cell_type": "code",
   "execution_count": 7,
   "id": "2f3bfa1e",
   "metadata": {},
   "outputs": [
    {
     "name": "stdout",
     "output_type": "stream",
     "text": [
      "Enter a number: 25\n",
      "The number 25 is Positive.\n"
     ]
    }
   ],
   "source": [
    "x = int(input('Enter a number: '))\n",
    "\n",
    "if x>0:\n",
    "    print(f'The number {x} is Positive.')\n",
    "    \n",
    "elif x<0:\n",
    "        print(f'The number {x} is Negative.')\n",
    "        \n",
    "else:\n",
    "    print(f'The number {x} is Zero.')"
   ]
  },
  {
   "cell_type": "markdown",
   "id": "73dda174",
   "metadata": {},
   "source": [
    "# Problem 12: (Largest of Three Numbers)\n",
    "Write a program that finds the maximum of three numbers."
   ]
  },
  {
   "cell_type": "code",
   "execution_count": 8,
   "id": "18af210c",
   "metadata": {},
   "outputs": [
    {
     "name": "stdout",
     "output_type": "stream",
     "text": [
      "Maximum number is 4.\n"
     ]
    }
   ],
   "source": [
    "def Maximum(x):\n",
    "    a = max(x)\n",
    "    return a\n",
    "\n",
    "nums = [2,4,4]\n",
    "Max = Maximum(nums)\n",
    "print(f'Maximum number is {Max}.')\n"
   ]
  },
  {
   "cell_type": "code",
   "execution_count": 9,
   "id": "e6d812c2",
   "metadata": {},
   "outputs": [
    {
     "name": "stdout",
     "output_type": "stream",
     "text": [
      "1st Number: 23\n",
      "2nd Number: 10\n",
      "3rd Number: 25\n",
      "Maximum number of 23, 10 and 25 is 25.\n"
     ]
    }
   ],
   "source": [
    "def Maximum(x1,x2,x3):\n",
    "    a = max(x1,x2,x3)\n",
    "    return a\n",
    "\n",
    "num1 = int(input('1st Number: '))\n",
    "num2 = int(input('2nd Number: '))\n",
    "num3 = int(input('3rd Number: ')\n",
    "           \n",
    "Max = Maximum(num1,num2,num3)\n",
    "           \n",
    "print(f'Maximum number of {num1}, {num2} and {num3} is {Max}.')"
   ]
  },
  {
   "cell_type": "markdown",
   "id": "37529072",
   "metadata": {},
   "source": [
    "# Problem 13: (Leap Year checker)\n",
    "Write a program that determines if a year is a leap year or not."
   ]
  },
  {
   "cell_type": "code",
   "execution_count": 3,
   "id": "06837505",
   "metadata": {},
   "outputs": [
    {
     "name": "stdout",
     "output_type": "stream",
     "text": [
      "Is 2020 a leap year? True\n",
      "Is 2021 a leap year? False\n",
      "Is 2000 a leap year? True\n",
      "Is 1900 a leap year? False\n"
     ]
    }
   ],
   "source": [
    "def is_leap_year(year):\n",
    "    # Leap years are divisible by 4\n",
    "    # However, years divisible by 100 are not leap years, unless they are also divisible by 400\n",
    "    if (year % 4 == 0 and year % 100 != 0) or (year % 400 == 0):\n",
    "        return True\n",
    "    else:\n",
    "        return False\n",
    "\n",
    "year1 = 2020\n",
    "year2 = 2021\n",
    "year3 = 2000\n",
    "year4 = 1900\n",
    "\n",
    "print(f\"Is {year1} a leap year? {is_leap_year(year1)}\")\n",
    "print(f\"Is {year2} a leap year? {is_leap_year(year2)}\")\n",
    "print(f\"Is {year3} a leap year? {is_leap_year(year3)}\")\n",
    "print(f\"Is {year4} a leap year? {is_leap_year(year4)}\")\n"
   ]
  },
  {
   "cell_type": "markdown",
   "id": "f1d6bcfb",
   "metadata": {},
   "source": [
    "# Problem 14: (Grades Classification)\n",
    "Write a Python program that takes a student’s percentage as input and prints their corresponding grade according to the following criteria: – 90% or above: A+ – 80-89%: A – 70-79%: B – 60-69%: C – Below 60%: Fail"
   ]
  },
  {
   "cell_type": "code",
   "execution_count": 11,
   "id": "3673eeda",
   "metadata": {},
   "outputs": [
    {
     "name": "stdout",
     "output_type": "stream",
     "text": [
      "Enter the Percentage: 52\n",
      "The grade for 52% is F.\n"
     ]
    }
   ],
   "source": [
    "x = int(input('Enter the Percentage: '))\n",
    "if x>=90:\n",
    "    print(f'The grade for {x}% is A+.')\n",
    "elif x>=80:\n",
    "     print(f'The grade for {x}% is A.')\n",
    "elif x>=70:\n",
    "     print(f'The grade for {x}% is B.')\n",
    "elif x>=60:\n",
    "     print(f'The grade for {x}% is C.')\n",
    "else:\n",
    "     print(f'The grade for {x}% is F.')\n",
    "    "
   ]
  },
  {
   "cell_type": "code",
   "execution_count": 12,
   "id": "dd3f9b7a",
   "metadata": {},
   "outputs": [
    {
     "name": "stdout",
     "output_type": "stream",
     "text": [
      "Enter the percentage: 15\n",
      "The grade for 15% is F.\n"
     ]
    }
   ],
   "source": [
    "def cal_grade(x):\n",
    "    if x>=90:\n",
    "        return \"A+\"\n",
    "    elif x>=80:\n",
    "         return \"A\"\n",
    "    elif x>=70:\n",
    "         return \"B\"\n",
    "    elif x>=60:\n",
    "         return \"C\"\n",
    "    else:\n",
    "         return \"F\"\n",
    "\n",
    "percentage = int(input('Enter the percentage: '))\n",
    "grade = cal_grade(percentage)\n",
    "print(f'The grade for {percentage}% is {grade}.')"
   ]
  },
  {
   "cell_type": "markdown",
   "id": "a81a8192",
   "metadata": {},
   "source": [
    "# Problem 15: (Vowel or Consonant)\n",
    "Write a Python program that takes a single character as input and determines whether it is a vowel or a consonant."
   ]
  },
  {
   "cell_type": "code",
   "execution_count": 4,
   "id": "4a730d8c",
   "metadata": {},
   "outputs": [
    {
     "name": "stdout",
     "output_type": "stream",
     "text": [
      "Enter a single character: y\n",
      "The letter y is a consonant.\n"
     ]
    }
   ],
   "source": [
    "letter = input('Enter a single character: ')\n",
    "\n",
    "vowel = {'a','e','i','o','u','A','E','I','O','U'}\n",
    "\n",
    "if letter in vowel:\n",
    "    print(f'The letter {letter} is a vowel')\n",
    "    \n",
    "else:\n",
    "    print(f'The letter {letter} is a consonant.')"
   ]
  },
  {
   "cell_type": "code",
   "execution_count": 9,
   "id": "46c1fa93",
   "metadata": {},
   "outputs": [
    {
     "name": "stdout",
     "output_type": "stream",
     "text": [
      "Enter a single alphabet: t\n",
      "The character 't' is a consonant.\n"
     ]
    }
   ],
   "source": [
    "vowels = 'aeiouAEIOU'\n",
    "\n",
    "letter = input('Enter a single alphabet: ')\n",
    "\n",
    "if letter in vowels:\n",
    "    print(f\"The alphabet '{letter}' is a vowel.\")\n",
    "else:\n",
    "    print(f\"The character '{letter}' is a consonant.\")"
   ]
  },
  {
   "cell_type": "markdown",
   "id": "7c5ee623",
   "metadata": {},
   "source": [
    "# Problem 16. (Time Classification)\n",
    "Write a Python program that takes the time in hours (24-hour format) as input and prints “Good Morning”, “Good Afternoon”, “Good Evening”, or “Good Night” based on the time."
   ]
  },
  {
   "cell_type": "code",
   "execution_count": 10,
   "id": "d1f265da",
   "metadata": {},
   "outputs": [
    {
     "name": "stdout",
     "output_type": "stream",
     "text": [
      "Enter a time in hour: 7\n",
      "Good Morning\n"
     ]
    }
   ],
   "source": [
    "hour = int(input('Enter a time in hour: '))\n",
    "\n",
    "if 5 <= hour < 12:\n",
    "    print(\"Good Morning\")\n",
    "elif 12 <= hour < 17:\n",
    "    print(\"Good Afternoon\")\n",
    "elif 17 <= hour < 21:\n",
    "    print(\"Good Evening\")\n",
    "else:\n",
    "    print(\"Good Night\")"
   ]
  },
  {
   "cell_type": "markdown",
   "id": "69199578",
   "metadata": {},
   "source": [
    "# Problem 17: (Triangle Type Checker)\n",
    "Write a Python program that takes three sides of a triangle as input and determines whether it forms an equilateral, isosceles, or scalene triangle."
   ]
  },
  {
   "cell_type": "code",
   "execution_count": 3,
   "id": "97ecffcc",
   "metadata": {},
   "outputs": [
    {
     "name": "stdout",
     "output_type": "stream",
     "text": [
      "1st side of a triangle: 5\n",
      "2nd side of a triangle: 5\n",
      "3rd side of a triangle: 7\n",
      "It is a isosceles triangle.\n"
     ]
    }
   ],
   "source": [
    "a = int(input('1st side of a triangle: '))\n",
    "b = int(input('2nd side of a triangle: '))\n",
    "c = int(input('3rd side of a triangle: '))\n",
    "\n",
    "if [a,b,c]<=[0,0,0]:\n",
    "    print(\"Please enter positive values for sides.\")\n",
    "\n",
    "elif [a+b,b+c,c+a]<=[c,a,b]:\n",
    "    print('Plz enter 3 valid sides of a triangle.')\n",
    "        \n",
    "elif a==b==c:\n",
    "    print('It is a equilateral triangle.')\n",
    "    \n",
    "elif a==b or b==c or c==a:\n",
    "    print('It is a isosceles triangle.')\n",
    "    \n",
    "else:\n",
    "    print('It is a scalene triangle.')"
   ]
  },
  {
   "cell_type": "markdown",
   "id": "df989164",
   "metadata": {},
   "source": [
    "# Problem 18: (Quadratic Equation Solver)\n",
    "Write a Python program that takes the coefficients (a, b, c) of a quadratic equation as input and calculates and prints the real roots (if they exist) or a message indicating the complex roots."
   ]
  },
  {
   "cell_type": "code",
   "execution_count": 33,
   "id": "21fa0ab2",
   "metadata": {},
   "outputs": [
    {
     "name": "stdout",
     "output_type": "stream",
     "text": [
      "Enter the value of a: 2\n",
      "Enter the value of b: 3\n",
      "Enter the value of c: -2\n",
      "The roots are (0.5+0j) and (-2+0j)\n"
     ]
    }
   ],
   "source": [
    "import cmath\n",
    "\n",
    "a = float(input(\"Enter the value of a: \"))\n",
    "b = float(input(\"Enter the value of b: \"))\n",
    "c = float(input(\"Enter the value of c: \"))\n",
    "\n",
    "# Calculate the discriminant\n",
    "d = b**2 - 4*a*c\n",
    "\n",
    "if d > 0:\n",
    "    # Two distinct real roots\n",
    "    r1 = (-b + cmath.sqrt(d)) / (2*a)\n",
    "    r2 = (-b - cmath.sqrt(d)) / (2*a)\n",
    "    print(f\"The roots are {r1} and {r2}\")\n",
    "elif d == 0:\n",
    "    # One repeated real root\n",
    "    r = -b / (2*a)\n",
    "    print(f\"The root is {r}\")\n",
    "else:\n",
    "    # Two complex roots\n",
    "    r1 = (-b + cmath.sqrt(d)) / (2*a)\n",
    "    r2 = (-b - cmath.sqrt(d)) / (2*a)\n",
    "    print(f\"The roots are {r1} and {r2}\")\n"
   ]
  },
  {
   "cell_type": "markdown",
   "id": "540b1130",
   "metadata": {},
   "source": [
    "# Problem 19: (Number Ranges)\n",
    "Write a Python program that takes an integer as input and prints whether the number falls within the ranges: 0-50, 51-100, 101-150, or above 150."
   ]
  },
  {
   "cell_type": "code",
   "execution_count": 2,
   "id": "bc7e700d",
   "metadata": {},
   "outputs": [
    {
     "name": "stdout",
     "output_type": "stream",
     "text": [
      "Enter an integer: 500\n",
      "The number is above 150.\n"
     ]
    }
   ],
   "source": [
    "num = int(input('Enter an integer: '))\n",
    "\n",
    "if 0 <= num <= 50:\n",
    "    print(f'The number {num} falls within the range 0-50.')\n",
    "\n",
    "elif 51 <= num <= 100:\n",
    "    print(f'The number {num} falls within the range 51-100.')\n",
    "    \n",
    "elif 101 <= num <= 150:\n",
    "    print(f'The number {num} falls within the range 101-150.')\n",
    "\n",
    "else:\n",
    "    print('The number is above 150.')\n"
   ]
  },
  {
   "cell_type": "markdown",
   "id": "056a6e2d",
   "metadata": {},
   "source": [
    "# For & While Loops Problems: (20 - 29)"
   ]
  },
  {
   "cell_type": "markdown",
   "id": "381ec8c4",
   "metadata": {},
   "source": [
    "# Problem 20:  (Sum of N Numbers) \n",
    "Write a Python program using a for loop to calculate the sum of the first N natural numbers,\n",
    "where N is taken as input from the user."
   ]
  },
  {
   "cell_type": "code",
   "execution_count": 13,
   "id": "5626bea0",
   "metadata": {},
   "outputs": [
    {
     "name": "stdout",
     "output_type": "stream",
     "text": [
      "Enter the number of N: 23\n",
      "The sum of 23 natural number is 276\n"
     ]
    }
   ],
   "source": [
    "#using for loop\n",
    "\n",
    "N = int(input('Enter the number of N: '))\n",
    "\n",
    "sum = 0\n",
    "\n",
    "for i in range(1, N+1):\n",
    "    sum+=i\n",
    "\n",
    "print(f'The sum of {N} natural number is {sum}')"
   ]
  },
  {
   "cell_type": "code",
   "execution_count": 14,
   "id": "217d6251",
   "metadata": {},
   "outputs": [
    {
     "name": "stdout",
     "output_type": "stream",
     "text": [
      "Enter the number of N: 23\n",
      "The sum of 0 natural number is 276\n"
     ]
    }
   ],
   "source": [
    "#using while loop\n",
    "\n",
    "N = int(input('Enter the number of N: '))\n",
    "sum = 0\n",
    "\n",
    "while N>0:\n",
    "    sum+=N\n",
    "    N-=1\n",
    "\n",
    "print(f'The sum of {N} natural number is {sum}')"
   ]
  },
  {
   "cell_type": "markdown",
   "id": "8f1cf583",
   "metadata": {},
   "source": [
    "# Problem 21: (Factorial Calculator)\n",
    "Write a Python program using a while loop to calculate the factorial of a given number N."
   ]
  },
  {
   "cell_type": "code",
   "execution_count": 15,
   "id": "36d08e80",
   "metadata": {},
   "outputs": [
    {
     "name": "stdout",
     "output_type": "stream",
     "text": [
      "Enter the number:5\n",
      "The factorial of 5 is 120.\n"
     ]
    }
   ],
   "source": [
    "num = int(input('Enter the number:'))\n",
    "\n",
    "total = 1\n",
    "\n",
    "if num<0:\n",
    "        print('The factorial of negative is not defined')\n",
    "\n",
    "for i in range(num,0,-1):\n",
    "\n",
    "    total = i * total\n",
    "\n",
    "print(f'The factorial of {num} is {total}.')"
   ]
  },
  {
   "cell_type": "code",
   "execution_count": 16,
   "id": "24a5083f",
   "metadata": {},
   "outputs": [
    {
     "name": "stdout",
     "output_type": "stream",
     "text": [
      "Enter a number: 5\n",
      "The factorial of 5 is 120.\n"
     ]
    }
   ],
   "source": [
    "def fact(x):\n",
    "    \n",
    "    result = 1\n",
    "    \n",
    "    if x==0:\n",
    "        \n",
    "        print(f'The factorial of {x} is 1.')\n",
    "        \n",
    "    elif x<0:\n",
    "        print('The factorial of negative is not defined')\n",
    "        \n",
    "    else:\n",
    "        for i in range (x):\n",
    "            \n",
    "            result = result*(i+1)\n",
    "            \n",
    "        return result\n",
    "\n",
    "num = int(input('Enter a number: '))\n",
    "factorial = fact(num)\n",
    "print(f'The factorial of {num} is {factorial}.')"
   ]
  },
  {
   "cell_type": "code",
   "execution_count": 17,
   "id": "aef95ac8",
   "metadata": {},
   "outputs": [
    {
     "name": "stdout",
     "output_type": "stream",
     "text": [
      "Enter a number: 5\n",
      "The factorial of 5 is: 120\n"
     ]
    }
   ],
   "source": [
    "def factorial(n):\n",
    "    if n < 0:\n",
    "        return \"Factorial is not defined for negative numbers.\"\n",
    "    elif n == 0 or n == 1:\n",
    "        return 1\n",
    "    else:\n",
    "        return n * factorial(n - 1)\n",
    "\n",
    "num = int(input('Enter a number: '))\n",
    "result = factorial(num)\n",
    "print(f\"The factorial of {num} is: {result}\")\n"
   ]
  },
  {
   "cell_type": "markdown",
   "id": "ff53eeab",
   "metadata": {},
   "source": [
    "# Problem 22: (Table of a Number)\n",
    "Write a Python program using a for loop to print the multiplication table of a given number N."
   ]
  },
  {
   "cell_type": "code",
   "execution_count": 18,
   "id": "764bdc57",
   "metadata": {},
   "outputs": [
    {
     "name": "stdout",
     "output_type": "stream",
     "text": [
      "Multiplication table for: 11\n",
      "11 * 1 = 11\n",
      "11 * 2 = 22\n",
      "11 * 3 = 33\n",
      "11 * 4 = 44\n",
      "11 * 5 = 55\n",
      "11 * 6 = 66\n",
      "11 * 7 = 77\n",
      "11 * 8 = 88\n",
      "11 * 9 = 99\n",
      "11 * 10 = 110\n"
     ]
    }
   ],
   "source": [
    "N = int(input('Multiplication table for: '))\n",
    "for i in range(1,11):\n",
    "    print(N,'*',i,'=',N*i)"
   ]
  },
  {
   "cell_type": "code",
   "execution_count": 19,
   "id": "f94c17a3",
   "metadata": {},
   "outputs": [
    {
     "name": "stdout",
     "output_type": "stream",
     "text": [
      "Enter a number: 12\n",
      "Multiplication table for 12:\n",
      "12 * 1 = 12\n",
      "12 * 2 = 24\n",
      "12 * 3 = 36\n",
      "12 * 4 = 48\n",
      "12 * 5 = 60\n",
      "12 * 6 = 72\n",
      "12 * 7 = 84\n",
      "12 * 8 = 96\n",
      "12 * 9 = 108\n",
      "12 * 10 = 120\n"
     ]
    }
   ],
   "source": [
    "def mult_table(num):\n",
    "    print(f\"Multiplication table for {num}:\")\n",
    "    for i in range(1, 11):\n",
    "        print(f\"{num} * {i} = {num * i}\")\n",
    "\n",
    "\n",
    "num = int(input(\"Enter a number: \"))\n",
    "\n",
    "mult_table(num)\n"
   ]
  },
  {
   "cell_type": "markdown",
   "id": "686f2a2f",
   "metadata": {},
   "source": [
    "# Problem 23: (Count Digits in a Number)\n",
    "Write a Python program using a while loop to count the number of digits in a given integer N."
   ]
  },
  {
   "cell_type": "code",
   "execution_count": 4,
   "id": "71afca5b",
   "metadata": {},
   "outputs": [
    {
     "name": "stdout",
     "output_type": "stream",
     "text": [
      "Enter an integer: 124\n",
      "The number of digits in 124 is: 3\n"
     ]
    }
   ],
   "source": [
    "def count_digits(n):\n",
    "    if n == 0:\n",
    "        return 1\n",
    "    \n",
    "    count = 0\n",
    "    while n != 0:\n",
    "        n //= 10  # Remove the last digit by integer division\n",
    "        count += 1\n",
    "\n",
    "    return count\n",
    "\n",
    "N = int(input(\"Enter an integer: \"))\n",
    "result = count_digits(N)\n",
    "print(f\"The number of digits in {N} is: {result}\")\n"
   ]
  },
  {
   "cell_type": "code",
   "execution_count": 2,
   "id": "4a8e424d",
   "metadata": {},
   "outputs": [
    {
     "name": "stdout",
     "output_type": "stream",
     "text": [
      "Enter a Integer: 1254\n",
      "The number of digits in 1254 is: 4\n"
     ]
    }
   ],
   "source": [
    "N = input('Enter a Integer: ')\n",
    "\n",
    "num_digit = len(str(N))\n",
    "\n",
    "print(f\"The number of digits in {N} is: {num_digit}\")"
   ]
  },
  {
   "cell_type": "markdown",
   "id": "3fd08a7b",
   "metadata": {},
   "source": [
    "# Problem 24: (Fibonacci Sequence)\n",
    "Write a Python program using a for loop to generate the Fibonacci sequence up to a given limit N."
   ]
  },
  {
   "cell_type": "code",
   "execution_count": 19,
   "id": "50368578",
   "metadata": {},
   "outputs": [
    {
     "name": "stdout",
     "output_type": "stream",
     "text": [
      "Enter the length of the Fibonacci sequence: 6\n",
      "The Fibonacci sequence of length 6 is: [0, 1, 1, 2, 3, 5]\n"
     ]
    }
   ],
   "source": [
    "def generate_fibonacci_sequence(n):\n",
    "    fibonacci_seq = []\n",
    "    a, b = 0, 1\n",
    "\n",
    "    if n <= 0:\n",
    "        return \"Please enter a positive integer.\"\n",
    "    elif n == 1:\n",
    "        fibonacci_seq.append(a)\n",
    "    else:\n",
    "        fibonacci_seq.extend([a, b])\n",
    "        for i in range(2, n):\n",
    "            next_num = a + b\n",
    "            fibonacci_seq.append(next_num)\n",
    "            a, b = b, next_num\n",
    "\n",
    "    return fibonacci_seq\n",
    "\n",
    "length = int(input(\"Enter the length of the Fibonacci sequence: \"))\n",
    "result = generate_fibonacci_sequence(length)\n",
    "print(f\"The Fibonacci sequence of length {length} is: {result}\")"
   ]
  },
  {
   "cell_type": "code",
   "execution_count": 20,
   "id": "cad516b9",
   "metadata": {},
   "outputs": [
    {
     "name": "stdout",
     "output_type": "stream",
     "text": [
      "Enter the length of the Fibonacci sequence: 6\n",
      "The Fibonacci sequence up to 6 terms is: [0, 1, 1, 2, 3, 5]\n"
     ]
    }
   ],
   "source": [
    "def fibonacci_sequence(n):\n",
    "    fibonacci = [0, 1]\n",
    "\n",
    "    if n <= 0:\n",
    "        return \"Please enter a positive integer.\"\n",
    "    elif n == 1:\n",
    "        return [0]\n",
    "    elif n == 2:\n",
    "        return fibonacci\n",
    "\n",
    "    for i in range(2, n):\n",
    "        next_number = fibonacci[i - 1] + fibonacci[i - 2]\n",
    "        fibonacci.append(next_number)\n",
    "\n",
    "    return fibonacci\n",
    "\n",
    "num = int(input(\"Enter the length of the Fibonacci sequence: \"))\n",
    "sequence = fibonacci_sequence(num)\n",
    "print(f\"The Fibonacci sequence up to {num} terms is: {sequence}\")"
   ]
  },
  {
   "cell_type": "code",
   "execution_count": 2,
   "id": "de91eb04",
   "metadata": {},
   "outputs": [
    {
     "name": "stdout",
     "output_type": "stream",
     "text": [
      "Enter a positive integer (N) for the Fibonacci series: 10\n",
      "The Fibonacci series up to the 10th term is: [0, 1, 1, 2, 3, 5, 8, 13, 21, 34]\n"
     ]
    }
   ],
   "source": [
    "def fibonacci_series(N):\n",
    "    if N <= 0:\n",
    "        return \"Invalid input. Please provide a positive integer.\"\n",
    "    elif N == 1:\n",
    "        return [0]\n",
    "    elif N == 2:\n",
    "        return [0, 1]\n",
    "    else:\n",
    "        # Recursive call to generate the rest of the series\n",
    "        series = fibonacci_series(N - 1)\n",
    "        series.append(series[-1] + series[-2])\n",
    "        return series\n",
    "\n",
    "N = int(input(\"Enter a positive integer (N) for the Fibonacci series: \"))\n",
    "result = fibonacci_series(N)\n",
    "\n",
    "print(f\"The Fibonacci series up to the {N}th term is: {result}\")\n"
   ]
  },
  {
   "cell_type": "markdown",
   "id": "10292baf",
   "metadata": {},
   "source": [
    "# Problem 25: (Sum of Even Numbers)\n",
    "Write a Python program using a while loop to calculate the sum of all even numbers between 1 and N, where N is taken as input from the user."
   ]
  },
  {
   "cell_type": "code",
   "execution_count": 23,
   "id": "b1f263b1",
   "metadata": {},
   "outputs": [
    {
     "name": "stdout",
     "output_type": "stream",
     "text": [
      "Enter a number: 29\n",
      "The sum of even numbers between 1 and 29 is: 210\n"
     ]
    }
   ],
   "source": [
    "def sum_of_even(n):\n",
    "    sum_even = 0\n",
    "    i = 2\n",
    "    while i<=n:\n",
    "        sum_even += i\n",
    "        i += 2\n",
    "    return sum_even\n",
    "\n",
    "N = int(input(\"Enter a number: \"))\n",
    "Total = sum_of_even(N)\n",
    "print(f\"The sum of even numbers between 1 and {N} is: {Total}\")\n"
   ]
  },
  {
   "cell_type": "markdown",
   "id": "85218827",
   "metadata": {},
   "source": [
    "# Problem 26: (Print Patterns)\n",
    "Write a Python program using nested for loops to print various patterns, such as a right-angled triangle, an inverted right-angled triangle, and so on."
   ]
  },
  {
   "cell_type": "code",
   "execution_count": 7,
   "id": "a5f9482c",
   "metadata": {},
   "outputs": [
    {
     "name": "stdout",
     "output_type": "stream",
     "text": [
      "Enter a number: 5\n",
      "1 \n",
      "2 2 \n",
      "3 3 3 \n",
      "4 4 4 4 \n",
      "5 5 5 5 5 \n"
     ]
    }
   ],
   "source": [
    "#right-angled triangle\n",
    "\n",
    "N = int(input(\"Enter a number: \"))\n",
    "\n",
    "for i in range(1,N+1):\n",
    "    for l in range(1,i+1):\n",
    "        print(i,end=' ')\n",
    "    print()"
   ]
  },
  {
   "cell_type": "code",
   "execution_count": 8,
   "id": "a1772b88",
   "metadata": {},
   "outputs": [
    {
     "name": "stdout",
     "output_type": "stream",
     "text": [
      "Enter a number: 5\n",
      "1 \n",
      "1 2 \n",
      "1 2 3 \n",
      "1 2 3 4 \n",
      "1 2 3 4 5 \n"
     ]
    }
   ],
   "source": [
    "#right-angled triangle\n",
    "\n",
    "N = int(input(\"Enter a number: \"))\n",
    "\n",
    "for i in range(1,N+1):\n",
    "    for l in range(1,i+1):\n",
    "        print(l,end=' ')\n",
    "    print()"
   ]
  },
  {
   "cell_type": "code",
   "execution_count": 6,
   "id": "c84c718f",
   "metadata": {},
   "outputs": [
    {
     "name": "stdout",
     "output_type": "stream",
     "text": [
      "Enter a number: 5\n",
      "*  \n",
      "*  *  \n",
      "*  *  *  \n",
      "*  *  *  *  \n",
      "*  *  *  *  *  \n"
     ]
    }
   ],
   "source": [
    "##right-angled triangle\n",
    "\n",
    "N = int(input(\"Enter a number: \"))\n",
    "\n",
    "for i in range(1,N+1):\n",
    "    for l in range(1,i+1):\n",
    "        print('*',' ',end='')\n",
    "    print()"
   ]
  },
  {
   "cell_type": "code",
   "execution_count": 16,
   "id": "de789bd0",
   "metadata": {},
   "outputs": [
    {
     "name": "stdout",
     "output_type": "stream",
     "text": [
      "Enter a number: 5\n",
      "*  *  *  *  *  \n",
      "*  *  *  *  \n",
      "*  *  *  \n",
      "*  *  \n",
      "*  \n"
     ]
    }
   ],
   "source": [
    "#inverted right-angled triangle\n",
    "\n",
    "N = int(input(\"Enter a number: \"))\n",
    "\n",
    "for i in range(N,0,-1):\n",
    "    for l in range(1,i+1):\n",
    "        print('*',' ',end='')\n",
    "    print()"
   ]
  },
  {
   "cell_type": "code",
   "execution_count": 1,
   "id": "12deb6c7",
   "metadata": {},
   "outputs": [
    {
     "name": "stdout",
     "output_type": "stream",
     "text": [
      "Enter the row of pyramid: 7\n",
      "      * \n",
      "     * * \n",
      "    * * * \n",
      "   * * * * \n",
      "  * * * * * \n",
      " * * * * * * \n",
      "* * * * * * * \n"
     ]
    }
   ],
   "source": [
    "#Pyramid of star\n",
    "\n",
    "rows = int(input('Enter the row of pyramid: '))\n",
    "\n",
    "for i in range (1,rows+1):\n",
    "    for sapce in range(1,rows-i+1):\n",
    "        print(end=' ')\n",
    "    for star in range(1,i+1):\n",
    "        print('*',end =' ')\n",
    "    print()"
   ]
  },
  {
   "cell_type": "code",
   "execution_count": 9,
   "id": "2bfa8264",
   "metadata": {},
   "outputs": [
    {
     "name": "stdout",
     "output_type": "stream",
     "text": [
      "Enter the row of pyramid: 5\n",
      "    *\n",
      "   ***\n",
      "  *****\n",
      " *******\n",
      "*********\n"
     ]
    }
   ],
   "source": [
    "#Solid Pyramid of star\n",
    "\n",
    "rows = int(input('Enter the row of pyramid: '))\n",
    "\n",
    "for i in range (1,rows+1):\n",
    "    for sapce in range(1,rows-i+1):\n",
    "        print(end=' ')\n",
    "    for star in range(1,2*i):\n",
    "        print('*',end ='')\n",
    "    print()"
   ]
  },
  {
   "cell_type": "code",
   "execution_count": 2,
   "id": "2daa8bb5",
   "metadata": {},
   "outputs": [
    {
     "name": "stdout",
     "output_type": "stream",
     "text": [
      "Enter the row of pyramid: 5\n",
      "    1 \n",
      "   2 2 \n",
      "  3 3 3 \n",
      " 4 4 4 4 \n",
      "5 5 5 5 5 \n"
     ]
    }
   ],
   "source": [
    "#number pyramid\n",
    "\n",
    "rows = int(input('Enter the row of pyramid: '))\n",
    "\n",
    "for i in range (1,rows+1):\n",
    "    for sapce in range(1,rows-i+1):\n",
    "        print(end=' ')\n",
    "    for star in range(1,i+1):\n",
    "        print(i,end =' ')\n",
    "    print()"
   ]
  },
  {
   "cell_type": "code",
   "execution_count": 3,
   "id": "6e508dec",
   "metadata": {},
   "outputs": [
    {
     "name": "stdout",
     "output_type": "stream",
     "text": [
      "Enter a number: 5\n",
      "* * * * * \n",
      " * * * * \n",
      "  * * * \n",
      "   * * \n",
      "    * \n"
     ]
    }
   ],
   "source": [
    "#Reverse Pyramid\n",
    "\n",
    "rows = int(input(\"Enter a number: \"))\n",
    "\n",
    "for i in range(rows,0,-1):\n",
    "    \n",
    "    for space in range(0,rows-i):\n",
    "        print(end=' ')\n",
    "    \n",
    "    for l in range(1,i+1):\n",
    "        \n",
    "        print('*',end=' ')\n",
    "        \n",
    "    print()"
   ]
  },
  {
   "cell_type": "code",
   "execution_count": 4,
   "id": "d3529f9d",
   "metadata": {},
   "outputs": [
    {
     "name": "stdout",
     "output_type": "stream",
     "text": [
      "Enter a number: 6\n",
      "* * * * * * \n",
      "  * * * * * \n",
      "    * * * * \n",
      "      * * * \n",
      "        * * \n",
      "          * \n"
     ]
    }
   ],
   "source": [
    "rows = int(input(\"Enter a number: \"))\n",
    "\n",
    "for i in range(rows,0,-1):\n",
    "    \n",
    "    for space in range(0,2*(rows-i)):\n",
    "        print(end=' ')\n",
    "    \n",
    "    for l in range(1,i+1):\n",
    "        \n",
    "        print('*',end=' ')\n",
    "    print()"
   ]
  },
  {
   "cell_type": "code",
   "execution_count": 4,
   "id": "090dcfb0",
   "metadata": {},
   "outputs": [
    {
     "name": "stdout",
     "output_type": "stream",
     "text": [
      "Enter a number: 5\n",
      "        * \n",
      "      * * \n",
      "    * * * \n",
      "  * * * * \n",
      "* * * * * \n"
     ]
    }
   ],
   "source": [
    "rows = int(input(\"Enter a number: \"))\n",
    "\n",
    "for i in range(1,rows+1):\n",
    "    \n",
    "    for space in range(0,2*(rows-i)):\n",
    "        print(end=' ')\n",
    "    \n",
    "    for l in range(1,i+1):\n",
    "        \n",
    "        print('*',end=' ')\n",
    "    print()"
   ]
  },
  {
   "cell_type": "code",
   "execution_count": 5,
   "id": "6601d8a1",
   "metadata": {},
   "outputs": [
    {
     "name": "stdout",
     "output_type": "stream",
     "text": [
      "Enter a number: 5\n",
      "* * * * * \n",
      "  * * * * \n",
      "    * * * \n",
      "      * * \n",
      "        * \n",
      "        * \n",
      "      * * \n",
      "    * * * \n",
      "  * * * * \n",
      "* * * * * \n"
     ]
    }
   ],
   "source": [
    "rows = int(input(\"Enter a number: \"))\n",
    "\n",
    "for i in range(rows,0,-1):\n",
    "    \n",
    "    for space in range(0,2*(rows-i)):\n",
    "        print(end=' ')\n",
    "    \n",
    "    for l in range(1,i+1):\n",
    "        \n",
    "        print('*',end=' ')\n",
    "    print()\n",
    "    \n",
    "for i in range(1,rows+1):\n",
    "    \n",
    "    for space in range(0,2*(rows-i)):\n",
    "        print(end=' ')\n",
    "    \n",
    "    for l in range(1,i+1):\n",
    "        \n",
    "        print('*',end=' ')\n",
    "    print()"
   ]
  },
  {
   "cell_type": "code",
   "execution_count": 5,
   "id": "dd396183",
   "metadata": {},
   "outputs": [
    {
     "name": "stdout",
     "output_type": "stream",
     "text": [
      "Enter a number: 5\n",
      "* * * * * \n",
      " * * * * \n",
      "  * * * \n",
      "   * * \n",
      "    * \n",
      "    * \n",
      "   * * \n",
      "  * * * \n",
      " * * * * \n",
      "* * * * * \n"
     ]
    }
   ],
   "source": [
    "#Sandglass Pattern of Stars\n",
    "\n",
    "rows = int(input(\"Enter a number: \"))\n",
    "\n",
    "for i in range(rows,0,-1):\n",
    "    \n",
    "    for space in range(0,rows-i):\n",
    "        print(end=' ')\n",
    "    \n",
    "    for l in range(1,i+1):\n",
    "        print('*',end=' ')\n",
    "    print()\n",
    "for i in range (1,rows+1):\n",
    "    for sapce in range(1,rows-i+1):\n",
    "        print(end=' ')\n",
    "    for star in range(1,i+1):\n",
    "        print('*',end =' ')\n",
    "    print()"
   ]
  },
  {
   "cell_type": "code",
   "execution_count": 3,
   "id": "f6dcbeab",
   "metadata": {},
   "outputs": [
    {
     "name": "stdout",
     "output_type": "stream",
     "text": [
      "Enter a number: 5\n",
      "* \n",
      "* * \n",
      "* * * \n",
      "* * * * \n",
      "* * * * * \n",
      "* * * * \n",
      "* * * \n",
      "* * \n",
      "* \n"
     ]
    }
   ],
   "source": [
    "#Right Pyramid of Stars\n",
    "\n",
    "N = int(input(\"Enter a number: \"))\n",
    "\n",
    "for i in range(1,N):\n",
    "    for l in range(1,i+1):\n",
    "        print('*',end=' ')\n",
    "    print()\n",
    "\n",
    "for i in range(N,0,-1):\n",
    "    for l in range(1,i+1):\n",
    "        print('*',end=' ')\n",
    "    print()"
   ]
  },
  {
   "cell_type": "markdown",
   "id": "38564490",
   "metadata": {},
   "source": [
    "# Problem 27: (Prime Number Checker)\n",
    "Write a Python program using a while loop to check if a given number N is prime or not."
   ]
  },
  {
   "cell_type": "code",
   "execution_count": 24,
   "id": "70366bec",
   "metadata": {},
   "outputs": [
    {
     "name": "stdout",
     "output_type": "stream",
     "text": [
      "Enter a number: 23\n",
      "23 is a prime number.\n"
     ]
    }
   ],
   "source": [
    "def is_prime(number):\n",
    "    if number <= 1:\n",
    "        return False\n",
    "    for i in range(2, int(number ** 0.5) + 1):\n",
    "        if number % i == 0:\n",
    "            return False\n",
    "    return True\n",
    "\n",
    "\n",
    "num = int(input(\"Enter a number: \"))\n",
    "if is_prime(num):\n",
    "    print(f\"{num} is a prime number.\")\n",
    "else:\n",
    "    print(f\"{num} is not a prime number.\")\n"
   ]
  },
  {
   "cell_type": "code",
   "execution_count": 25,
   "id": "ea19dd14",
   "metadata": {},
   "outputs": [
    {
     "name": "stdout",
     "output_type": "stream",
     "text": [
      "Enter the integer: 23\n",
      "23 is a prime number.\n"
     ]
    }
   ],
   "source": [
    "N = int(input('Enter the integer: '))\n",
    "\n",
    "if N <= 1:\n",
    "    print(f'{N} is not a prime number.')\n",
    "    \n",
    "elif N>1:\n",
    "    for i in range(2,N):\n",
    "       if N % i ==0:\n",
    "        print(f'{N} is not a prime number.')\n",
    "        print(f'{i} is a factor of {N}.')\n",
    "        break\n",
    "    else:\n",
    "        print(f'{N} is a prime number.')\n",
    "    "
   ]
  },
  {
   "cell_type": "code",
   "execution_count": 26,
   "id": "43649b6b",
   "metadata": {},
   "outputs": [
    {
     "name": "stdout",
     "output_type": "stream",
     "text": [
      "Enter lower number: 20\n",
      "Enter upper number: 40\n",
      "23\n",
      "29\n",
      "31\n",
      "37\n",
      "Sum of prime numbers between 20 to 40 is 120.\n"
     ]
    }
   ],
   "source": [
    "#Some of prime numbers between two numbers.\n",
    "\n",
    "n1 = int(input('Enter lower number: '))\n",
    "n2 = int(input('Enter upper number: '))\n",
    "\n",
    "sum = 0\n",
    "\n",
    "for i in range(n1,n2):\n",
    "    \n",
    "    for l in range(2,i):\n",
    "       if i % l == 0:\n",
    "        break\n",
    "    else:\n",
    "        print(i)\n",
    "        sum+=i\n",
    "        \n",
    "print(f'Sum of prime numbers between {n1} to {n2} is {sum}.')"
   ]
  },
  {
   "cell_type": "markdown",
   "id": "24afcede",
   "metadata": {},
   "source": [
    "# Problem 28: (List Manipulation)\n",
    "Given a list of integers, write a Python program using a for loop to find the sum, average, maximum, and minimum values in the list."
   ]
  },
  {
   "cell_type": "code",
   "execution_count": 5,
   "id": "9c86adaa",
   "metadata": {},
   "outputs": [
    {
     "name": "stdout",
     "output_type": "stream",
     "text": [
      "The sum of the list is 69\n",
      "The average of the list is 9.857142857142858\n",
      "The maximum of the list is 67\n",
      "The minimum of the list is -99\n"
     ]
    }
   ],
   "source": [
    "numbers = [1, 35, 54, -99, 67, 2, 9]\n",
    "\n",
    "total = 0\n",
    "average = 0\n",
    "maximum = numbers[0]\n",
    "minimum = numbers[0]\n",
    "\n",
    "for num in numbers:\n",
    "    total += num\n",
    "    \n",
    "    if num > maximum:\n",
    "        maximum = num\n",
    "    if num < minimum:\n",
    "        minimum = num\n",
    "\n",
    "average = total / len(numbers)\n",
    "\n",
    "print(\"The sum of the list is\", total)\n",
    "print(\"The average of the list is\", average)\n",
    "print(\"The maximum of the list is\", maximum)\n",
    "print(\"The minimum of the list is\", minimum)\n"
   ]
  },
  {
   "cell_type": "markdown",
   "id": "5275c6f2",
   "metadata": {},
   "source": [
    "# Problem 29: (Reverse String)\n",
    "Write a Python program using a while loop to reverse a given string."
   ]
  },
  {
   "cell_type": "code",
   "execution_count": 46,
   "id": "8d3b776c",
   "metadata": {},
   "outputs": [
    {
     "name": "stdout",
     "output_type": "stream",
     "text": [
      "TRAMYDUTS\n"
     ]
    }
   ],
   "source": [
    "#Using for loop\n",
    "\n",
    "rev_st = 'STUDYMART'\n",
    "\n",
    "reversed_string = ''\n",
    "    \n",
    "for i in range(len(rev_st)-1,-1,-1):\n",
    "    reversed_string += rev_st[i]\n",
    "        \n",
    "print(reversed_string)"
   ]
  },
  {
   "cell_type": "code",
   "execution_count": 39,
   "id": "32c14b59",
   "metadata": {},
   "outputs": [
    {
     "name": "stdout",
     "output_type": "stream",
     "text": [
      "Enter a string to be reversed: STUDYMART\n",
      "TRAMYDUTS\n"
     ]
    }
   ],
   "source": [
    "#Using while loop\n",
    "\n",
    "def rev_st(input_string):\n",
    "    reversed_string = ''\n",
    "    index = len(input_string)-1\n",
    "    \n",
    "    while index>=0:\n",
    "        reversed_string += input_string[index]\n",
    "        index-=1\n",
    "    return reversed_string\n",
    "\n",
    "input_st = input('Enter a string to be reversed: ')\n",
    "output = rev_st(input_st)\n",
    "print(output)"
   ]
  },
  {
   "cell_type": "code",
   "execution_count": 41,
   "id": "93b8208b",
   "metadata": {},
   "outputs": [
    {
     "name": "stdout",
     "output_type": "stream",
     "text": [
      "YDUTS\n"
     ]
    }
   ],
   "source": [
    "#using inbuilt 'reversed' function\n",
    "\n",
    "input_str = 'STUDY'\n",
    "\n",
    "rev_string = reversed(input_str)\n",
    "\n",
    "print(''.join(rev_string))"
   ]
  },
  {
   "cell_type": "code",
   "execution_count": 45,
   "id": "70c1f84f",
   "metadata": {},
   "outputs": [
    {
     "name": "stdout",
     "output_type": "stream",
     "text": [
      "Enter a string: LOVE\n",
      "Reversed of LOVE is EVOL\n"
     ]
    }
   ],
   "source": [
    "#using extended Slicing\n",
    "\n",
    "input_str = input('Enter a string: ')\n",
    "\n",
    "reversed_str = input_str[-1::-1]\n",
    "\n",
    "print(f'Reversed of {input_str} is {reversed_str}')"
   ]
  },
  {
   "cell_type": "markdown",
   "id": "0636b407",
   "metadata": {},
   "source": [
    "# Nested Loops Problems: (30 - 34)"
   ]
  },
  {
   "cell_type": "markdown",
   "id": "cb34ebfa",
   "metadata": {},
   "source": [
    "# Problem 30: (Multiplication Table)\n",
    "Write a Python program using nested loops to print the multiplication table from 1 to 10."
   ]
  },
  {
   "cell_type": "code",
   "execution_count": 20,
   "id": "2ddbea16",
   "metadata": {},
   "outputs": [
    {
     "name": "stdout",
     "output_type": "stream",
     "text": [
      "Multiplication table for 1:\n",
      "1 * 1 = 1\n",
      "1 * 2 = 2\n",
      "1 * 3 = 3\n",
      "1 * 4 = 4\n",
      "1 * 5 = 5\n",
      "1 * 6 = 6\n",
      "1 * 7 = 7\n",
      "1 * 8 = 8\n",
      "1 * 9 = 9\n",
      "1 * 10 = 10\n",
      "Multiplication table for 2:\n",
      "2 * 1 = 2\n",
      "2 * 2 = 4\n",
      "2 * 3 = 6\n",
      "2 * 4 = 8\n",
      "2 * 5 = 10\n",
      "2 * 6 = 12\n",
      "2 * 7 = 14\n",
      "2 * 8 = 16\n",
      "2 * 9 = 18\n",
      "2 * 10 = 20\n",
      "Multiplication table for 3:\n",
      "3 * 1 = 3\n",
      "3 * 2 = 6\n",
      "3 * 3 = 9\n",
      "3 * 4 = 12\n",
      "3 * 5 = 15\n",
      "3 * 6 = 18\n",
      "3 * 7 = 21\n",
      "3 * 8 = 24\n",
      "3 * 9 = 27\n",
      "3 * 10 = 30\n",
      "Multiplication table for 4:\n",
      "4 * 1 = 4\n",
      "4 * 2 = 8\n",
      "4 * 3 = 12\n",
      "4 * 4 = 16\n",
      "4 * 5 = 20\n",
      "4 * 6 = 24\n",
      "4 * 7 = 28\n",
      "4 * 8 = 32\n",
      "4 * 9 = 36\n",
      "4 * 10 = 40\n",
      "Multiplication table for 5:\n",
      "5 * 1 = 5\n",
      "5 * 2 = 10\n",
      "5 * 3 = 15\n",
      "5 * 4 = 20\n",
      "5 * 5 = 25\n",
      "5 * 6 = 30\n",
      "5 * 7 = 35\n",
      "5 * 8 = 40\n",
      "5 * 9 = 45\n",
      "5 * 10 = 50\n",
      "Multiplication table for 6:\n",
      "6 * 1 = 6\n",
      "6 * 2 = 12\n",
      "6 * 3 = 18\n",
      "6 * 4 = 24\n",
      "6 * 5 = 30\n",
      "6 * 6 = 36\n",
      "6 * 7 = 42\n",
      "6 * 8 = 48\n",
      "6 * 9 = 54\n",
      "6 * 10 = 60\n",
      "Multiplication table for 7:\n",
      "7 * 1 = 7\n",
      "7 * 2 = 14\n",
      "7 * 3 = 21\n",
      "7 * 4 = 28\n",
      "7 * 5 = 35\n",
      "7 * 6 = 42\n",
      "7 * 7 = 49\n",
      "7 * 8 = 56\n",
      "7 * 9 = 63\n",
      "7 * 10 = 70\n",
      "Multiplication table for 8:\n",
      "8 * 1 = 8\n",
      "8 * 2 = 16\n",
      "8 * 3 = 24\n",
      "8 * 4 = 32\n",
      "8 * 5 = 40\n",
      "8 * 6 = 48\n",
      "8 * 7 = 56\n",
      "8 * 8 = 64\n",
      "8 * 9 = 72\n",
      "8 * 10 = 80\n",
      "Multiplication table for 9:\n",
      "9 * 1 = 9\n",
      "9 * 2 = 18\n",
      "9 * 3 = 27\n",
      "9 * 4 = 36\n",
      "9 * 5 = 45\n",
      "9 * 6 = 54\n",
      "9 * 7 = 63\n",
      "9 * 8 = 72\n",
      "9 * 9 = 81\n",
      "9 * 10 = 90\n",
      "Multiplication table for 10:\n",
      "10 * 1 = 10\n",
      "10 * 2 = 20\n",
      "10 * 3 = 30\n",
      "10 * 4 = 40\n",
      "10 * 5 = 50\n",
      "10 * 6 = 60\n",
      "10 * 7 = 70\n",
      "10 * 8 = 80\n",
      "10 * 9 = 90\n",
      "10 * 10 = 100\n"
     ]
    }
   ],
   "source": [
    "for i in range(1, 11):\n",
    "    print(f\"Multiplication table for {i}:\")\n",
    "    for j in range(1, 11):\n",
    "        print(f\"{i} * {j} = {i * j}\")"
   ]
  },
  {
   "cell_type": "markdown",
   "id": "3dba368c",
   "metadata": {},
   "source": [
    "# Problem 31: Pattern Print"
   ]
  },
  {
   "cell_type": "code",
   "execution_count": 17,
   "id": "8d49eed6",
   "metadata": {},
   "outputs": [
    {
     "name": "stdout",
     "output_type": "stream",
     "text": [
      "*\n",
      "**\n",
      "***\n",
      "****\n",
      "*****\n"
     ]
    }
   ],
   "source": [
    "N = 5\n",
    "\n",
    "for i in range(1,N+1):\n",
    "    for l in range(1,i+1):\n",
    "        print('*',end='')\n",
    "    print()"
   ]
  },
  {
   "cell_type": "markdown",
   "id": "4b703fcb",
   "metadata": {},
   "source": [
    "# Problem 32. (Matrix Multiplication)\n",
    "Write a Python program using nested loops to multiply two matrices."
   ]
  },
  {
   "cell_type": "code",
   "execution_count": 4,
   "id": "142f5b5a",
   "metadata": {},
   "outputs": [
    {
     "name": "stdout",
     "output_type": "stream",
     "text": [
      "[84, 90, 96]\n",
      "[201, 216, 231]\n",
      "[318, 342, 366]\n"
     ]
    }
   ],
   "source": [
    "A = [[1, 2, 3],\n",
    "     [4, 5, 6],\n",
    "     [7, 8, 9]]\n",
    "\n",
    "B = [[10, 11, 12],\n",
    "     [13, 14, 15],\n",
    "     [16, 17, 18]]\n",
    "\n",
    "result = [[0, 0, 0],\n",
    "          [0, 0, 0],\n",
    "          [0, 0, 0]]\n",
    "\n",
    "for i in range(len(A)): # Loop through the rows of A\n",
    "    for j in range(len(B[0])): # Loop through the columns of B\n",
    "        for k in range(len(B)): # Loop through the rows of B\n",
    "            \n",
    "            result[i][j] += A[i][k] * B[k][j]\n",
    "\n",
    "for row in result:\n",
    "    print(row)\n"
   ]
  },
  {
   "cell_type": "markdown",
   "id": "1ea03a3f",
   "metadata": {},
   "source": [
    "# Problem 33: (Chessboard Pattern)\n",
    "Write a Python program using nested loops to print a chessboard pattern (alternating “X” and “O” characters) of size 8×8."
   ]
  },
  {
   "cell_type": "code",
   "execution_count": 6,
   "id": "57e91986",
   "metadata": {},
   "outputs": [
    {
     "name": "stdout",
     "output_type": "stream",
     "text": [
      "X O X O X O X O \n",
      "O X O X O X O X \n",
      "X O X O X O X O \n",
      "O X O X O X O X \n",
      "X O X O X O X O \n",
      "O X O X O X O X \n",
      "X O X O X O X O \n",
      "O X O X O X O X \n"
     ]
    }
   ],
   "source": [
    "board_size = 8\n",
    "\n",
    "for i in range(board_size):\n",
    "\n",
    "    for j in range(board_size):\n",
    "        \n",
    "        if (i + j) % 2 == 0:\n",
    "            print(\"X\", end=\" \")\n",
    "            \n",
    "        else:\n",
    "            print(\"O\", end=\" \")\n",
    "    \n",
    "    print()\n"
   ]
  },
  {
   "cell_type": "markdown",
   "id": "b3bc7ff0",
   "metadata": {},
   "source": [
    "# Problem 34: (Number Pyramid)\n",
    "Write a Python program using nested loops to print a number pyramid like the following: 1 22 333 4444 55555."
   ]
  },
  {
   "cell_type": "code",
   "execution_count": 2,
   "id": "ec500c90",
   "metadata": {},
   "outputs": [
    {
     "name": "stdout",
     "output_type": "stream",
     "text": [
      "Enter the row of pyramid: 5\n",
      "    1 \n",
      "   2 2 \n",
      "  3 3 3 \n",
      " 4 4 4 4 \n",
      "5 5 5 5 5 \n"
     ]
    }
   ],
   "source": [
    "#number pyramid\n",
    "\n",
    "rows = int(input('Enter the row of pyramid: '))\n",
    "\n",
    "for i in range (1,rows+1):\n",
    "    for sapce in range(1,rows-i+1):\n",
    "        print(end=' ')\n",
    "    for star in range(1,i+1):\n",
    "        print(i,end =' ')\n",
    "    print()"
   ]
  },
  {
   "cell_type": "markdown",
   "id": "634afc03",
   "metadata": {},
   "source": [
    "# List Problems: (34 - 43)"
   ]
  },
  {
   "cell_type": "markdown",
   "id": "2c7d5e2f",
   "metadata": {},
   "source": [
    "# Problem 34: (List Sum)\n",
    "Write a Python program to find the sum of all elements in a given list of integers."
   ]
  },
  {
   "cell_type": "code",
   "execution_count": 7,
   "id": "d82c0b6c",
   "metadata": {},
   "outputs": [
    {
     "name": "stdout",
     "output_type": "stream",
     "text": [
      "Sum of element of a list:  43\n"
     ]
    }
   ],
   "source": [
    "list_of_integer = [10,15,18]\n",
    "\n",
    "sum_element = sum(list_of_integer[::])\n",
    "\n",
    "print('Sum of elements of a list: ',sum_element)"
   ]
  },
  {
   "cell_type": "markdown",
   "id": "4f896327",
   "metadata": {},
   "source": [
    "# Problem 35: (List Average)\n",
    "Write a Python program to calculate the average of all elements in a given list of integers."
   ]
  },
  {
   "cell_type": "code",
   "execution_count": 9,
   "id": "b72a5289",
   "metadata": {},
   "outputs": [
    {
     "name": "stdout",
     "output_type": "stream",
     "text": [
      "Average of elements of a list:  14.333333333333334\n"
     ]
    }
   ],
   "source": [
    "list_of_integer = [10,15,18]\n",
    "\n",
    "average = sum(list_of_integer[::])/len((list_of_integer[::]))\n",
    "\n",
    "print('Average of elements of a list: ',average)"
   ]
  },
  {
   "cell_type": "markdown",
   "id": "fbe3d24f",
   "metadata": {},
   "source": [
    "# Problem 36: (List Max and Min)\n",
    "Write a Python program to find the maximum and minimum values in a given list of integers."
   ]
  },
  {
   "cell_type": "code",
   "execution_count": 11,
   "id": "5d62f0c3",
   "metadata": {},
   "outputs": [
    {
     "name": "stdout",
     "output_type": "stream",
     "text": [
      "Maximum value:  18\n",
      "Minimum value:  10\n"
     ]
    }
   ],
   "source": [
    "list_of_integer = [10,15,18]\n",
    "\n",
    "max_value = max(list_of_integer[::])\n",
    "\n",
    "min_value = min(list_of_integer[::])\n",
    "\n",
    "print('Maximum value: ',max_value)\n",
    "print('Minimum value: ',min_value)"
   ]
  },
  {
   "cell_type": "markdown",
   "id": "73a201ab",
   "metadata": {},
   "source": [
    "# Problem 37: (List Sorting)\n",
    "Write a Python program to sort a list of integers in ascending order."
   ]
  },
  {
   "cell_type": "code",
   "execution_count": 16,
   "id": "c210300f",
   "metadata": {},
   "outputs": [
    {
     "name": "stdout",
     "output_type": "stream",
     "text": [
      "Sorted list (ascending):  None\n",
      "Sorted list (ascending):  [0, 10, 15, 18, 52, 100]\n"
     ]
    }
   ],
   "source": [
    "list_of_integer = [10,15,18,100,0,52]\n",
    "\n",
    "print ('Sorted list (ascending): ',list_of_integer.sort())\n",
    "\n",
    "#Why This code [list_of_integer.sort()] doesn't work??\n",
    "\n",
    "Sorted_list = sorted(list_of_integer)\n",
    "\n",
    "print ('Sorted list (ascending): ',Sorted_list)\n"
   ]
  },
  {
   "cell_type": "markdown",
   "id": "18307880",
   "metadata": {},
   "source": [
    "# Program 38: (List Filtering)\n",
    "Given a list of integers, write a Python program to create a new list that contains only the even numbers from the original list."
   ]
  },
  {
   "cell_type": "code",
   "execution_count": 20,
   "id": "bc1ca763",
   "metadata": {},
   "outputs": [
    {
     "name": "stdout",
     "output_type": "stream",
     "text": [
      "List of even numbers:  [10, 18, 100, 0, 52]\n"
     ]
    }
   ],
   "source": [
    "original_list = [10,15,18,100,0,52]\n",
    "\n",
    "new_list = []\n",
    "\n",
    "for num in original_list:\n",
    "    if num%2==0:\n",
    "        new_list.append(num)\n",
    "\n",
    "print('List of even numbers: ',new_list)"
   ]
  },
  {
   "cell_type": "markdown",
   "id": "fa4da322",
   "metadata": {},
   "source": [
    "# Program 39.: (List Reversal)\n",
    "Write a Python program to reverse a given list without using any built-in functions."
   ]
  },
  {
   "cell_type": "code",
   "execution_count": 29,
   "id": "d002e1f6",
   "metadata": {},
   "outputs": [
    {
     "name": "stdout",
     "output_type": "stream",
     "text": [
      "Reversal list:  [52, 0, 100, 18, 15, 10]\n"
     ]
    }
   ],
   "source": [
    "#Using for loop\n",
    "\n",
    "original_list = [10,15,18,100,0,52]\n",
    "\n",
    "reversal_list = []\n",
    "\n",
    "for i in range(len(original_list)-1,-1,-1):\n",
    "    reversal_list.append(original_list[i])\n",
    "\n",
    "print('Reversal list: ',reversal_list)"
   ]
  },
  {
   "cell_type": "code",
   "execution_count": 1,
   "id": "55616edc",
   "metadata": {},
   "outputs": [
    {
     "name": "stdout",
     "output_type": "stream",
     "text": [
      "Reversal list:  [52, 0, 100, 18, 15, 10]\n"
     ]
    }
   ],
   "source": [
    "#Using While loop\n",
    "\n",
    "original_list = [10,15,18,100,0,52]\n",
    "\n",
    "reversal_list = []\n",
    "\n",
    "index = len(original_list)-1\n",
    "\n",
    "while index>=0:\n",
    "    reversal_list.append(original_list[index])\n",
    "    index-=1\n",
    "    \n",
    "print('Reversal list: ',reversal_list)"
   ]
  },
  {
   "cell_type": "code",
   "execution_count": 2,
   "id": "34130edc",
   "metadata": {},
   "outputs": [
    {
     "data": {
      "text/plain": [
       "[52, 0, 100, 18, 15, 10]"
      ]
     },
     "execution_count": 2,
     "metadata": {},
     "output_type": "execute_result"
    }
   ],
   "source": [
    "#extra for understanding\n",
    "\n",
    "original_list = [10,15,18,100,0,52]\n",
    "\n",
    "reversal_list = original_list[::-1]\n",
    "reversal_list"
   ]
  },
  {
   "cell_type": "markdown",
   "id": "33d9d2ce",
   "metadata": {},
   "source": [
    "# Problem 40: (List Manipulation)\n",
    "Given two lists of integers, write a Python program to create a new list that contains elements common to both lists."
   ]
  },
  {
   "cell_type": "code",
   "execution_count": 4,
   "id": "0e9bdc96",
   "metadata": {},
   "outputs": [
    {
     "name": "stdout",
     "output_type": "stream",
     "text": [
      "New list that contains common elements:  [45, 14]\n"
     ]
    }
   ],
   "source": [
    "list_1 = [12,45,14]\n",
    "list_2 = [65,14,45,56]\n",
    "\n",
    "new_list = []\n",
    "\n",
    "for i in list_1:\n",
    "    for j in list_2:\n",
    "        if i==j:\n",
    "            new_list.append(i)\n",
    "\n",
    "print('New list that contains common elements: ',new_list)"
   ]
  },
  {
   "cell_type": "markdown",
   "id": "e88648e5",
   "metadata": {},
   "source": [
    "# Problem 41: (List Element Count)\n",
    "Write a Python program to count the occurrences of a specific element in a given list."
   ]
  },
  {
   "cell_type": "code",
   "execution_count": 2,
   "id": "7e191503",
   "metadata": {},
   "outputs": [
    {
     "name": "stdout",
     "output_type": "stream",
     "text": [
      "The element 12 occurs 4 times in the list.\n"
     ]
    }
   ],
   "source": [
    "#using count function\n",
    "\n",
    "my_list = [10, 12, 3, 4, 12, 5, 12, 6, 12]\n",
    "element_to_count = 12\n",
    "\n",
    "occur_el = my_list.count(element_to_count)\n",
    "\n",
    "print(f\"The element {element_to_count} occurs {occur_el} times in the list.\")\n"
   ]
  },
  {
   "cell_type": "code",
   "execution_count": 7,
   "id": "37614bcb",
   "metadata": {},
   "outputs": [
    {
     "name": "stdout",
     "output_type": "stream",
     "text": [
      "The element 12 occurs 4 times in the list.\n"
     ]
    }
   ],
   "source": [
    "my_list = [10, 12, 3, 4, 12, 5, 12, 6, 12]\n",
    "element_to_count = 12\n",
    "\n",
    "count = 0\n",
    "for item in my_list:\n",
    "    if item==element_to_count:\n",
    "        count+=1\n",
    "        \n",
    "print(f\"The element {element_to_count} occurs {count} times in the list.\")"
   ]
  },
  {
   "cell_type": "code",
   "execution_count": 8,
   "id": "41e73372",
   "metadata": {},
   "outputs": [
    {
     "name": "stdout",
     "output_type": "stream",
     "text": [
      "The element 12 occurs 4 times in the list.\n"
     ]
    }
   ],
   "source": [
    "def count_occur(My_list, element):\n",
    "    \n",
    "    count = 0\n",
    "    for item in My_list:\n",
    "        if item == element:\n",
    "            count += 1\n",
    "    return count\n",
    "\n",
    "my_list = [10, 12, 3, 4, 12, 5, 12, 6, 12]\n",
    "element_to_count = 12\n",
    "\n",
    "occur_el = count_occur(my_list, element_to_count)\n",
    "print(f\"The element {element_to_count} occurs {occur_el} times in the list.\")\n"
   ]
  },
  {
   "cell_type": "markdown",
   "id": "65b41a3b",
   "metadata": {},
   "source": [
    "# Problem 42: (List Duplicates Removal)\n",
    "Write a Python program to remove duplicates from a given list while preserving the order of the elements."
   ]
  },
  {
   "cell_type": "code",
   "execution_count": 9,
   "id": "4667cdba",
   "metadata": {},
   "outputs": [
    {
     "name": "stdout",
     "output_type": "stream",
     "text": [
      "Original List: [1, 2, 3, 2, 4, 1, 5, 6, 4]\n",
      "List without Duplicates: [1, 2, 3, 4, 5, 6]\n"
     ]
    }
   ],
   "source": [
    "#Using for loop\n",
    "\n",
    "def remove_duplicates(my_list):\n",
    "    \n",
    "    new_list = []\n",
    "    for item in my_list:\n",
    "        if item not in new_list:\n",
    "            new_list.append(item)\n",
    "    return new_list\n",
    "\n",
    "original_list = [1, 2, 3, 2, 4, 1, 5, 6, 4]\n",
    "\n",
    "result_list = remove_duplicates(original_list)\n",
    "print(f\"Original List: {original_list}\")\n",
    "print(f\"List without Duplicates: {result_list}\")"
   ]
  },
  {
   "cell_type": "code",
   "execution_count": 13,
   "id": "f51d9726",
   "metadata": {},
   "outputs": [
    {
     "name": "stdout",
     "output_type": "stream",
     "text": [
      "Original List: [1, 2, 3, 2, 4, 1, 5, 6, 4]\n",
      "List with Duplicates Removed: [1, 2, 3, 4, 5, 6]\n"
     ]
    }
   ],
   "source": [
    "#using while loop\n",
    "\n",
    "my_list = [1, 2, 3, 2, 4, 1, 5, 6, 4]\n",
    "\n",
    "new_list = []\n",
    "index = 0\n",
    "\n",
    "while index < len(my_list):\n",
    "    item = my_list[index]\n",
    "    if item not in new_list:\n",
    "        new_list.append(item)\n",
    "    index += 1\n",
    "\n",
    "print(f\"Original List: {my_list}\")\n",
    "print(f\"List with Duplicates Removed: {new_list}\")\n"
   ]
  },
  {
   "cell_type": "markdown",
   "id": "df5b5634",
   "metadata": {},
   "source": [
    "# Problem 43: (List Comprehension)\n",
    "Given a list of integers, write a Python program to create a new list that contains the squares of the elements using list comprehension."
   ]
  },
  {
   "cell_type": "code",
   "execution_count": 15,
   "id": "5742201e",
   "metadata": {},
   "outputs": [
    {
     "name": "stdout",
     "output_type": "stream",
     "text": [
      "Original List: [10, 12, 3, 4, 12, 5, 12, 6, 12]\n",
      "Modified List: [100, 144, 9, 16, 144, 25, 144, 36, 144]\n"
     ]
    }
   ],
   "source": [
    "my_list = [10, 12, 3, 4, 12, 5, 12, 6, 12]\n",
    "\n",
    "modified_list = [item*item for item in my_list]\n",
    "\n",
    "print(f\"Original List: {my_list}\")\n",
    "print(f\"Modified List: {modified_list}\")"
   ]
  },
  {
   "cell_type": "markdown",
   "id": "b24facdd",
   "metadata": {},
   "source": [
    "# Nested List Problems: (44 - 48)"
   ]
  },
  {
   "cell_type": "markdown",
   "id": "50735416",
   "metadata": {},
   "source": [
    "# Problem 44: (Matrix Addition)\n",
    "Write a Python program to add two matrices represented as nested lists."
   ]
  },
  {
   "cell_type": "code",
   "execution_count": 7,
   "id": "07aad984",
   "metadata": {},
   "outputs": [
    {
     "name": "stdout",
     "output_type": "stream",
     "text": [
      "[[10, 10, 10], [10, 10, 10], [10, 10, 10]]\n"
     ]
    }
   ],
   "source": [
    "X = [ [1, 2, 3], [4, 5, 6], [7, 8, 9] ]\n",
    "Y = [ [9, 8, 7], [6, 5, 4], [3, 2, 1] ]\n",
    "\n",
    "result = []\n",
    "\n",
    "for i in range(len(X)):\n",
    "    row = []\n",
    "    \n",
    "    for j in range(len(X[0])):\n",
    "       \n",
    "        row.append(X[i][j] + Y[i][j])\n",
    "    \n",
    "    result.append(row)\n",
    "\n",
    "print(result)\n"
   ]
  },
  {
   "cell_type": "markdown",
   "id": "34e9185c",
   "metadata": {},
   "source": [
    "# Problem 45: (Flatten Nested List)\n",
    "Write a Python program to flatten a given nested list and convert it into a single-dimensional list."
   ]
  },
  {
   "cell_type": "code",
   "execution_count": 8,
   "id": "c6077e8d",
   "metadata": {},
   "outputs": [
    {
     "name": "stdout",
     "output_type": "stream",
     "text": [
      "Original Nested List: [1, [2, [3, 4, [5, 6]], 7], 8, [9, 10]]\n",
      "Flattened List: [1, 2, 3, 4, 5, 6, 7, 8, 9, 10]\n"
     ]
    }
   ],
   "source": [
    "def f_list(n_list):\n",
    "    single_d_list = []\n",
    "    \n",
    "    for item in n_list:\n",
    "        if isinstance(item, list):\n",
    "            single_d_list.extend(f_list(item))\n",
    "            \n",
    "        else:\n",
    "            single_d_list.append(item)\n",
    "            \n",
    "    return single_d_list\n",
    "\n",
    "nested_list = [1, [2, [3, 4, [5, 6]], 7], 8, [9, 10]]\n",
    "\n",
    "single_dimensional_list = f_list(nested_list)\n",
    "\n",
    "print(\"Original Nested List:\", nested_list)\n",
    "print(\"Flattened List:\",single_dimensional_list)"
   ]
  },
  {
   "cell_type": "markdown",
   "id": "125cf169",
   "metadata": {},
   "source": [
    "# Problem 46: (List Element Frequency)\n",
    "Given a nested list containing lists of integers, write a Python program to count the frequency of each element in the entire nested list."
   ]
  },
  {
   "cell_type": "code",
   "execution_count": 10,
   "id": "104728d6",
   "metadata": {},
   "outputs": [
    {
     "name": "stdout",
     "output_type": "stream",
     "text": [
      "Nested List: [[1, 2, 3], [2, 3, 4], [3, 4, 5], [4, 5, 6]]\n",
      "Element Frequency Counts: Counter({3: 3, 4: 3, 2: 2, 5: 2, 1: 1, 6: 1})\n"
     ]
    }
   ],
   "source": [
    "from collections import Counter\n",
    "\n",
    "nested_list = [[1, 2, 3], [2, 3, 4], [3, 4, 5], [4, 5, 6]]\n",
    "\n",
    "flattened_list = [item for sublist in nested_list for item in sublist]\n",
    "\n",
    "element_counts = Counter(flattened_list)\n",
    "\n",
    "print(\"Nested List:\", nested_list)\n",
    "print(\"Element Frequency Counts:\", element_counts)"
   ]
  },
  {
   "cell_type": "markdown",
   "id": "3834c920",
   "metadata": {},
   "source": [
    "# Problem 47: (Transpose Matrix)\n",
    "Write a Python program to transpose a given matrix represented as a nested list."
   ]
  },
  {
   "cell_type": "code",
   "execution_count": 11,
   "id": "ee8aa318",
   "metadata": {},
   "outputs": [
    {
     "name": "stdout",
     "output_type": "stream",
     "text": [
      "[1, 4, 7]\n",
      "[2, 5, 8]\n",
      "[3, 6, 9]\n"
     ]
    }
   ],
   "source": [
    "matrix = [ [1, 2, 3], [4, 5, 6], [7, 8, 9] ]\n",
    "\n",
    "t_matrix = []\n",
    "\n",
    "for i in range(len(matrix[0])):\n",
    "    row = []\n",
    "   \n",
    "    for j in range(len(matrix)):\n",
    "        \n",
    "        row.append(matrix[j][i])\n",
    "    \n",
    "    t_matrix.append(row)\n",
    "\n",
    "for row in t_matrix:\n",
    "    print(row)"
   ]
  },
  {
   "cell_type": "code",
   "execution_count": 12,
   "id": "df7bc8f5",
   "metadata": {},
   "outputs": [
    {
     "name": "stdout",
     "output_type": "stream",
     "text": [
      "Original Matrix:\n",
      "[1, 2, 3]\n",
      "[4, 5, 6]\n",
      "[7, 8, 9]\n",
      "\n",
      "Transposed Matrix:\n",
      "[1, 4, 7]\n",
      "[2, 5, 8]\n",
      "[3, 6, 9]\n"
     ]
    }
   ],
   "source": [
    "original_matrix = [[1, 2, 3],\n",
    "                   [4, 5, 6],\n",
    "                   [7, 8, 9]]\n",
    "\n",
    "transposed_matrix = list(map(list, zip(*matrix)))\n",
    "\n",
    "print(\"Original Matrix:\")\n",
    "for row in original_matrix:\n",
    "    print(row)\n",
    "\n",
    "print(\"\\nTransposed Matrix:\")\n",
    "for row in transposed_matrix:\n",
    "    print(row)"
   ]
  },
  {
   "cell_type": "markdown",
   "id": "7ce038f1",
   "metadata": {},
   "source": [
    "# Problem 48: (List of Lists Concatenation)\n",
    "Given a list of nested lists, write a Python program to concatenate all the sublists into a single flat list."
   ]
  },
  {
   "cell_type": "code",
   "execution_count": 13,
   "id": "83e6b060",
   "metadata": {},
   "outputs": [
    {
     "name": "stdout",
     "output_type": "stream",
     "text": [
      "[1, 2, 3, 4, 6, 7, 8, 9]\n"
     ]
    }
   ],
   "source": [
    "nested_list = [ [1, 2, 3], [4, 6], [7, 8, 9] ]\n",
    "\n",
    "flat_list = []\n",
    "\n",
    "for sublist in nested_list:\n",
    "    \n",
    "    for element in sublist:\n",
    "\n",
    "        flat_list.append(element)\n",
    "\n",
    "print(flat_list)"
   ]
  },
  {
   "cell_type": "markdown",
   "id": "d9d1cc85",
   "metadata": {},
   "source": [
    "# Tuple Problems: (49 - 58)"
   ]
  },
  {
   "cell_type": "markdown",
   "id": "43fc0ba8",
   "metadata": {},
   "source": [
    "# Problem 49: (Tuple Concatenation)\n",
    "Write a Python program to concatenate two tuples and create a new tuple."
   ]
  },
  {
   "cell_type": "code",
   "execution_count": 16,
   "id": "2f46872d",
   "metadata": {},
   "outputs": [
    {
     "data": {
      "text/plain": [
       "('a', 'b', 'c', 'd', 'c', 'f')"
      ]
     },
     "execution_count": 16,
     "metadata": {},
     "output_type": "execute_result"
    }
   ],
   "source": [
    "tuple1 = ('a','b','c')\n",
    "tuple2 = ('d','c','f')\n",
    "\n",
    "new_tuple = tuple1 + tuple2\n",
    "new_tuple"
   ]
  },
  {
   "cell_type": "markdown",
   "id": "ed1b3d13",
   "metadata": {},
   "source": [
    "# Problem 50: (Tuple Unpacking)\n",
    "Given a tuple with three elements (x, y, z), write a Python program to unpack the tuple and assign the values to three variables."
   ]
  },
  {
   "cell_type": "code",
   "execution_count": 18,
   "id": "5e386847",
   "metadata": {},
   "outputs": [
    {
     "name": "stdout",
     "output_type": "stream",
     "text": [
      "variable_1:  x\n",
      "variable_2:  y\n",
      "variable_3:  z\n"
     ]
    }
   ],
   "source": [
    "my_tup = ('x','y','z')\n",
    "\n",
    "var1,var2,var3 = my_tup\n",
    "\n",
    "print('variable_1: ',var1)\n",
    "print('variable_2: ',var2)\n",
    "print('variable_3: ',var3)"
   ]
  },
  {
   "cell_type": "markdown",
   "id": "7cf00e74",
   "metadata": {},
   "source": [
    "# Problem 51: (Tuple Sorting)\n",
    "Write a Python program to sort a tuple of integers in ascending order."
   ]
  },
  {
   "cell_type": "code",
   "execution_count": 19,
   "id": "0c1e6a9b",
   "metadata": {},
   "outputs": [
    {
     "data": {
      "text/plain": [
       "(2, 2, 5, 7, 10, 15, 15, 17, 23, 84)"
      ]
     },
     "execution_count": 19,
     "metadata": {},
     "output_type": "execute_result"
    }
   ],
   "source": [
    "my_tup = (10,15,17,2,84,23,15,5,7,2)\n",
    "\n",
    "sorted_tuple = tuple(sorted(my_tup)) #sorting list: new_list = sorted(my_list)\n",
    "\n",
    "sorted_tuple"
   ]
  },
  {
   "cell_type": "markdown",
   "id": "1c22fdc5",
   "metadata": {},
   "source": [
    "# Problem 52: (Tuple Frequency Count)\n",
    "Given a tuple containing various elements, write a Python program to count the frequency of a specific element in the tuple."
   ]
  },
  {
   "cell_type": "code",
   "execution_count": 20,
   "id": "19e4c1ee",
   "metadata": {},
   "outputs": [
    {
     "name": "stdout",
     "output_type": "stream",
     "text": [
      "Enter an element to count: 2\n",
      "Frequency of 2 in the tuple: 0\n"
     ]
    }
   ],
   "source": [
    "my_tup = (10,15,17,2,15,23,15,5,7,2,'a','e','a')\n",
    "\n",
    "specific_element = input(\"Enter an element to count: \")\n",
    "\n",
    "element_frequency = my_tup.count(specific_element)\n",
    "\n",
    "print(f\"Frequency of {specific_element} in the tuple: {element_frequency}\")"
   ]
  },
  {
   "cell_type": "markdown",
   "id": "bacce78c",
   "metadata": {},
   "source": [
    "# Problem 53: (Tuple to List)\n",
    "Write a Python program to convert a tuple into a list."
   ]
  },
  {
   "cell_type": "code",
   "execution_count": 22,
   "id": "58cec847",
   "metadata": {},
   "outputs": [
    {
     "name": "stdout",
     "output_type": "stream",
     "text": [
      "Original Tuple: (2, 'e', 5, 'g')\n",
      "Converted List: [2, 'e', 5, 'g']\n"
     ]
    }
   ],
   "source": [
    "my_tuple = (2,'e',5,'g')\n",
    "\n",
    "new_list = list(my_tup)\n",
    "\n",
    "print(\"Original Tuple:\", my_tuple)\n",
    "print(\"Converted List:\", new_list)"
   ]
  },
  {
   "cell_type": "markdown",
   "id": "f61321d2",
   "metadata": {},
   "source": [
    "# Problem 54: (Tuple Reversal)\n",
    "Write a Python program to reverse a tuple without using any built-in functions."
   ]
  },
  {
   "cell_type": "code",
   "execution_count": 28,
   "id": "9133744d",
   "metadata": {},
   "outputs": [
    {
     "name": "stdout",
     "output_type": "stream",
     "text": [
      "Original Tuple:  (2, 'e', 5, 'g')\n",
      "Reversed Tuple:  ('g', 5, 'e', 2)\n"
     ]
    }
   ],
   "source": [
    "my_tuple = (2,'e',5,'g')\n",
    "\n",
    "reverse_tuple = ()\n",
    "\n",
    "for i in range(len(my_tuple)-1,-1,-1):\n",
    "    reverse_tuple = reverse_tuple + tuple((my_tuple[i],)) \n",
    "    \n",
    "#For tuple with single item: my_tup = (item,)\n",
    "#here last comma(,) is mandatory, otherwise it int.\n",
    "\n",
    "    \n",
    "print('Original Tuple: ',my_tuple)\n",
    "print('Reversed Tuple: ',reverse_tuple)\n",
    "    "
   ]
  },
  {
   "cell_type": "markdown",
   "id": "562f75ef",
   "metadata": {},
   "source": [
    "# Problem 55: (Tuple Slicing)\n",
    "Given a tuple, write a Python program to extract a slice of elements from it."
   ]
  },
  {
   "cell_type": "code",
   "execution_count": 3,
   "id": "6b3b39a3",
   "metadata": {},
   "outputs": [
    {
     "name": "stdout",
     "output_type": "stream",
     "text": [
      "slice 1: (3, 4, 5)\n",
      "slice 2: (1, 2, 3, 4, 5)\n",
      "slice 3: (6, 7, 8, 9)\n",
      "slice 4: (2, 4, 6, 8)\n"
     ]
    }
   ],
   "source": [
    "my_tuple = (1, 2, 3, 4, 5, 6, 7, 8, 9)\n",
    "\n",
    "slice1 = my_tuple[2:5] \n",
    "slice2 = my_tuple[:5]\n",
    "slice3 = my_tuple[5:]\n",
    "slice4 = my_tuple[1:8:2]\n",
    "\n",
    "print(\"slice 1:\", slice1)\n",
    "print(\"slice 2:\", slice2)\n",
    "print(\"slice 3:\", slice3)\n",
    "print(\"slice 4:\", slice4)"
   ]
  },
  {
   "cell_type": "markdown",
   "id": "14888f10",
   "metadata": {},
   "source": [
    "# Problem 56: (Tuple Operations)\n",
    "Given two tuples of integers, write a Python program to perform element-wise addition, subtraction, and multiplication and create new tuples for each operation."
   ]
  },
  {
   "cell_type": "code",
   "execution_count": 3,
   "id": "98e742dc",
   "metadata": {},
   "outputs": [
    {
     "name": "stdout",
     "output_type": "stream",
     "text": [
      "New tupple with Addition:  [5, 7, 9]\n",
      "New tupple with subtraction:  [-3, -3, -3]\n",
      "New tupple with multiplication:  [4, 10, 18]\n"
     ]
    }
   ],
   "source": [
    "#using for loop\n",
    "\n",
    "tuple1 = [1, 2, 3]\n",
    "tuple2 = [4, 5, 6]\n",
    "\n",
    "addition = []\n",
    "subtraction = []\n",
    "multiplication = []\n",
    "\n",
    "for i in range(len(tuple1)):\n",
    "    addition.append(tuple1[i] + tuple2[i])\n",
    "    \n",
    "for i in range(len(tuple1)):\n",
    "    subtraction.append(tuple1[i] - tuple2[i])\n",
    "    \n",
    "for i in range(len(tuple1)):\n",
    "    multiplication.append(tuple1[i] * tuple2[i])\n",
    "\n",
    "print('New tupple with Addition: ', addition)\n",
    "print('New tupple with subtraction: ', subtraction)\n",
    "print('New tupple with multiplication: ', multiplication)"
   ]
  },
  {
   "cell_type": "code",
   "execution_count": 6,
   "id": "27531eff",
   "metadata": {},
   "outputs": [
    {
     "name": "stdout",
     "output_type": "stream",
     "text": [
      "New tupple with Addition:  [5, 7, 9]\n",
      "New tupple with subtraction:  [-3, -3, -3]\n",
      "New tupple with multiplication:  [4, 10, 18]\n"
     ]
    }
   ],
   "source": [
    "#Using List Comprehension:\n",
    "\n",
    "tuple1 = [1, 2, 3]\n",
    "tuple2 = [4, 5, 6]\n",
    "\n",
    "addition = [x + y for x, y in zip(tuple1, tuple2)]\n",
    "subtraction = [x - y for x, y in zip(tuple1, tuple2)]\n",
    "multiplication= [x * y for x, y in zip(tuple1, tuple2)]\n",
    "\n",
    "print('New tupple with Addition: ', addition)\n",
    "print('New tupple with subtraction: ', subtraction)\n",
    "print('New tupple with multiplication: ', multiplication)"
   ]
  },
  {
   "cell_type": "markdown",
   "id": "a820e65a",
   "metadata": {},
   "source": [
    "# Problem 57: (Tuple Membership Test)\n",
    "Write a Python program that takes an element as input and checks if it exists in a given tuple."
   ]
  },
  {
   "cell_type": "code",
   "execution_count": 7,
   "id": "4ab84d6d",
   "metadata": {},
   "outputs": [
    {
     "name": "stdout",
     "output_type": "stream",
     "text": [
      "Enter an element to check: 15\n",
      "15 does not exist in the tuple.\n"
     ]
    }
   ],
   "source": [
    "my_tuple = (10, 12, 'radin', 4.5, 'mango15\n",
    "            ', True)\n",
    "\n",
    "input_element = input(\"Enter an element to check: \")\n",
    "\n",
    "if input_element in my_tuple:\n",
    "    print(f\"{input_element} exists in the tuple.\")\n",
    "    \n",
    "else:\n",
    "    print(f\"{input_element} does not exist in the tuple.\")"
   ]
  },
  {
   "cell_type": "markdown",
   "id": "98307ddc",
   "metadata": {},
   "source": [
    "# Problem 58: (Tuple Packing)\n",
    "Write a Python program to pack three variables into a single tuple and print the tuple."
   ]
  },
  {
   "cell_type": "code",
   "execution_count": 8,
   "id": "4f670cb0",
   "metadata": {},
   "outputs": [
    {
     "name": "stdout",
     "output_type": "stream",
     "text": [
      "Packed Tuple: (724, 'study', [10, 25, 3])\n"
     ]
    }
   ],
   "source": [
    "var1 = 724\n",
    "var2 = 'study'\n",
    "var3 = [10, 25, 3]\n",
    "\n",
    "packed_tuple = (var1, var2, var3)\n",
    "\n",
    "print(\"Packed Tuple:\", packed_tuple)\n"
   ]
  },
  {
   "cell_type": "markdown",
   "id": "a9ac57a7",
   "metadata": {},
   "source": [
    "# Nested List Problems: (59 - 68)"
   ]
  },
  {
   "cell_type": "markdown",
   "id": "1fe231e5",
   "metadata": {},
   "source": [
    "# Problem 59: (Nested List Element Access)\n",
    "Given a nested list, write a Python program to access and print specific elements from it."
   ]
  },
  {
   "cell_type": "code",
   "execution_count": 12,
   "id": "55f123e3",
   "metadata": {},
   "outputs": [
    {
     "name": "stdout",
     "output_type": "stream",
     "text": [
      "Element at position (1, 2): 2\n",
      "Element at position (2, 1): 4\n"
     ]
    }
   ],
   "source": [
    "nested_list = [[1, 2, 3], [4, 5, 6], [7, 8, 9]]\n",
    "\n",
    "element_1_2 = nested_list[0][1]\n",
    "element_2_1 = nested_list[1][0]\n",
    "\n",
    "print(f\"Element at position (1, 2): {element_1_2}\")\n",
    "print(f\"Element at position (2, 1): {element_2_1}\")\n"
   ]
  },
  {
   "cell_type": "code",
   "execution_count": 10,
   "id": "45c6a23d",
   "metadata": {},
   "outputs": [
    {
     "name": "stdout",
     "output_type": "stream",
     "text": [
      "1 2 3 \n",
      "4 5 6 \n",
      "7 8 9 \n"
     ]
    }
   ],
   "source": [
    "nested_list = [ [1, 2, 3], [4, 5, 6], [7, 8, 9]]\n",
    "\n",
    "for sublist in nested_list: # Loop over the outer list\n",
    "    for element in sublist: # Loop over the inner list\n",
    "        print(element, end=\" \") # Print each element with a space\n",
    "    print() # Print a new line after each sublist"
   ]
  },
  {
   "cell_type": "markdown",
   "id": "b8f2151e",
   "metadata": {},
   "source": [
    "# Problem 60. (Nested List Flattening)\n",
    "Write a Python program to flatten a nested list and convert it into a single-dimensional list."
   ]
  },
  {
   "cell_type": "code",
   "execution_count": 14,
   "id": "36bf3492",
   "metadata": {},
   "outputs": [
    {
     "name": "stdout",
     "output_type": "stream",
     "text": [
      "Original Nested List:\n",
      "[1, [2, 3, [4, 5]], 6, [7, 8, [9, 10]]]\n",
      "\n",
      "Flattened List:\n",
      "[1, 2, 3, 4, 5, 6, 7, 8, 9, 10]\n"
     ]
    }
   ],
   "source": [
    "def flatten_list(nested_list):\n",
    "    \n",
    "    flattened_list = []\n",
    "    \n",
    "    for element in nested_list:\n",
    "        if isinstance(element, list):\n",
    "            flattened_list.extend(flatten_list(element))\n",
    "        else:\n",
    "            flattened_list.append(element)\n",
    "    return flattened_list\n",
    "\n",
    "nested_list = [1, [2, 3, [4, 5]], 6, [7, 8, [9, 10]]]\n",
    "\n",
    "result_list = flatten_list(nested_list)\n",
    "\n",
    "print(\"Original Nested List:\")\n",
    "print(nested_list)\n",
    "\n",
    "print(\"\\nFlattened List:\")\n",
    "print(result_list)\n"
   ]
  },
  {
   "cell_type": "markdown",
   "id": "af1b2667",
   "metadata": {},
   "source": [
    "# Problem 61: (Nested List Sorting)\n",
    "Given a nested list containing lists of integers, write a Python program to sort the sublists based on their lengths."
   ]
  },
  {
   "cell_type": "code",
   "execution_count": 15,
   "id": "6a4e963c",
   "metadata": {},
   "outputs": [
    {
     "name": "stdout",
     "output_type": "stream",
     "text": [
      "Original Nested List:\n",
      "[1, 2, 3]\n",
      "[4, 5]\n",
      "[6, 7, 8, 9]\n",
      "[10, 11, 12]\n",
      "\n",
      "Sorted Nested List based on Lengths:\n",
      "[4, 5]\n",
      "[1, 2, 3]\n",
      "[10, 11, 12]\n",
      "[6, 7, 8, 9]\n"
     ]
    }
   ],
   "source": [
    "nested_list = [\n",
    "    [1, 2, 3],\n",
    "    [4, 5],\n",
    "    [6, 7, 8, 9],\n",
    "    [10, 11, 12]\n",
    "]\n",
    "\n",
    "sorted_nested_list = sorted(nested_list, key=len)\n",
    "\n",
    "print(\"Original Nested List:\")\n",
    "for sublist in nested_list:\n",
    "    print(sublist)\n",
    "\n",
    "print(\"\\nSorted Nested List based on Lengths:\")\n",
    "for sublist in sorted_nested_list:\n",
    "    print(sublist)\n"
   ]
  },
  {
   "cell_type": "markdown",
   "id": "b2944a3d",
   "metadata": {},
   "source": [
    "# Problem 62: (List of Tuples Conversion)\n",
    "Given a nested list containing tuples of (x, y) coordinates, write a Python program to convert it into a list of x-coordinates and a list of y-coordinates."
   ]
  },
  {
   "cell_type": "code",
   "execution_count": 17,
   "id": "aaa49546",
   "metadata": {},
   "outputs": [
    {
     "name": "stdout",
     "output_type": "stream",
     "text": [
      "Original Nested Coordinates:\n",
      "(1, 2)\n",
      "(3, 4)\n",
      "(5, 6)\n",
      "(7, 8)\n",
      "\n",
      "X-Coordinates:\n",
      "[1, 3, 5, 7]\n",
      "\n",
      "Y-Coordinates:\n",
      "[2, 4, 6, 8]\n"
     ]
    }
   ],
   "source": [
    "nested_list = [(1, 2), (3, 4), (5, 6), (7, 8)]\n",
    "\n",
    "# Extract x-coordinates and y-coordinates\n",
    "x_coordinates = [x for x, y in nested_list]\n",
    "y_coordinates = [y for x, y in nested_list]\n",
    "\n",
    "print(\"Original Nested Coordinates:\")\n",
    "for coordinate in nested_list:\n",
    "    print(coordinate)\n",
    "\n",
    "print(\"\\nX-Coordinates:\")\n",
    "print(x_coordinates)\n",
    "\n",
    "print(\"\\nY-Coordinates:\")\n",
    "print(y_coordinates)\n"
   ]
  },
  {
   "cell_type": "markdown",
   "id": "aabe2bc1",
   "metadata": {},
   "source": [
    "# Poblem 63: (Matrix Transpose)\n",
    "Write a Python program to transpose a given matrix represented as a nested list."
   ]
  },
  {
   "cell_type": "code",
   "execution_count": 19,
   "id": "6f8dddc9",
   "metadata": {},
   "outputs": [
    {
     "name": "stdout",
     "output_type": "stream",
     "text": [
      "Original Matrix:\n",
      "[1, 2, 3]\n",
      "[4, 5, 6]\n",
      "[7, 8, 9]\n",
      "\n",
      "Transposed Matrix:\n",
      "[1, 4, 7]\n",
      "[2, 5, 8]\n",
      "[3, 6, 9]\n"
     ]
    }
   ],
   "source": [
    "def transpose_matrix(matrix):\n",
    "    # Use the zip function to transpose the matrix\n",
    "    transposed_matrix = list(map(list, zip(*matrix)))\n",
    "    return transposed_matrix\n",
    "\n",
    "matrix = [[1, 2, 3],\n",
    "          [4, 5, 6],\n",
    "          [7, 8, 9]]\n",
    "\n",
    "transposed_result = transpose_matrix(matrix)\n",
    "\n",
    "print(\"Original Matrix:\")\n",
    "for row in matrix:\n",
    "    print(row)\n",
    "\n",
    "print(\"\\nTransposed Matrix:\")\n",
    "for row in transposed_result:\n",
    "    print(row)"
   ]
  },
  {
   "cell_type": "code",
   "execution_count": 22,
   "id": "3172a87e",
   "metadata": {},
   "outputs": [
    {
     "name": "stdout",
     "output_type": "stream",
     "text": [
      "Original matrix:\n",
      "[1, 2, 3]\n",
      "[4, 5, 6]\n",
      "[7, 8, 9]\n",
      "Transposed matrix:\n",
      "[1, 4, 7]\n",
      "[2, 5, 8]\n",
      "[3, 6, 9]\n"
     ]
    }
   ],
   "source": [
    "matrix = [[1, 2, 3],\n",
    "          [4, 5, 6],\n",
    "          [7, 8, 9]]\n",
    "\n",
    "# Use zip to group the corresponding elements of each row\n",
    "# Convert the resulting tuples to lists using list comprehension\n",
    "transposed_matrix = [list(row) for row in zip(*matrix)]\n",
    "\n",
    "print(\"Original matrix:\")\n",
    "for row in matrix:\n",
    "    print(row)\n",
    "\n",
    "print(\"Transposed matrix:\")\n",
    "for row in transposed_matrix:\n",
    "    print(row)\n"
   ]
  },
  {
   "cell_type": "code",
   "execution_count": 21,
   "id": "5bafc0b0",
   "metadata": {},
   "outputs": [
    {
     "name": "stdout",
     "output_type": "stream",
     "text": [
      "Original Matrix:\n",
      "[1, 2, 3]\n",
      "[4, 5, 6]\n",
      "[7, 8, 9]\n",
      "\n",
      "Transposed Matrix:\n",
      "[1, 4, 7]\n",
      "[2, 5, 8]\n",
      "[3, 6, 9]\n"
     ]
    }
   ],
   "source": [
    "def transpose_matrix(matrix):\n",
    "    \n",
    "    transposed_matrix = [[matrix[j][i] for j in range(len(matrix))] for i in range(len(matrix[0]))]\n",
    "    \n",
    "    return transposed_matrix\n",
    "\n",
    "matrix = [[1, 2, 3],\n",
    "          [4, 5, 6],\n",
    "          [7, 8, 9]]\n",
    "\n",
    "transposed_result = transpose_matrix(matrix)\n",
    "\n",
    "print(\"Original Matrix:\")\n",
    "for row in matrix:\n",
    "    print(row)\n",
    "\n",
    "print(\"\\nTransposed Matrix:\")\n",
    "for row in transposed_result:\n",
    "    print(row)"
   ]
  },
  {
   "cell_type": "code",
   "execution_count": null,
   "id": "9f49e01e",
   "metadata": {},
   "outputs": [],
   "source": []
  },
  {
   "cell_type": "markdown",
   "id": "2aeaeb5e",
   "metadata": {},
   "source": [
    "# Problem 64: (Nested List Concatenation)\n",
    "Given a list of nested lists, write a Python program to concatenate all the sublists into a single flat list."
   ]
  },
  {
   "cell_type": "code",
   "execution_count": 23,
   "id": "01991eba",
   "metadata": {},
   "outputs": [
    {
     "name": "stdout",
     "output_type": "stream",
     "text": [
      "Original list:\n",
      "[[1, 2, 3], [4, 5, 6], [7, 8, 9]]\n",
      "Flattened list:\n",
      "[1, 2, 3, 4, 5, 6, 7, 8, 9]\n"
     ]
    }
   ],
   "source": [
    "nested_list = [[1, 2, 3], [4, 5, 6], [7, 8, 9]]\n",
    "\n",
    "flat_list = [item for sublist in nested_list for item in sublist]\n",
    "\n",
    "print(\"Original list:\")\n",
    "print(nested_list)\n",
    "\n",
    "print(\"Flattened list:\")\n",
    "print(flat_list)"
   ]
  },
  {
   "cell_type": "code",
   "execution_count": 25,
   "id": "96777b8c",
   "metadata": {},
   "outputs": [
    {
     "name": "stdout",
     "output_type": "stream",
     "text": [
      "Nested List:\n",
      "[1, 2, 3]\n",
      "[4, 5]\n",
      "[6, 7, 8]\n",
      "\n",
      "Flat List:\n",
      "[1, 2, 3, 4, 5, 6, 7, 8]\n"
     ]
    }
   ],
   "source": [
    "from itertools import chain\n",
    "\n",
    "nested_list = [[1, 2, 3],[4, 5],[6, 7, 8]]\n",
    "   \n",
    "flat_list = list(chain(*nested_list))\n",
    "# Use itertools.chain to concatenate sublists into a single flat list\n",
    "\n",
    "print(\"Nested List:\")\n",
    "for sublist in nested_list:\n",
    "    print(sublist)\n",
    "\n",
    "print(\"\\nFlat List:\")\n",
    "print(flat_list)"
   ]
  },
  {
   "cell_type": "markdown",
   "id": "8b96df73",
   "metadata": {},
   "source": [
    "# Problem 65: (Count Even Numbers)\n",
    "Write a Python program to count the number of even numbers in a nested list."
   ]
  },
  {
   "cell_type": "code",
   "execution_count": 26,
   "id": "650e22a1",
   "metadata": {},
   "outputs": [
    {
     "name": "stdout",
     "output_type": "stream",
     "text": [
      "Nested List:\n",
      "[1, 2, 3]\n",
      "[4, 5, 6]\n",
      "[7, 8, 9]\n",
      "\n",
      "Number of Even Numbers: 4\n"
     ]
    }
   ],
   "source": [
    "def count_even_numbers(nested_list):\n",
    "    even_count = 0\n",
    "    for sublist in nested_list:\n",
    "        for number in sublist:\n",
    "            if number % 2 == 0:\n",
    "                even_count += 1\n",
    "    return even_count\n",
    "\n",
    "nested_list = [[1, 2, 3],[4, 5, 6],[7, 8, 9]]\n",
    "\n",
    "even_count_result = count_even_numbers(nested_list)\n",
    "\n",
    "print(\"Nested List:\")\n",
    "for sublist in nested_list:\n",
    "    print(sublist)\n",
    "\n",
    "print(\"\\nNumber of Even Numbers:\", even_count_result)"
   ]
  },
  {
   "cell_type": "markdown",
   "id": "0ae1b4ab",
   "metadata": {},
   "source": [
    "# Problem 66: (Maximum Element in Nested List)\n",
    "Write a Python program to find the maximum element in a nested list of integers."
   ]
  },
  {
   "cell_type": "code",
   "execution_count": 27,
   "id": "29864bfd",
   "metadata": {},
   "outputs": [
    {
     "name": "stdout",
     "output_type": "stream",
     "text": [
      "Nested List:\n",
      "[1, 2, 3]\n",
      "[4, 5, 6]\n",
      "[7, 8, 9]\n",
      "\n",
      "Maximum Element: 9\n"
     ]
    }
   ],
   "source": [
    "def find_max_element(nested_list):\n",
    "    \n",
    "    max_element = float('-inf') #For non-negative element we can let [max_element=0]\n",
    "\n",
    "    for sublist in nested_list:\n",
    "        for number in sublist:\n",
    "            if number > max_element:\n",
    "                max_element = number\n",
    "\n",
    "    return max_element\n",
    "\n",
    "nested_list = [ [1, 2, 3],[4, 5, 6],[7, 8, 9]]\n",
    "\n",
    "max_element_result = find_max_element(nested_list)\n",
    "\n",
    "print(\"Nested List:\")\n",
    "for sublist in nested_list:\n",
    "    print(sublist)\n",
    "\n",
    "print(\"\\nMaximum Element:\", max_element_result)\n"
   ]
  },
  {
   "cell_type": "markdown",
   "id": "c36f9a2f",
   "metadata": {},
   "source": [
    "# Problem 67: (Diagonal Sum of Matrix)\n",
    "Given a square matrix represented as a nested list, write a Python program to calculate the sum of the elements in the main diagonal."
   ]
  },
  {
   "cell_type": "code",
   "execution_count": 28,
   "id": "517dddd0",
   "metadata": {},
   "outputs": [
    {
     "name": "stdout",
     "output_type": "stream",
     "text": [
      "The sum of the main diagonal elements is: 15\n"
     ]
    }
   ],
   "source": [
    "matrix = [[1, 2, 3],\n",
    "          [4, 5, 6],\n",
    "          [7, 8, 9]]\n",
    "\n",
    "diagonal_sum = 0\n",
    "\n",
    "for i in range(len(matrix)):\n",
    "    \n",
    "    diagonal_sum += matrix[i][i]\n",
    "\n",
    "print(\"The sum of the main diagonal elements is:\", diagonal_sum)"
   ]
  },
  {
   "cell_type": "markdown",
   "id": "67695f5e",
   "metadata": {},
   "source": [
    "# Problem 68: (Nested List Element Search)\n",
    "Write a Python program to search for a specific element in a nested list and return its position (row and column indices)."
   ]
  },
  {
   "cell_type": "code",
   "execution_count": 29,
   "id": "c646df9b",
   "metadata": {},
   "outputs": [
    {
     "name": "stdout",
     "output_type": "stream",
     "text": [
      "(1, 1)\n",
      "None\n"
     ]
    }
   ],
   "source": [
    "def search_nested_list(nested_list, element):\n",
    "    # Loop through the rows of the nested list\n",
    "    for i in range(len(nested_list)):\n",
    "        # Loop through the columns of the current row\n",
    "        for j in range(len(nested_list[i])):\n",
    "            # Check if the element is equal to the current element\n",
    "            if element == nested_list[i][j]:\n",
    "                return (i, j)\n",
    "    \n",
    "    return None\n",
    "\n",
    "nested_list = [[1, 2, 3],\n",
    "               [4, 5, 6],\n",
    "               [7, 8, 9]]\n",
    "\n",
    "print(search_nested_list(nested_list, 5))\n",
    "print(search_nested_list(nested_list, 10))\n"
   ]
  },
  {
   "cell_type": "code",
   "execution_count": 32,
   "id": "204ea8d8",
   "metadata": {},
   "outputs": [
    {
     "name": "stdout",
     "output_type": "stream",
     "text": [
      "Matrix:\n",
      "[1, 2, 3]\n",
      "[4, 5, 6]\n",
      "[7, 8, 9]\n",
      "\n",
      "Element 5 found at position: (1, 1)\n"
     ]
    }
   ],
   "source": [
    "def find_element(matrix, target):\n",
    "    for i, row in enumerate(matrix):\n",
    "        for j, element in enumerate(row):\n",
    "            if element == target:\n",
    "                return i, j\n",
    "    return None \n",
    "\n",
    "matrix = [\n",
    "    [1, 2, 3], \n",
    "    [4, 5, 6], \n",
    "    [7, 8, 9] ]\n",
    "\n",
    "target_element = 5\n",
    "\n",
    "result = find_element(matrix, target_element)\n",
    "\n",
    "print(\"Matrix:\")\n",
    "for row in matrix:\n",
    "    print(row)\n",
    "\n",
    "if result is not None:\n",
    "    print(\"\\nElement\", target_element, \"found at position:\", result)\n",
    "else:\n",
    "    print(\"\\nElement\", target_element, \"not found in the matrix.\")\n"
   ]
  },
  {
   "cell_type": "markdown",
   "id": "a3bffe1a",
   "metadata": {},
   "source": [
    "# Set Problems: (69 - 76)"
   ]
  },
  {
   "cell_type": "markdown",
   "id": "d7c82f9f",
   "metadata": {},
   "source": [
    "# Problem 69: (Duplicate Removal)\n",
    "Write a Python program that takes a list of elements as input and creates a new set containing only the unique elements from the list."
   ]
  },
  {
   "cell_type": "code",
   "execution_count": 6,
   "id": "a86a1814",
   "metadata": {},
   "outputs": [
    {
     "name": "stdout",
     "output_type": "stream",
     "text": [
      "Enter a list of elements separated by spaces: 12 14 16\n",
      "Original List: ['12', '14', '16']\n",
      "Unique Set: {'16', '14', '12'}\n"
     ]
    }
   ],
   "source": [
    "def create_set(input_list):\n",
    "    unique_set = set(input_list) #using set() contractor we can convert list/tuple into a set.\n",
    "    return unique_set\n",
    "\n",
    "input_list = input(\"Enter a list of elements separated by spaces: \").split(' ')\n",
    "#input_list = input(\"Enter a list of elements separated by comma: \").split(',')\n",
    "\n",
    "result_set = create_set(input_list)\n",
    "\n",
    "print(\"Original List:\", input_list)\n",
    "print(\"Unique Set:\", result_set)\n"
   ]
  },
  {
   "cell_type": "markdown",
   "id": "13e30057",
   "metadata": {},
   "source": [
    "# Problem 70:(Set Intersection) \n",
    "Given two sets A and B, write a Python program to find their intersection and print the common elements."
   ]
  },
  {
   "cell_type": "code",
   "execution_count": 9,
   "id": "e0ababfb",
   "metadata": {},
   "outputs": [
    {
     "data": {
      "text/plain": [
       "{3, 4}"
      ]
     },
     "execution_count": 9,
     "metadata": {},
     "output_type": "execute_result"
    }
   ],
   "source": [
    "A = {1,2,3,4,5,6,7}\n",
    "B = {3,4,8,9}\n",
    "\n",
    "Intersection = A & B #Another way: A.intersection(B)\n",
    "Intersection"
   ]
  },
  {
   "cell_type": "markdown",
   "id": "c2da5481",
   "metadata": {},
   "source": [
    "# Problem 71. (Set Union)\n",
    "Given two sets A and B, write a Python program to find their union and print all the distinct elements from both sets."
   ]
  },
  {
   "cell_type": "code",
   "execution_count": 10,
   "id": "b22e37d4",
   "metadata": {},
   "outputs": [
    {
     "data": {
      "text/plain": [
       "{1, 2, 3, 4, 5, 6, 7, 8, 9}"
      ]
     },
     "execution_count": 10,
     "metadata": {},
     "output_type": "execute_result"
    }
   ],
   "source": [
    "A = {1,2,3,4,5,6,7}\n",
    "B = {3,4,8,9}\n",
    "\n",
    "Union = A | B #Another way: A.union(B)\n",
    "Union"
   ]
  },
  {
   "cell_type": "code",
   "execution_count": 11,
   "id": "deefbbf3",
   "metadata": {},
   "outputs": [
    {
     "data": {
      "text/plain": [
       "{1, 2, 3, 4, 5, 6, 7, 8, 9}"
      ]
     },
     "execution_count": 11,
     "metadata": {},
     "output_type": "execute_result"
    }
   ],
   "source": [
    "A = {1,2,3,4,5,6,7}\n",
    "B = {3,4,8,9}\n",
    "\n",
    "Union = A.union(B)\n",
    "Union"
   ]
  },
  {
   "cell_type": "markdown",
   "id": "ced7adca",
   "metadata": {},
   "source": [
    "# Problem 72. (Set Difference) \n",
    "Given two sets A and B, write a Python program to find the difference between set A and set B (i.e., elements present in A but not in B) and print the result."
   ]
  },
  {
   "cell_type": "code",
   "execution_count": 12,
   "id": "6a5e3412",
   "metadata": {},
   "outputs": [
    {
     "data": {
      "text/plain": [
       "{1, 2, 5, 6, 7}"
      ]
     },
     "execution_count": 12,
     "metadata": {},
     "output_type": "execute_result"
    }
   ],
   "source": [
    "A = {1,2,3,4,5,6,7}\n",
    "B = {3,4,8,9}\n",
    "\n",
    "Difference = A - B  #Another way: A.difference(B)\n",
    "Difference"
   ]
  },
  {
   "cell_type": "markdown",
   "id": "8ebe4941",
   "metadata": {},
   "source": [
    "# Problem 73: (Set Symmetric Difference:)\n",
    "Given two sets A and B, write a Python program to find the symmetric difference between the two sets (i.e., elements that are present in either set A or set B, but not in both) and print the result."
   ]
  },
  {
   "cell_type": "code",
   "execution_count": 15,
   "id": "c8e5971a",
   "metadata": {},
   "outputs": [
    {
     "data": {
      "text/plain": [
       "{1, 2, 5, 6, 7, 8, 9}"
      ]
     },
     "execution_count": 15,
     "metadata": {},
     "output_type": "execute_result"
    }
   ],
   "source": [
    "set_A = {1,2,3,4,5,6,7}\n",
    "set_B = {3,4,8,9}\n",
    "\n",
    "Symmetric_Difference = set_A.symmetric_difference(set_B)\n",
    "Symmetric_Difference"
   ]
  },
  {
   "cell_type": "markdown",
   "id": "679703b2",
   "metadata": {},
   "source": [
    "# Problem 74: (Set Operations)\n",
    "Given three sets A, B, and C, write a Python program to find and print the intersection of A and B, the union of B and C, and the difference between C and A."
   ]
  },
  {
   "cell_type": "code",
   "execution_count": 17,
   "id": "40b75853",
   "metadata": {},
   "outputs": [
    {
     "name": "stdout",
     "output_type": "stream",
     "text": [
      "Intersection of A and B:  {3, 4}\n",
      "Union of B and C:  {1, 2, 3, 4, 8, 9, 10, 12}\n",
      "Difference between C and A:  {10, 12}\n"
     ]
    }
   ],
   "source": [
    "A = {1,2,3,4,5,6,7}\n",
    "B = {3,4,8,9}\n",
    "C = {1,2,10,12}\n",
    "\n",
    "intersection_AB = A & B\n",
    "\n",
    "union_BC = B | C\n",
    "\n",
    "difference_CA = C - A\n",
    "\n",
    "print('Intersection of A and B: ',intersection_AB)\n",
    "print('Union of B and C: ',union_BC)\n",
    "print('Difference between C and A: ',difference_CA)"
   ]
  },
  {
   "cell_type": "markdown",
   "id": "c6c31617",
   "metadata": {},
   "source": [
    "# Problem 75: (Set Subset Check)\n",
    "Given two sets A and B, write a Python program to check if set A is a subset of set B and print the result."
   ]
  },
  {
   "cell_type": "code",
   "execution_count": 19,
   "id": "7c4fa8ea",
   "metadata": {},
   "outputs": [
    {
     "name": "stdout",
     "output_type": "stream",
     "text": [
      "Enter elements for set A separated by spaces: 1 2 3 4\n",
      "Enter elements for set B separated by spaces: 1 3 4 6 8 9\n",
      "Set A: {'3', '4', '2', '1'}\n",
      "Set B: {'6', '4', '1', '8', '3', '9'}\n",
      "Set A is not a subset of set B.\n"
     ]
    }
   ],
   "source": [
    "set_A = set(input(\"Enter elements for set A separated by spaces: \").split())\n",
    "set_B = set(input(\"Enter elements for set B separated by spaces: \").split())\n",
    "\n",
    "check_subset = set_A.issubset(set_B)\n",
    "\n",
    "print(\"Set A:\", set_A)\n",
    "print(\"Set B:\", set_B)\n",
    "\n",
    "if check_subset:\n",
    "    print(\"Set A is a subset of set B.\")\n",
    "else:\n",
    "    print(\"Set A is not a subset of set B.\")\n"
   ]
  },
  {
   "cell_type": "markdown",
   "id": "7968346b",
   "metadata": {},
   "source": [
    "# Problem 76: (Set Superset Check)\n",
    "Given two sets A and B, write a Python program to check if set A is a superset of set B and print the result."
   ]
  },
  {
   "cell_type": "code",
   "execution_count": 20,
   "id": "0448c64f",
   "metadata": {},
   "outputs": [
    {
     "name": "stdout",
     "output_type": "stream",
     "text": [
      "Set A is a superset of set B\n"
     ]
    }
   ],
   "source": [
    "def check_superset(A, B):\n",
    "    if A.issuperset(B):\n",
    "        print(\"Set A is a superset of set B\")\n",
    "    else:\n",
    "        print(\"Set A is not a superset of set B\")\n",
    "\n",
    "set_A = {1, 2, 3, 4, 5}\n",
    "set_B = {2, 4}\n",
    "\n",
    "check_superset(set_A, set_B)\n"
   ]
  },
  {
   "cell_type": "markdown",
   "id": "d320a646",
   "metadata": {},
   "source": [
    "# Problem 77: (Set Length Check)\n",
    "Write a Python program that takes a set as input and prints the number of elements in the set."
   ]
  },
  {
   "cell_type": "code",
   "execution_count": 21,
   "id": "998e8df4",
   "metadata": {},
   "outputs": [
    {
     "name": "stdout",
     "output_type": "stream",
     "text": [
      "Enter elements for set A separated by spaces: 1 2 3 \n",
      "The number of elements in the set A is: 3\n"
     ]
    }
   ],
   "source": [
    "set_A = set(input(\"Enter elements for set A separated by spaces: \").split())\n",
    "\n",
    "set_size = len(set_A)\n",
    "\n",
    "print('The number of elements in the set A is:',set_size )"
   ]
  },
  {
   "cell_type": "markdown",
   "id": "52be55ea",
   "metadata": {},
   "source": [
    "# Problem 76: (Set Membership Test)\n",
    "Write a Python program that takes an element as input and checks if it exists in a given set. Print “Found” if the element is present and “Not Found” otherwise."
   ]
  },
  {
   "cell_type": "code",
   "execution_count": 24,
   "id": "60b1d5a5",
   "metadata": {},
   "outputs": [
    {
     "name": "stdout",
     "output_type": "stream",
     "text": [
      "Enter an element to check: 6\n",
      "The element 6 does not exist in the set.\n"
     ]
    }
   ],
   "source": [
    "def check_element_in_set(element, input_set):\n",
    "    if element in input_set:\n",
    "        print(f\"The element {element} exists in the set.\")\n",
    "    else:\n",
    "        print(f\"The element {element} does not exist in the set.\")\n",
    "\n",
    "example_set = {1, 2, 3, 4, 5}\n",
    "\n",
    "element_to_check = int(input(\"Enter an element to check: \"))\n",
    "\n",
    "check_element_in_set(element_to_check, example_set)"
   ]
  },
  {
   "cell_type": "markdown",
   "id": "8efc8d23",
   "metadata": {},
   "source": [
    "# Dictionary Problems: ( 77 - 86)"
   ]
  },
  {
   "cell_type": "markdown",
   "id": "81dd8661",
   "metadata": {},
   "source": [
    "# Problem 77: (Dictionary Manipulation)\n",
    "Given a dictionary with student names as keys and their corresponding scores as values, write a Python program to add a new student to the dictionary and update the score of an existing student."
   ]
  },
  {
   "cell_type": "code",
   "execution_count": 1,
   "id": "9751e7f5",
   "metadata": {},
   "outputs": [
    {
     "name": "stdout",
     "output_type": "stream",
     "text": [
      "Old dictionary:  {'radin': 89, 'rafid': 82, 'mohim': 75}\n",
      "Old dictionary:  {'radin': 89, 'rafid': 82, 'mohim': 75, 'rohin': 95}\n"
     ]
    }
   ],
   "source": [
    "dict_student = dict(radin=89,rafid=82,mohim=75)\n",
    "\n",
    "print('Old dictionary: ',dict_student)\n",
    "\n",
    "dict_student['rohin'] = 95\n",
    "\n",
    "print('New dictionary: ',dict_student)"
   ]
  },
  {
   "cell_type": "markdown",
   "id": "18d19f21",
   "metadata": {},
   "source": [
    "# Problem 78: (Dictionary Keys and Values)\n",
    "Write a Python program that takes a dictionary as input and prints all the keys and values in separate lines."
   ]
  },
  {
   "cell_type": "code",
   "execution_count": 4,
   "id": "d167667d",
   "metadata": {},
   "outputs": [
    {
     "name": "stdout",
     "output_type": "stream",
     "text": [
      "dict_keys(['radin', 'rafid', 'mohim', 'rohin', 'rukaiya'])\n",
      "dict_values([89, 82, 75, 95, 90])\n"
     ]
    }
   ],
   "source": [
    "dict_student = dict(radin=89,rafid=82,mohim=75,rohin=95,rukaiya=90)\n",
    "\n",
    "keys_list = dict_student.keys()\n",
    "values_list = dict_student.values()\n",
    "\n",
    "print(keys_list)\n",
    "print(values_list)"
   ]
  },
  {
   "cell_type": "markdown",
   "id": "adb06059",
   "metadata": {},
   "source": [
    "# Problem 79: (Dictionary Length)\n",
    "Write a Python program to calculate and print the number of key-value pairs in a given dictionary"
   ]
  },
  {
   "cell_type": "code",
   "execution_count": 5,
   "id": "7b20cb28",
   "metadata": {},
   "outputs": [
    {
     "name": "stdout",
     "output_type": "stream",
     "text": [
      "Number of key-value pair of the dictionary is 5.\n"
     ]
    }
   ],
   "source": [
    "dict_student = dict(radin=89,rafid=82,mohim=75,rohin=95,rukaiya=90)\n",
    "\n",
    "print(f'Number of key-value pair of the dictionary is {len(dict_student)}.')"
   ]
  },
  {
   "cell_type": "markdown",
   "id": "88aa57fb",
   "metadata": {},
   "source": [
    "# Problem 80: (Dictionary Value Search)\n",
    "Given a dictionary of items and their prices, write a Python program to search for an item based on its price and print the item’s name."
   ]
  },
  {
   "cell_type": "code",
   "execution_count": 7,
   "id": "d1c16298",
   "metadata": {},
   "outputs": [
    {
     "name": "stdout",
     "output_type": "stream",
     "text": [
      "Enter the price to search: 400\n",
      "Item with price 400 found: grapes\n"
     ]
    }
   ],
   "source": [
    "#using for loop\n",
    "\n",
    "items_prices = {'apple': 320,'banana': 100,'orange': 300,'grapes': 400,'mango': 200}\n",
    "\n",
    "search_price = int(input(\"Enter the price to search: \"))\n",
    "\n",
    "found_item = None\n",
    "for item, price in items_prices.items():\n",
    "    if price == search_price:\n",
    "        found_item = item\n",
    "        break\n",
    "\n",
    "if found_item:\n",
    "    print(f\"Item with price {search_price} found: {found_item}\")\n",
    "else:\n",
    "    print(f\"No item found with price {search_price}\")\n"
   ]
  },
  {
   "cell_type": "code",
   "execution_count": 16,
   "id": "cec06704",
   "metadata": {},
   "outputs": [
    {
     "name": "stdout",
     "output_type": "stream",
     "text": [
      "Enter the price to search: 120\n",
      "No item found with price 120.\n"
     ]
    }
   ],
   "source": [
    "#using List Comprehension\n",
    "\n",
    "items_prices = {'apple': 320,'banana': 100,'orange': 300,'grapes': 400,'mango': 200}\n",
    "\n",
    "search_price = int(input(\"Enter the price to search: \"))\n",
    "\n",
    "found_items = [item for item, price in items_prices.items() if price == search_price]\n",
    "\n",
    "if found_items:\n",
    "    print(f\"Item with price {search_price} found: {', '.join(found_items)}\")\n",
    "else:\n",
    "    print(f\"No item found with price {search_price}.\")"
   ]
  },
  {
   "cell_type": "markdown",
   "id": "ff20992f",
   "metadata": {},
   "source": [
    "# Problem 81: (Dictionary Merging)\n",
    "Given two dictionaries, write a Python program to merge them into a single dictionary and print the result."
   ]
  },
  {
   "cell_type": "code",
   "execution_count": null,
   "id": "09de90e7",
   "metadata": {},
   "outputs": [],
   "source": [
    "#Using {**dict1, **dict2}\n",
    "\n",
    "dict1 = {'a': 1, 'b': 2, 'c': 3}\n",
    "dict2 = {'c': 4, 'd': 5, 'e': 6}\n",
    "\n",
    "merged_dict2 = {**dict1, **dict2}\n",
    "\n",
    "print(\"Merged Dictionary: \", merged_dict2)"
   ]
  },
  {
   "cell_type": "markdown",
   "id": "5329642c",
   "metadata": {},
   "source": [
    "# Problem 82: (Dictionary Key Removal)\n",
    "Given a dictionary of items and their quantities, write a Python program to remove a specific item from the dictionary based on user input."
   ]
  },
  {
   "cell_type": "code",
   "execution_count": 1,
   "id": "b42bdc79",
   "metadata": {},
   "outputs": [
    {
     "name": "stdout",
     "output_type": "stream",
     "text": [
      "Enter a item: orange\n"
     ]
    },
    {
     "data": {
      "text/plain": [
       "{'apple': 10, 'banana': 5, 'grapes': 2, 'mango': 4}"
      ]
     },
     "execution_count": 1,
     "metadata": {},
     "output_type": "execute_result"
    }
   ],
   "source": [
    "items_quantities = {\n",
    "    'apple': 10,\n",
    "    'banana': 5,\n",
    "    'orange': 8,\n",
    "    'grapes': 2,\n",
    "    'mango': 4\n",
    "}\n",
    "\n",
    "user_input = input('Enter a item: ')\n",
    "\n",
    "items_quantities.pop(user_input)\n",
    "\n",
    "items_quantities"
   ]
  },
  {
   "cell_type": "markdown",
   "id": "441092f5",
   "metadata": {},
   "source": [
    "# Problem 83. (Dictionary Sorting)\n",
    "Given a dictionary with names as keys and corresponding ages as values, write a Python program to sort the dictionary based on age in ascending order."
   ]
  },
  {
   "cell_type": "code",
   "execution_count": 1,
   "id": "67b4aed5",
   "metadata": {},
   "outputs": [
    {
     "name": "stdout",
     "output_type": "stream",
     "text": [
      "Sorted Dictionary (Ascending Order): {'Torik': 25, 'Rasel': 28, 'Imran': 30, 'Eva': 32, 'Sohan': 35}\n"
     ]
    }
   ],
   "source": [
    "dict_ages = {\n",
    "    'Imran': 30,\n",
    "    'Torik': 25,\n",
    "    'Sohan': 35,\n",
    "    'Rasel': 28,\n",
    "    'Eva': 32\n",
    "}\n",
    "\n",
    "sorted_ages_dict = dict(sorted(dict_ages.items(), key=lambda x: x[1]))\n",
    "\n",
    "#if we use x[0],the sort function works according to items not values.\n",
    "\n",
    "print(\"Sorted Dictionary (Ascending Order):\", sorted_ages_dict)\n"
   ]
  },
  {
   "cell_type": "markdown",
   "id": "418cdc31",
   "metadata": {},
   "source": [
    "# Problem 84: (Dictionary Frequency Count)\n",
    "Write a Python program that takes a string as input and creates a dictionary containing each character as a key and its frequency as the value."
   ]
  },
  {
   "cell_type": "code",
   "execution_count": 2,
   "id": "dee43815",
   "metadata": {},
   "outputs": [
    {
     "name": "stdout",
     "output_type": "stream",
     "text": [
      "Enter a string: STUDYMART\n",
      "{'S': 1, 'T': 2, 'U': 1, 'D': 1, 'Y': 1, 'M': 1, 'A': 1, 'R': 1}\n"
     ]
    }
   ],
   "source": [
    "user_input = input(\"Enter a string: \")\n",
    "\n",
    "char_frequency_dict = {}\n",
    "\n",
    "for x in user_input:\n",
    "    char_frequency_dict[x] = char_frequency_dict.get(x, 0) + 1\n",
    "\n",
    "print(char_frequency_dict)"
   ]
  },
  {
   "cell_type": "markdown",
   "id": "423c8b7c",
   "metadata": {},
   "source": [
    "# Problem 85: (Dictionary Comprehension)\n",
    "Given a list of integers, write a Python program to create a dictionary where the keys are the elements from the list, and the values are their squares."
   ]
  },
  {
   "cell_type": "code",
   "execution_count": 13,
   "id": "cb393ec6",
   "metadata": {},
   "outputs": [
    {
     "name": "stdout",
     "output_type": "stream",
     "text": [
      "Dictionary with Squares:\n",
      "{1: 1, 2: 4, 5: 25, 4: 16, 6: 36, 8: 64, 7: 49, 9: 81}\n"
     ]
    }
   ],
   "source": [
    "#using for loop\n",
    "\n",
    "my_list = [1,2,5,4,6,8,7,9]\n",
    "new_dict = {}\n",
    "\n",
    "for x in my_list:\n",
    "    new_dict[x] = x**2\n",
    "    \n",
    "print(\"Dictionary with Squares:\")\n",
    "print(new_dict)"
   ]
  },
  {
   "cell_type": "code",
   "execution_count": 9,
   "id": "f123baf6",
   "metadata": {},
   "outputs": [
    {
     "name": "stdout",
     "output_type": "stream",
     "text": [
      "Dictionary with Squares:\n",
      "{1: 1, 2: 4, 5: 25, 4: 16, 6: 36, 8: 64, 7: 49, 9: 81}\n"
     ]
    }
   ],
   "source": [
    "#using a dictionary comprehension\n",
    "\n",
    "my_list = [1,2,5,4,6,8,7,9]\n",
    "\n",
    "new_dict = {num: num ** 2 for num in my_list}\n",
    "\n",
    "print(\"Dictionary with Squares:\")\n",
    "print(new_dict)\n"
   ]
  },
  {
   "cell_type": "code",
   "execution_count": 12,
   "id": "35802ff2",
   "metadata": {},
   "outputs": [
    {
     "name": "stdout",
     "output_type": "stream",
     "text": [
      "Dictionary with Squares:\n",
      "{1: 1, 2: 4, 5: 25, 4: 16, 6: 36, 8: 64, 7: 49, 9: 81}\n"
     ]
    }
   ],
   "source": [
    "#using lambda function\n",
    "\n",
    "my_list = [1,2,5,4,6,8,7,9]\n",
    "\n",
    "new_dict = dict(map(lambda x: (x, x ** 2), my_list))\n",
    "\n",
    "print(\"Dictionary with Squares:\")\n",
    "print(new_dict)\n"
   ]
  },
  {
   "cell_type": "markdown",
   "id": "77801ac8",
   "metadata": {},
   "source": [
    "# Program 86: (Dictionary Key Check)\n",
    "Write a Python program that takes a key as input and checks if it exists in a given dictionary. Print “Key Found” if the key is present and “Key Not Found” otherwise."
   ]
  },
  {
   "cell_type": "code",
   "execution_count": 19,
   "id": "6718906e",
   "metadata": {},
   "outputs": [
    {
     "name": "stdout",
     "output_type": "stream",
     "text": [
      "Enter a key to check: mizan\n",
      "Key Not Found\n"
     ]
    }
   ],
   "source": [
    "input_key = input('Enter a key to check: ')\n",
    "\n",
    "dict_student = dict(radin=89,rafid=82,mohim=75,rohin=95,rukaiya=90)\n",
    "\n",
    "if input_key in dict_student:\n",
    "    print('Key Found')\n",
    "else:\n",
    "    print('Key Not Found')"
   ]
  },
  {
   "cell_type": "code",
   "execution_count": 17,
   "id": "ede5a82f",
   "metadata": {},
   "outputs": [
    {
     "name": "stdout",
     "output_type": "stream",
     "text": [
      "Enter a key to check: roni\n",
      "Key Not Found\n"
     ]
    }
   ],
   "source": [
    "input_key = input('Enter a key to check: ')\n",
    "\n",
    "dict_student = dict(radin=89,rafid=82,mohim=75,rohin=95,rukaiya=90)\n",
    "\n",
    "key_list = dict_student.keys()\n",
    "\n",
    "for x in key_list:\n",
    "    if x  == input_key:\n",
    "        print('Key Found')\n",
    "        break\n",
    "    else:\n",
    "        print('Key Not Found')\n",
    "        break"
   ]
  },
  {
   "cell_type": "markdown",
   "id": "ff651b43",
   "metadata": {},
   "source": [
    "# Nested Dictionary Problems: (87 - 91)"
   ]
  },
  {
   "cell_type": "markdown",
   "id": "79e432a4",
   "metadata": {},
   "source": [
    "# Problem 87: (Access Nested Dictionary)\n",
    "Given a nested dictionary containing student details, write a Python program to access and print specific information such as a student’s name, age, and address."
   ]
  },
  {
   "cell_type": "code",
   "execution_count": 5,
   "id": "26a29661",
   "metadata": {},
   "outputs": [
    {
     "name": "stdout",
     "output_type": "stream",
     "text": [
      "Student Name: Sohan\n",
      "Student Age: 22\n",
      "Student Address: Jhiltuli, Faridpur\n"
     ]
    }
   ],
   "source": [
    "student_details = {'student1': {'name': 'Salman', 'age': 20, 'address': 'Wari, Dhaka',},\n",
    "                   'student2': {'name': 'Sohan','age': 22, 'address': 'Jhiltuli, Faridpur',},\n",
    "                   'student3': {'name': 'Imran','age': 21,'address': 'Boropul Rajbari',},}\n",
    "\n",
    "student_key = 'student2'\n",
    "\n",
    "if student_key in student_details:\n",
    "    student_info = student_details[student_key]\n",
    "    \n",
    "    print(f\"Student Name: {student_info['name']}\")\n",
    "    print(f\"Student Age: {student_info['age']}\")\n",
    "    print(f\"Student Address: {student_info['address']}\")\n",
    "    \n",
    "else:\n",
    "    print(f\"Student with key '{student_key}' not found.\")\n"
   ]
  },
  {
   "cell_type": "markdown",
   "id": "e4bb5e87",
   "metadata": {},
   "source": [
    "# Problem 88: (Nested Dictionary Length)\n",
    "Write a Python program to calculate and print the total number of key-value pairs in a nested dictionary."
   ]
  },
  {
   "cell_type": "code",
   "execution_count": 6,
   "id": "a18ff2ef",
   "metadata": {},
   "outputs": [
    {
     "name": "stdout",
     "output_type": "stream",
     "text": [
      "The total number of key-value pairs in the nested dictionary is 4\n"
     ]
    }
   ],
   "source": [
    "nested_dict = {\n",
    "  'a': {'x': 1, 'y': 2},\n",
    "  'b': {'z': 3, 'w': 4}\n",
    "}\n",
    "\n",
    "total_count = 0\n",
    "\n",
    "for inner_dict in nested_dict.values():\n",
    "  total_count += len(inner_dict)\n",
    "\n",
    "print(\"The total number of key-value pairs in the nested dictionary is\", total_count)\n"
   ]
  },
  {
   "cell_type": "markdown",
   "id": "f3aa914c",
   "metadata": {},
   "source": [
    "# Problem 89: (Nested Dictionary Update)\n",
    "Given a nested dictionary of employee details, write a Python program to update an employee’s salary based on their employee ID."
   ]
  },
  {
   "cell_type": "code",
   "execution_count": 1,
   "id": "cdbfd598",
   "metadata": {},
   "outputs": [
    {
     "name": "stdout",
     "output_type": "stream",
     "text": [
      "Original dictionary:\n",
      "{'1001': {'name': 'Radin', 'salary': 50000}, '1002': {'name': 'Rafid', 'salary': 60000}, '1003': {'name': 'Nazmul', 'salary': 70000}}\n",
      "Updated dictionary:\n",
      "{'1001': {'name': 'Radin', 'salary': 50000}, '1002': {'name': 'Rafid', 'salary': 65000}, '1003': {'name': 'Nazmul', 'salary': 70000}}\n"
     ]
    }
   ],
   "source": [
    "def update_salary(employees, emp_id, new_salary):\n",
    "\n",
    "  if emp_id in employees:\n",
    "    \n",
    "    employees[emp_id]['salary'] = new_salary\n",
    "    \n",
    "  else:\n",
    "    print(\"Employee ID not found\")\n",
    "  \n",
    "  return employees\n",
    "\n",
    "employees = {\n",
    "  '1001': {'name': 'Radin', 'salary': 50000},\n",
    "  '1002': {'name': 'Rafid', 'salary': 60000},\n",
    "  '1003': {'name': 'Nazmul', 'salary': 70000}\n",
    "}\n",
    "\n",
    "print(\"Original dictionary:\")\n",
    "print(employees)\n",
    "\n",
    "employees = update_salary(employees, '1002', 65000)\n",
    "\n",
    "print(\"Updated dictionary:\")\n",
    "print(employees)\n"
   ]
  },
  {
   "cell_type": "code",
   "execution_count": null,
   "id": "c0a956c9",
   "metadata": {},
   "outputs": [],
   "source": [
    "employee_details = {\n",
    "    'emp1': {\n",
    "        'name': 'Radin',\n",
    "        'position': 'Software Engineer',\n",
    "        'salary': 60000,\n",
    "    },\n",
    "    'emp2': {\n",
    "        'name': 'Roni',\n",
    "        'position': 'Data Scientist',\n",
    "        'salary': 70000,\n",
    "    },\n",
    "    'emp3': {\n",
    "        'name': 'Rafid',\n",
    "        'position': 'Project Manager',\n",
    "        'salary': 80000,\n",
    "    },\n",
    "}\n",
    "\n",
    "\n",
    "def update_salary(employee_id, new_salary):\n",
    "    \n",
    "    if employee_id in employee_details:\n",
    "        \n",
    "        employee_details[employee_id]['salary'] = new_salary\n",
    "        \n",
    "        print(f\"Salary updated for {employee_id} is: {new_salary}\")\n",
    "    else:\n",
    "        print(f\"Employee ID '{employee_id}' not found.\")\n",
    "\n",
    "\n",
    "update_salary('emp2', 75000)\n",
    "\n",
    "# Print updated employee details\n",
    "print(\"Updated Employee Details:\")\n",
    "print(employee_details)\n"
   ]
  },
  {
   "cell_type": "markdown",
   "id": "aacb02be",
   "metadata": {},
   "source": [
    "# Problem 90: (Nested Dictionary Sorting)\n",
    "Given a nested dictionary containing product details (product name, price, and quantity), write a Python program to sort the products based on their prices in ascending order."
   ]
  },
  {
   "cell_type": "code",
   "execution_count": 2,
   "id": "b5940708",
   "metadata": {},
   "outputs": [
    {
     "name": "stdout",
     "output_type": "stream",
     "text": [
      "Sorted Product Details (Ascending Order by Price):\n",
      "earbuds: {'name': 'Sony WF-1000XM4', 'price': 279.99, 'quantity': 25}\n",
      "tablet: {'name': 'Apple iPad', 'price': 499.99, 'quantity': 15}\n",
      "laptop: {'name': 'Dell Inspiron', 'price': 599.99, 'quantity': 10}\n",
      "smartphone: {'name': 'Samsung Galaxy S21', 'price': 799.99, 'quantity': 20}\n"
     ]
    }
   ],
   "source": [
    "products = {\n",
    "    \"laptop\": {\"name\": \"Dell Inspiron\", \"price\": 599.99, \"quantity\": 10},\n",
    "    \"smartphone\": {\"name\": \"Samsung Galaxy S21\", \"price\": 799.99, \"quantity\": 20},\n",
    "    \"tablet\": {\"name\": \"Apple iPad\", \"price\": 499.99, \"quantity\": 15},\n",
    "    \"earbuds\": {\"name\": \"Sony WF-1000XM4\", \"price\": 279.99, \"quantity\": 25},\n",
    "}\n",
    "\n",
    "sorted_products = sorted(products.items(), key=lambda x: x[1][\"price\"])\n",
    "\n",
    "sorted_products_dict = dict(sorted_products)\n",
    "\n",
    "print(\"Sorted Product Details (Ascending Order by Price):\")\n",
    "for product_id, product_info in sorted_products_dict.items():\n",
    "    print(f\"{product_id}: {product_info}\")"
   ]
  },
  {
   "cell_type": "code",
   "execution_count": 5,
   "id": "55291297",
   "metadata": {},
   "outputs": [
    {
     "name": "stdout",
     "output_type": "stream",
     "text": [
      "Sorted Product Details (Ascending Order by Price):\n",
      "product3: {'name': 'Headphones', 'price': 50.0, 'quantity': 20}\n",
      "product4: {'name': 'Tablet', 'price': 300.0, 'quantity': 8}\n",
      "product2: {'name': 'Smartphone', 'price': 500.0, 'quantity': 10}\n",
      "product1: {'name': 'Laptop', 'price': 1200.0, 'quantity': 5}\n"
     ]
    }
   ],
   "source": [
    "product_details = {\n",
    "    'product1': {\n",
    "        'name': 'Laptop',\n",
    "        'price': 1200.00,\n",
    "        'quantity': 5,\n",
    "    },\n",
    "    'product2': {\n",
    "        'name': 'Smartphone',\n",
    "        'price': 500.00,\n",
    "        'quantity': 10,\n",
    "    },\n",
    "    'product3': {\n",
    "        'name': 'Headphones',\n",
    "        'price': 50.00,\n",
    "        'quantity': 20,\n",
    "    },\n",
    "    'product4': {\n",
    "        'name': 'Tablet',\n",
    "        'price': 300.00,\n",
    "        'quantity': 8,\n",
    "    },\n",
    "}\n",
    "\n",
    "def sort_products_by_price(products):\n",
    "        sorted_products = sorted(products.items(), key=lambda x: x[1]['price'])\n",
    "        return dict(sorted_products)\n",
    "\n",
    "\n",
    "sorted_product_details = sort_products_by_price(product_details)\n",
    "\n",
    "print(\"Sorted Product Details (Ascending Order by Price):\")\n",
    "for product_id, product_info in sorted_product_details.items():\n",
    "    print(f\"{product_id}: {product_info}\")\n"
   ]
  },
  {
   "cell_type": "markdown",
   "id": "4230196d",
   "metadata": {},
   "source": [
    "# Problem 91: (Nested Dictionary Key Search)\n",
    "Write a Python program that takes a key as input and searches for it in a nested dictionary. If found, print the corresponding value, otherwise, print “Key Not Found.”"
   ]
  },
  {
   "cell_type": "code",
   "execution_count": 7,
   "id": "599c2b05",
   "metadata": {},
   "outputs": [
    {
     "name": "stdout",
     "output_type": "stream",
     "text": [
      "Enter a key to search: laptop\n",
      "The value for key 'laptop' is: {'name': 'Dell Inspiron', 'price': 599.99, 'quantity': 10}\n"
     ]
    }
   ],
   "source": [
    "products = {\n",
    "    \"laptop\": {\"name\": \"Dell Inspiron\", \"price\": 599.99, \"quantity\": 10},\n",
    "    \"smartphone\": {\"name\": \"Samsung Galaxy S21\", \"price\": 799.99, \"quantity\": 20},\n",
    "    \"tablet\": {\"name\": \"Apple iPad\", \"price\": 499.99, \"quantity\": 15},\n",
    "    \"earbuds\": {\"name\": \"Sony WF-1000XM4\", \"price\": 279.99, \"quantity\": 25},\n",
    "}\n",
    "\n",
    "\n",
    "def find_key_recursive(d, key):\n",
    "    if key in d: \n",
    "        return d[key]\n",
    "    \n",
    "    for k, v in d.items(): # Recursive case: iterate over the items\n",
    "        \n",
    "        if isinstance(v, dict): # Only recurse if the value is a dict\n",
    "            \n",
    "            value = find_key_recursive(v, key) # Call the function on the sub-dict\n",
    "            \n",
    "            if value: # If a value is returned, it means the key is found\n",
    "                return value\n",
    "    return None # If no value is returned, it means the key is not found\n",
    "\n",
    "\n",
    "key = input(\"Enter a key to search: \")\n",
    "\n",
    "result = find_key_recursive(products, key)\n",
    "\n",
    "if result is None:\n",
    "    print(\"Key Not Found.\")\n",
    "else:\n",
    "    print(f\"The value for key '{key}' is: {result}\")\n"
   ]
  },
  {
   "cell_type": "code",
   "execution_count": 9,
   "id": "40d88ea0",
   "metadata": {},
   "outputs": [
    {
     "name": "stdout",
     "output_type": "stream",
     "text": [
      "Enter the key to search: b\n",
      "The value for key 'b' is: {'c': 1, 'd': 2}\n"
     ]
    }
   ],
   "source": [
    "nested_dict = {\n",
    "    'a': {\n",
    "        'b': {\n",
    "            'c': 1,\n",
    "            'd': 2,\n",
    "        },\n",
    "        'e': {\n",
    "            'f': 3,\n",
    "            'g': 4,\n",
    "        },\n",
    "    },\n",
    "    'h': {\n",
    "        'i': {\n",
    "            'j': 5,\n",
    "            'k': 6,\n",
    "        },\n",
    "        'l': {\n",
    "            'm': 7,\n",
    "            'n': 8,\n",
    "        },\n",
    "    },\n",
    "}\n",
    "\n",
    "\n",
    "def search_key_in_nested_dict(dictionary, key):\n",
    "    for k, v in dictionary.items(): #[here k=key, v=value in dict]\n",
    "        if k == key:\n",
    "            return v\n",
    "        elif isinstance(v, dict): \n",
    "            result = search_key_in_nested_dict(v, key)\n",
    "            if result is not None:\n",
    "                return result\n",
    "    return None\n",
    "\n",
    "search_key = input(\"Enter the key to search: \")\n",
    "\n",
    "result = search_key_in_nested_dict(nested_dict, search_key)\n",
    "\n",
    "if result is not None:\n",
    "    print(f\"The value for key '{search_key}' is: {result}\")\n",
    "else:\n",
    "    print(f\"Key '{search_key}' not found.\")\n"
   ]
  },
  {
   "cell_type": "markdown",
   "id": "437fd7e0",
   "metadata": {},
   "source": [
    "# Break & Continue: (92 - 101)"
   ]
  },
  {
   "cell_type": "markdown",
   "id": "4ef294bc",
   "metadata": {},
   "source": [
    "# Problem 92: (Prime Number Checker)\n",
    "Write a Python program that takes a number as input and determines if it is a prime number or not. Use a `for` loop to check for factors. If a factor is found, `break` out of the loop."
   ]
  },
  {
   "cell_type": "code",
   "execution_count": 25,
   "id": "cdbd7d23",
   "metadata": {},
   "outputs": [
    {
     "name": "stdout",
     "output_type": "stream",
     "text": [
      "Enter the integer: 23\n",
      "23 is a prime number.\n"
     ]
    }
   ],
   "source": [
    "N = int(input('Enter the integer: '))\n",
    "\n",
    "if N <= 1:\n",
    "    print(f'{N} is not a prime number.')\n",
    "    \n",
    "elif N>1:\n",
    "    for i in range(2,N):\n",
    "       if N % i ==0:\n",
    "        print(f'{N} is not a prime number.')\n",
    "        print(f'{i} is a factor of {N}.')\n",
    "        break\n",
    "    else:\n",
    "        print(f'{N} is a prime number.')\n",
    "    "
   ]
  },
  {
   "cell_type": "markdown",
   "id": "8d92cbf9",
   "metadata": {},
   "source": [
    "# Problem 93 (Even Number Printer)\n",
    "Write a Python program to print all even numbers from 1 to 20. Use a `for` loop and `continue` to skip odd numbers."
   ]
  },
  {
   "cell_type": "code",
   "execution_count": 7,
   "id": "95175e32",
   "metadata": {},
   "outputs": [
    {
     "name": "stdout",
     "output_type": "stream",
     "text": [
      "2\n",
      "4\n",
      "6\n",
      "8\n",
      "10\n",
      "12\n",
      "14\n",
      "16\n",
      "18\n",
      "20\n"
     ]
    }
   ],
   "source": [
    "for number in range(1, 21):\n",
    "    \n",
    "    if number % 2 != 0:\n",
    "        continue\n",
    "        \n",
    "    print(number)\n"
   ]
  },
  {
   "cell_type": "markdown",
   "id": "79b67d33",
   "metadata": {},
   "source": [
    "# Problem 94: (Password Validator)\n",
    "Write a Python program that takes a password as input and checks if it meets the following criteria: at least 8 characters long, contains both uppercase and lowercase letters, and has at least one digit. If the password is valid, print “Password accepted.” If not, use `continue` to prompt the user to enter a valid password."
   ]
  },
  {
   "cell_type": "code",
   "execution_count": 2,
   "id": "e856e53a",
   "metadata": {},
   "outputs": [
    {
     "name": "stdout",
     "output_type": "stream",
     "text": [
      "Enter a password: jdthh\n",
      "Invalid password. Please enter a password.\n",
      "Enter a password: 8Fgjjjjj\n",
      "Password accepted.\n"
     ]
    }
   ],
   "source": [
    "while True:\n",
    "    password = input(\"Enter a password: \")\n",
    "\n",
    "    if len(password) < 8 or not any(char.isupper() for char in password) or not any(char.islower() for char in password) or not any(char.isdigit() for char in password):\n",
    "        \n",
    "        print(\"Invalid password. Please enter a password.\")\n",
    "        continue\n",
    "        \n",
    "    else:\n",
    "        print(\"Password accepted.\")\n",
    "        break\n"
   ]
  },
  {
   "cell_type": "code",
   "execution_count": 3,
   "id": "dc250ae0",
   "metadata": {},
   "outputs": [
    {
     "name": "stdout",
     "output_type": "stream",
     "text": [
      "Enter a password: uhgy\n",
      "Enter a valid Passward.\n",
      "Enter a password: 5Lhhhhhh\n",
      "Password accepted.\n"
     ]
    }
   ],
   "source": [
    "def validate_password(password):\n",
    "  \n",
    "  if len(password) < 8:\n",
    "    return False\n",
    "\n",
    "  if not any(char.isupper() for char in password):\n",
    "    return False\n",
    "\n",
    "  if not any(char.islower() for char in password):\n",
    "    return False\n",
    "  \n",
    "  if not any(char.isdigit() for char in password):\n",
    "    return False\n",
    "  \n",
    "  return True\n",
    "\n",
    "while True:\n",
    "  password = input(\"Enter a password: \")\n",
    "\n",
    "  if validate_password(password):\n",
    "    print(\"Password accepted.\")\n",
    "    break\n",
    "  else:\n",
    "    print(\"Enter a valid Passward.\")\n"
   ]
  },
  {
   "cell_type": "code",
   "execution_count": 1,
   "id": "79018e15",
   "metadata": {},
   "outputs": [
    {
     "name": "stdout",
     "output_type": "stream",
     "text": [
      "Enter the passward: gjdhr\n",
      "Enter a valid passward.\n"
     ]
    }
   ],
   "source": [
    "import re\n",
    "\n",
    "passward = input('Enter the passward: ')\n",
    "\n",
    "pass_len = len(passward)\n",
    "\n",
    "is_valid = False\n",
    "\n",
    "while True:\n",
    "    if pass_len < 8: break\n",
    "    \n",
    "    elif not re.search('[A-Z]',passward): break\n",
    "        \n",
    "    elif not re.search('[a-z]',passward): break\n",
    "        \n",
    "    elif not re.search('[0-9]',passward): break\n",
    "        \n",
    "    elif re.search('\\s',passward): break\n",
    "    \n",
    "    else:\n",
    "        is_valid = True\n",
    "        \n",
    "if is_valid:\n",
    "    print('Passward Accepted')\n",
    "\n",
    "else:\n",
    "    print('Enter a valid passward.')"
   ]
  },
  {
   "cell_type": "markdown",
   "id": "a31f6e10",
   "metadata": {},
   "source": [
    "# Problem 95: (Divisible by 3 or 5)\n",
    "Write a Python program to print all numbers from 1 to 50 that are divisible by either 3 or 5. Use a `for` loop and `continue` to skip numbers that are not divisible by either 3 or 5."
   ]
  },
  {
   "cell_type": "code",
   "execution_count": 2,
   "id": "edd9021b",
   "metadata": {},
   "outputs": [
    {
     "name": "stdout",
     "output_type": "stream",
     "text": [
      "3\n",
      "5\n",
      "6\n",
      "9\n",
      "10\n",
      "12\n",
      "15\n",
      "18\n",
      "20\n",
      "21\n",
      "24\n",
      "25\n",
      "27\n",
      "30\n",
      "33\n",
      "35\n",
      "36\n",
      "39\n",
      "40\n",
      "42\n",
      "45\n",
      "48\n",
      "50\n"
     ]
    }
   ],
   "source": [
    "for number in range(1, 51):\n",
    "    \n",
    "    if number % 3 != 0 and number % 5 != 0:\n",
    "        continue\n",
    "    \n",
    "    print(number)\n"
   ]
  },
  {
   "cell_type": "markdown",
   "id": "49f43d19",
   "metadata": {},
   "source": [
    "# Problem 96: (Positive Number Sum)\n",
    "Write a Python program that takes positive numbers as input until a negative number is entered. Then, calculate and print the sum of all positive numbers entered. Use a `while` loop and `break` to exit the loop when a negative number is encountered."
   ]
  },
  {
   "cell_type": "code",
   "execution_count": 1,
   "id": "c6c9954a",
   "metadata": {},
   "outputs": [
    {
     "name": "stdout",
     "output_type": "stream",
     "text": [
      "Enter a positive number (or a negative number to exit): 2\n",
      "Enter a positive number (or a negative number to exit): 5\n",
      "Enter a positive number (or a negative number to exit): 8\n",
      "Enter a positive number (or a negative number to exit): -6\n",
      "The sum of positive numbers is: 15.0\n"
     ]
    }
   ],
   "source": [
    "total_sum = 0\n",
    "\n",
    "while True:\n",
    "    number = float(input(\"Enter a positive number (or a negative number to exit): \"))\n",
    "\n",
    "    if number >= 0:\n",
    "        total_sum += number\n",
    "        \n",
    "    else:\n",
    "        break\n",
    "\n",
    "print(f\"The sum of positive numbers is: {total_sum}\")\n"
   ]
  },
  {
   "cell_type": "markdown",
   "id": "22461c79",
   "metadata": {},
   "source": [
    "# Problem 97: (Word Palindrome Checker)\n",
    "Write a Python program that takes a word as input and checks if it is a palindrome (reads the same forwards and backward). Use `continue` to skip checking the word if its length is less than 3 characters."
   ]
  },
  {
   "cell_type": "code",
   "execution_count": null,
   "id": "e412d01d",
   "metadata": {},
   "outputs": [],
   "source": [
    "s = input('Enter a string to check: ')\n",
    "s = s.replace(\" \", \"\").lower()\n",
    "\n",
    "start = 0\n",
    "end = len(s)-1\n",
    "flag = True\n",
    "while start < end:\n",
    "    \n",
    "    if len(s) < 3:\n",
    "        continue\n",
    "    \n",
    "    if s[start] != s[end]:\n",
    "        flag = False\n",
    "    start+=1\n",
    "    end-=1\n",
    "\n",
    "if flag:\n",
    "    print(f'Given string {s.upper()} is a palindrome.')\n",
    "else:\n",
    "    print(f'Given string {s.upper()} is not a palindrome.')"
   ]
  },
  {
   "cell_type": "markdown",
   "id": "8513acc9",
   "metadata": {},
   "source": [
    "# Problem 98: (Odd Number Finder)\n",
    "Write a Python program to find the first odd number from a list of integers. Use a `for` loop and `break` to stop the loop when the first odd number is found."
   ]
  },
  {
   "cell_type": "code",
   "execution_count": null,
   "id": "9983d33f",
   "metadata": {},
   "outputs": [],
   "source": [
    "int_list = [2, 4, 6, 8, 11, 12, 14, 16]\n",
    "\n",
    "first_odd = None\n",
    "\n",
    "for num in integer_list:\n",
    "    \n",
    "    if num % 2 != 0:\n",
    "        first_odd = num\n",
    "        break\n",
    "\n",
    "if first_odd is not None:\n",
    "    print(f\"The first odd number in the list is: {first_odd}\")\n",
    "else:\n",
    "    print(\"No odd number found in the list.\")\n"
   ]
  },
  {
   "cell_type": "markdown",
   "id": "47d188a8",
   "metadata": {},
   "source": [
    "# Problem 99: (Number Guessing Game)\n",
    "Write a Python program that generates a random number between 1 and 100 and lets the user guess the number. Use a `while` loop, `break` when the correct number is guessed, and `continue` to keep prompting the user until they guess correctly."
   ]
  },
  {
   "cell_type": "code",
   "execution_count": 14,
   "id": "52210bd7",
   "metadata": {},
   "outputs": [
    {
     "name": "stdout",
     "output_type": "stream",
     "text": [
      "Guess a num between 1 and 2010\n",
      "Your guess is too low.\n",
      "Guess again: 12\n",
      "Your guess is too low.\n",
      "Guess again: 15\n",
      "Your guess is too low.\n",
      "Guess again: 18\n",
      "Your guess is too low.\n",
      "Guess again: 20\n",
      "Your guess is too high.\n",
      "Guess again: 19\n",
      "You guessed it right\n"
     ]
    }
   ],
   "source": [
    "import random\n",
    "num = random.randint(1,20)\n",
    " \n",
    "guess = int(input('Guess a num between 1 and 20'))\n",
    "\n",
    "while guess != num:\n",
    "    \n",
    "    if guess < num:\n",
    "        print(\"Your guess is too low.\")\n",
    "    \n",
    "    elif guess > num:\n",
    "        print(\"Your guess is too high.\")\n",
    "        \n",
    "    guess = int(input(\"Guess again: \"))\n",
    "\n",
    "print('You guessed it right')"
   ]
  },
  {
   "cell_type": "code",
   "execution_count": 15,
   "id": "99656c4b",
   "metadata": {},
   "outputs": [
    {
     "name": "stdout",
     "output_type": "stream",
     "text": [
      "Enter your guess: 15\n",
      "Too high! Try again.\n",
      "Enter your guess: 12\n",
      "Too high! Try again.\n",
      "Enter your guess: 9\n",
      "Too high! Try again.\n",
      "Enter your guess: 5\n",
      "Too low! Try again.\n",
      "Enter your guess: 7\n",
      "Too high! Try again.\n",
      "Enter your guess: 6\n",
      "You guessed the correct number 6 in 6 attempts.\n"
     ]
    }
   ],
   "source": [
    "import random\n",
    "\n",
    "secret_number = random.randint(1, 20)\n",
    "    \n",
    "attempts = 0\n",
    "\n",
    "while True:\n",
    "    guess = int(input(\"Enter your guess: \"))\n",
    "    attempts += 1\n",
    "    \n",
    "    if guess < secret_number:\n",
    "        print(\"Too low! Try again.\")\n",
    "    elif guess > secret_number:\n",
    "        print(\"Too high! Try again.\")\n",
    "    else:\n",
    "        print(f\"You guessed the correct number {secret_number} in {attempts} attempts.\")\n",
    "        break"
   ]
  },
  {
   "cell_type": "markdown",
   "id": "480bd11d",
   "metadata": {},
   "source": [
    "# Problem 100: (Vowel Counter)\n",
    "Write a Python program that takes a string as input and counts the number of vowels (a, e, i, o, u) in it. Use a `for` loop and `continue` to skip counting non-vowel characters."
   ]
  },
  {
   "cell_type": "code",
   "execution_count": null,
   "id": "eef49a40",
   "metadata": {},
   "outputs": [],
   "source": [
    "input_string = input(\"Enter a string: \")\n",
    "\n",
    "vowel_count = 0\n",
    "\n",
    "for char in input_string:\n",
    "  \n",
    "    if char.lower() not in ['a', 'e', 'i', 'o', 'u']:\n",
    "        continue\n",
    "    \n",
    "    vowel_count += 1\n",
    "\n",
    "print(f\"The number of vowels in the input string is: {vowel_count}\")\n"
   ]
  },
  {
   "cell_type": "markdown",
   "id": "4da228d2",
   "metadata": {},
   "source": [
    "# Problem 101: (Unique Characters) \n",
    "Write a Python program that takes a string as input and checks if it contains all unique characters (no character repeats). Use a `for` loop and `break` when a character repeats."
   ]
  },
  {
   "cell_type": "code",
   "execution_count": 4,
   "id": "94b9a581",
   "metadata": {},
   "outputs": [
    {
     "name": "stdout",
     "output_type": "stream",
     "text": [
      "Enter a string: love\n",
      "The string contains all unique characters.\n"
     ]
    }
   ],
   "source": [
    "input_string = input(\"Enter a string: \")\n",
    "\n",
    "unique_characters = set()\n",
    "\n",
    "for char in input_string:\n",
    "    \n",
    "    if char in unique_characters:\n",
    "        print(\"The string does not contain all unique characters.\")\n",
    "        break\n",
    "    unique_characters.add(char)\n",
    "else:\n",
    "    print(\"The string contains all unique characters.\")\n"
   ]
  },
  {
   "cell_type": "markdown",
   "id": "27048973",
   "metadata": {},
   "source": [
    "# Functions Problems: (102 -107)"
   ]
  },
  {
   "cell_type": "markdown",
   "id": "b49afe82",
   "metadata": {},
   "source": [
    "# Problem 102: (Factorial Calculator)\n",
    "Write a Python function called `factorial` that takes an integer as input and returns its factorial. Test the function with different values."
   ]
  },
  {
   "cell_type": "code",
   "execution_count": 17,
   "id": "90d37c14",
   "metadata": {},
   "outputs": [
    {
     "name": "stdout",
     "output_type": "stream",
     "text": [
      "Enter a number: 5\n",
      "The factorial of 5 is: 120\n"
     ]
    }
   ],
   "source": [
    "def factorial(n):\n",
    "    if n < 0:\n",
    "        return \"Factorial is not defined for negative numbers.\"\n",
    "    elif n == 0 or n == 1:\n",
    "        return 1\n",
    "    else:\n",
    "        return n * factorial(n - 1)\n",
    "\n",
    "num = int(input('Enter a number: '))\n",
    "result = factorial(num)\n",
    "print(f\"The factorial of {num} is: {result}\")\n"
   ]
  },
  {
   "cell_type": "markdown",
   "id": "89ddc264",
   "metadata": {},
   "source": [
    "# Problem 103: (Palindrome Checker)\n",
    "Write a Python function called `is_palindrome` that takes a string as input and returns `True` if it is a palindrome and `False` otherwise. Test the function with different words."
   ]
  },
  {
   "cell_type": "code",
   "execution_count": 27,
   "id": "7b143ad2",
   "metadata": {},
   "outputs": [
    {
     "name": "stdout",
     "output_type": "stream",
     "text": [
      "Enter a string to check palindrome: madam\n"
     ]
    },
    {
     "data": {
      "text/plain": [
       "True"
      ]
     },
     "execution_count": 27,
     "metadata": {},
     "output_type": "execute_result"
    }
   ],
   "source": [
    "def is_palindrome(s):\n",
    "    s = s.replace(\" \", \"\").lower()\n",
    "    left, right = 0, len(s) - 1\n",
    "    \n",
    "    while left < right:\n",
    "        if s[left] != s[right]:\n",
    "            return False\n",
    "        left += 1\n",
    "        right -= 1\n",
    "    \n",
    "    return True\n",
    "\n",
    "\n",
    "string = input(\"Enter a string to check palindrome: \")\n",
    "\n",
    "is_palindrome(string)"
   ]
  },
  {
   "cell_type": "markdown",
   "id": "29db1413",
   "metadata": {},
   "source": [
    "# Problem 104: (Even or Odd Checker) \n",
    "Write a Python function called `even_or_odd` that takes an integer as input and returns “Even” if the number is even and “Odd” if the number is odd. Test the function with different numbers."
   ]
  },
  {
   "cell_type": "code",
   "execution_count": 28,
   "id": "e91f3815",
   "metadata": {},
   "outputs": [
    {
     "name": "stdout",
     "output_type": "stream",
     "text": [
      "Enter a number: 7\n",
      "The number 7 is Odd.\n"
     ]
    }
   ],
   "source": [
    "def even_or_odd(a):\n",
    "    if a % 2 ==0:\n",
    "        return \"Even\"\n",
    "    else:\n",
    "        return \"Odd\"\n",
    "\n",
    "num = int(input('Enter a number: '))\n",
    "result = even_or_odd(num)\n",
    "print(f\"The number {num} is {result}.\")"
   ]
  },
  {
   "cell_type": "markdown",
   "id": "50ef686c",
   "metadata": {},
   "source": [
    "# Problem 105: (List Sum Calculator)\n",
    "Write a Python function called `list_sum` that takes a list of integers as input and returns the sum of all elements in the list. Test the function with different lists."
   ]
  },
  {
   "cell_type": "code",
   "execution_count": 1,
   "id": "368bfe2b",
   "metadata": {},
   "outputs": [
    {
     "name": "stdout",
     "output_type": "stream",
     "text": [
      "Sum of list1: 15\n",
      "Sum of list2: 150\n",
      "Sum of list3: -15\n"
     ]
    }
   ],
   "source": [
    "def list_sum(input_list):\n",
    "    total_sum = sum(input_list)\n",
    "    return total_sum\n",
    "\n",
    "list1 = [1, 2, 3, 4, 5]\n",
    "list2 = [10, 20, 30, 40, 50]\n",
    "list3 = [-1, -2, -3, -4, -5]\n",
    "\n",
    "result1 = list_sum(list1)\n",
    "result2 = list_sum(list2)\n",
    "result3 = list_sum(list3)\n",
    "\n",
    "print(f\"Sum of list1: {result1}\")\n",
    "print(f\"Sum of list2: {result2}\")\n",
    "print(f\"Sum of list3: {result3}\")\n"
   ]
  },
  {
   "cell_type": "markdown",
   "id": "920b02f9",
   "metadata": {},
   "source": [
    "# Problem 106: (Greatest Common Divisor (GCD) Calculator)\n",
    "Write a Python function called `gcd` that takes two integers as input and returns their greatest common divisor. Test the function with different pairs of numbers."
   ]
  },
  {
   "cell_type": "code",
   "execution_count": 2,
   "id": "ae6748f0",
   "metadata": {
    "scrolled": true
   },
   "outputs": [
    {
     "name": "stdout",
     "output_type": "stream",
     "text": [
      "Enter the first number: 120\n",
      "Enter the second number: 210\n",
      "The GCD of 120 and 210 is: 30\n"
     ]
    }
   ],
   "source": [
    "def gcd(a, b):\n",
    "    while b:\n",
    "        a, b = b, a % b\n",
    "    return a\n",
    "\n",
    "num1 = int(input(\"Enter the first number: \"))\n",
    "num2 = int(input(\"Enter the second number: \"))\n",
    "\n",
    "result = gcd(num1, num2)\n",
    "print(f\"The GCD of {num1} and {num2} is: {result}\")"
   ]
  },
  {
   "cell_type": "markdown",
   "id": "396087a8",
   "metadata": {},
   "source": [
    "# Problem 107: (Leap Year Checker)\n",
    "Write a Python function called `is_leap_year` that takes a year as input and returns `True` if it is a leap year and `False` otherwise. Test the function with different years."
   ]
  },
  {
   "cell_type": "code",
   "execution_count": 3,
   "id": "e5ad7620",
   "metadata": {},
   "outputs": [
    {
     "name": "stdout",
     "output_type": "stream",
     "text": [
      "Is 2020 a leap year? True\n",
      "Is 2021 a leap year? False\n",
      "Is 2000 a leap year? True\n",
      "Is 1900 a leap year? False\n"
     ]
    }
   ],
   "source": [
    "def is_leap_year(year):\n",
    "    # Leap years are divisible by 4\n",
    "    # However, years divisible by 100 are not leap years, unless they are also divisible by 400\n",
    "    if (year % 4 == 0 and year % 100 != 0) or (year % 400 == 0):\n",
    "        return True\n",
    "    else:\n",
    "        return False\n",
    "\n",
    "year1 = 2020\n",
    "year2 = 2021\n",
    "year3 = 2000\n",
    "year4 = 1900\n",
    "\n",
    "print(f\"Is {year1} a leap year? {is_leap_year(year1)}\")\n",
    "print(f\"Is {year2} a leap year? {is_leap_year(year2)}\")\n",
    "print(f\"Is {year3} a leap year? {is_leap_year(year3)}\")\n",
    "print(f\"Is {year4} a leap year? {is_leap_year(year4)}\")\n"
   ]
  },
  {
   "cell_type": "markdown",
   "id": "802f46a8",
   "metadata": {},
   "source": [
    "# Nested Functions Problems: (108 - 110)"
   ]
  },
  {
   "cell_type": "markdown",
   "id": "3ad5d117",
   "metadata": {},
   "source": [
    "# Problem 108: (Math Operations)\n",
    "Write a Python function called `math_operations` that takes three numbers and a string representing an operation (‘add’, ‘subtract’, ‘multiply’, or ‘divide’). The function should return the result of the specified operation on the three numbers. Implement the math operations as nested functions."
   ]
  },
  {
   "cell_type": "code",
   "execution_count": 4,
   "id": "c3ae0ad9",
   "metadata": {},
   "outputs": [
    {
     "name": "stdout",
     "output_type": "stream",
     "text": [
      "Addition result: 9\n",
      "Subtraction result: 3\n",
      "Multiplication result: 24\n",
      "Division result: 2.5\n"
     ]
    }
   ],
   "source": [
    "def math_operations(num1, num2, num3, operation):\n",
    "    def add(x, y, z):\n",
    "        return x + y + z\n",
    "\n",
    "    def subtract(x, y, z):\n",
    "        return x - y - z\n",
    "\n",
    "    def multiply(x, y, z):\n",
    "        return x * y * z\n",
    "\n",
    "    def divide(x, y, z):\n",
    "        # Check for division by zero\n",
    "        if y == 0 or z == 0:\n",
    "            return \"Cannot divide by zero\"\n",
    "        return x / y / z\n",
    "\n",
    "    # Perform the specified operation\n",
    "    if operation == 'add':\n",
    "        return add(num1, num2, num3)\n",
    "    elif operation == 'subtract':\n",
    "        return subtract(num1, num2, num3)\n",
    "    elif operation == 'multiply':\n",
    "        return multiply(num1, num2, num3)\n",
    "    elif operation == 'divide':\n",
    "        return divide(num1, num2, num3)\n",
    "    else:\n",
    "        return \"Invalid operation\"\n",
    "\n",
    "\n",
    "result_add = math_operations(2, 3, 4, 'add')\n",
    "result_subtract = math_operations(10, 5, 2, 'subtract')\n",
    "result_multiply = math_operations(2, 3, 4, 'multiply')\n",
    "result_divide = math_operations(10, 2, 2, 'divide')\n",
    "\n",
    "print(f\"Addition result: {result_add}\")\n",
    "print(f\"Subtraction result: {result_subtract}\")\n",
    "print(f\"Multiplication result: {result_multiply}\")\n",
    "print(f\"Division result: {result_divide}\")"
   ]
  },
  {
   "cell_type": "markdown",
   "id": "67eb4b56",
   "metadata": {},
   "source": [
    "# Problem 109: (Greeting Generator)\n",
    "Write a Python function called `greeting_generator` that takes a name as input and returns a greeting message using nested functions. The greeting message should be customizable (e.g., “Hello, {name}! How are you today?”)."
   ]
  },
  {
   "cell_type": "code",
   "execution_count": 7,
   "id": "164bcd84",
   "metadata": {},
   "outputs": [
    {
     "name": "stdout",
     "output_type": "stream",
     "text": [
      "Enter your name: Roni\n",
      "Hello, Roni! How are you today?\n"
     ]
    }
   ],
   "source": [
    "def greeting_generator(name):\n",
    "    def generate_greeting():\n",
    "        return f\"Hello, {name}!\"\n",
    "\n",
    "    def personalize_greeting():\n",
    "        return f\"{generate_greeting()} How are you today?\"\n",
    "\n",
    "    # Return the personalized greeting\n",
    "    return personalize_greeting()\n",
    "\n",
    "# Test the function with a name\n",
    "name = input(\"Enter your name: \")\n",
    "greeting_message = greeting_generator(name)\n",
    "print(greeting_message)"
   ]
  },
  {
   "cell_type": "markdown",
   "id": "09240edd",
   "metadata": {},
   "source": [
    "# Problem 110: (Temperature Converter)\n",
    "Write a Python function called `temperature_converter` that takes a temperature value and a string representing the scale (‘C’ for Celsius or ‘F’ for Fahrenheit) as input. The function should convert the temperature from one scale to the other using nested functions and return the converted value."
   ]
  },
  {
   "cell_type": "code",
   "execution_count": 9,
   "id": "35ae636e",
   "metadata": {},
   "outputs": [
    {
     "name": "stdout",
     "output_type": "stream",
     "text": [
      "Enter the temperature value: 100\n",
      "Enter the temperature scale (C/F): C\n",
      "100.0°C is 212.0°F\n"
     ]
    }
   ],
   "source": [
    "def temperature_converter(temperature, scale):\n",
    "    def celsius_to_fahrenheit(celsius):\n",
    "        return celsius * 9/5 + 32\n",
    "\n",
    "    def fahrenheit_to_celsius(fahrenheit):\n",
    "        return (fahrenheit - 32) * 5/9\n",
    "\n",
    "    # Perform the temperature conversion based on the input scale\n",
    "    if scale == 'C':\n",
    "        converted_temperature = celsius_to_fahrenheit(temperature)\n",
    "        return f\"{temperature}°C is {converted_temperature}°F\"\n",
    "    elif scale == 'F':\n",
    "        converted_temperature = fahrenheit_to_celsius(temperature)\n",
    "        return f\"{temperature}°F is {converted_temperature}°C\"\n",
    "    else:\n",
    "        return \"Invalid scale. Use 'C' for Celsius or 'F' for Fahrenheit.\"\n",
    "\n",
    "# Test the function with a temperature and scale\n",
    "temperature_value = float(input(\"Enter the temperature value: \"))\n",
    "temperature_scale = input(\"Enter the temperature scale (C/F): \")\n",
    "\n",
    "result = temperature_converter(temperature_value, temperature_scale)\n",
    "print(result)"
   ]
  },
  {
   "cell_type": "markdown",
   "id": "fb7a0962",
   "metadata": {},
   "source": [
    "# Recursion Problems: (111 - 115)"
   ]
  },
  {
   "cell_type": "markdown",
   "id": "d38b1ada",
   "metadata": {},
   "source": [
    "# Problem 111. (Factorial Calculation with Recursion)\n",
    "Write a recursive Python function called `factorial` that takes a non-negative integer as input and returns its factorial."
   ]
  },
  {
   "cell_type": "code",
   "execution_count": 17,
   "id": "a0a68d4c",
   "metadata": {},
   "outputs": [
    {
     "name": "stdout",
     "output_type": "stream",
     "text": [
      "Enter a number: 5\n",
      "The factorial of 5 is: 120\n"
     ]
    }
   ],
   "source": [
    "def factorial(n):\n",
    "    if n < 0:\n",
    "        return \"Factorial is not defined for negative numbers.\"\n",
    "    elif n == 0 or n == 1:\n",
    "        return 1\n",
    "    else:\n",
    "        return n * factorial(n - 1)\n",
    "\n",
    "num = int(input('Enter a number: '))\n",
    "result = factorial(num)\n",
    "print(f\"The factorial of {num} is: {result}\")\n"
   ]
  },
  {
   "cell_type": "markdown",
   "id": "669dda33",
   "metadata": {},
   "source": [
    "# Problem 112: (Fibonacci Series) \n",
    "Write a recursive Python function called `Fibonacci` that takes an integer N as input and returns the Nth number in the Fibonacci series. The Fibonacci series is defined as follows: F(0) = 0, F(1) = 1, and F(n) = F(n-1) + F(n-2) for n > 1."
   ]
  },
  {
   "cell_type": "code",
   "execution_count": 1,
   "id": "d662f16e",
   "metadata": {},
   "outputs": [
    {
     "name": "stdout",
     "output_type": "stream",
     "text": [
      "Enter a positive integer (N): 10\n",
      "The 10th number in the Fibonacci series is: 34\n"
     ]
    }
   ],
   "source": [
    "def Fibonacci(N):\n",
    "    if N <= 0:\n",
    "        return \"Invalid input. Please provide a positive integer.\"\n",
    "    elif N == 1:\n",
    "        return 0\n",
    "    elif N == 2:\n",
    "        return 1\n",
    "    else:\n",
    "        return Fibonacci(N - 1) + Fibonacci(N - 2)\n",
    "\n",
    "N = int(input(\"Enter a positive integer (N): \"))\n",
    "result = Fibonacci(N)\n",
    "\n",
    "print(f\"The {N}th number in the Fibonacci series is: {result}\")"
   ]
  },
  {
   "cell_type": "markdown",
   "id": "52899f07",
   "metadata": {},
   "source": [
    "# Problem 113: (The sum of Digits) \n",
    "Write a recursive Python function called `sum_of_digits` that takes an integer as input and returns the sum of its digits."
   ]
  },
  {
   "cell_type": "code",
   "execution_count": 3,
   "id": "1b78b2db",
   "metadata": {},
   "outputs": [
    {
     "name": "stdout",
     "output_type": "stream",
     "text": [
      "Enter an integer: 126\n",
      "The sum of digits of 126 is: 9\n"
     ]
    }
   ],
   "source": [
    "def sum_of_digits(number):\n",
    "    if number < 10:\n",
    "        return number\n",
    "    else:\n",
    "        # Recursive call to get the sum of digits for the remaining part of the number\n",
    "        return number % 10 + sum_of_digits(number // 10)\n",
    "\n",
    "integer_input = int(input(\"Enter an integer: \"))\n",
    "result = sum_of_digits(integer_input)\n",
    "\n",
    "print(f\"The sum of digits of {integer_input} is: {result}\")\n"
   ]
  },
  {
   "cell_type": "markdown",
   "id": "933b53d3",
   "metadata": {},
   "source": [
    "# Power 115: (Power Calculation)\n",
    "Write a recursive Python function called `power` that takes two positive integers, base and exponent, as input and returns the value of base raised to the exponent."
   ]
  },
  {
   "cell_type": "code",
   "execution_count": 5,
   "id": "1f52b0de",
   "metadata": {},
   "outputs": [
    {
     "name": "stdout",
     "output_type": "stream",
     "text": [
      "Enter the base: 5\n",
      "Enter the exponent: 3\n",
      "5 raised to the power of 3 is: 125\n"
     ]
    }
   ],
   "source": [
    "def power(base, exponent):\n",
    "    \n",
    "    if exponent == 0: # Base case: Any number raised to the power of 0 is 1\n",
    "        return 1\n",
    "    else:\n",
    "        return base * power(base, exponent - 1)  # Recursive call to calculate base^exponent\n",
    "\n",
    "base_input = int(input(\"Enter the base: \"))\n",
    "exponent_input = int(input(\"Enter the exponent: \"))\n",
    "\n",
    "result = power(base_input, exponent_input)\n",
    "\n",
    "print(f\"{base_input} raised to the power of {exponent_input} is: {result}\")\n"
   ]
  }
 ],
 "metadata": {
  "kernelspec": {
   "display_name": "Python 3 (ipykernel)",
   "language": "python",
   "name": "python3"
  },
  "language_info": {
   "codemirror_mode": {
    "name": "ipython",
    "version": 3
   },
   "file_extension": ".py",
   "mimetype": "text/x-python",
   "name": "python",
   "nbconvert_exporter": "python",
   "pygments_lexer": "ipython3",
   "version": "3.10.9"
  }
 },
 "nbformat": 4,
 "nbformat_minor": 5
}
